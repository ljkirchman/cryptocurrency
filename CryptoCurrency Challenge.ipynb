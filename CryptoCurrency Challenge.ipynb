{
 "cells": [
  {
   "cell_type": "code",
   "execution_count": 15,
   "metadata": {},
   "outputs": [],
   "source": [
    "# Import dependencies\n",
    "import pandas as pd\n",
    "import plotly.express as px\n",
    "import hvplot.pandas\n",
    "from sklearn.preprocessing import StandardScaler\n",
    "from sklearn.preprocessing import LabelEncoder\n",
    "from sklearn.decomposition import PCA\n",
    "from sklearn.cluster import KMeans\n"
   ]
  },
  {
   "cell_type": "code",
   "execution_count": 16,
   "metadata": {},
   "outputs": [
    {
     "data": {
      "text/html": [
       "<div>\n",
       "<style scoped>\n",
       "    .dataframe tbody tr th:only-of-type {\n",
       "        vertical-align: middle;\n",
       "    }\n",
       "\n",
       "    .dataframe tbody tr th {\n",
       "        vertical-align: top;\n",
       "    }\n",
       "\n",
       "    .dataframe thead th {\n",
       "        text-align: right;\n",
       "    }\n",
       "</style>\n",
       "<table border=\"1\" class=\"dataframe\">\n",
       "  <thead>\n",
       "    <tr style=\"text-align: right;\">\n",
       "      <th></th>\n",
       "      <th>CoinName</th>\n",
       "      <th>Algorithm</th>\n",
       "      <th>IsTrading</th>\n",
       "      <th>ProofType</th>\n",
       "      <th>TotalCoinsMined</th>\n",
       "      <th>TotalCoinSupply</th>\n",
       "    </tr>\n",
       "  </thead>\n",
       "  <tbody>\n",
       "    <tr>\n",
       "      <th>42</th>\n",
       "      <td>42 Coin</td>\n",
       "      <td>Scrypt</td>\n",
       "      <td>True</td>\n",
       "      <td>PoW/PoS</td>\n",
       "      <td>4.199995e+01</td>\n",
       "      <td>42</td>\n",
       "    </tr>\n",
       "    <tr>\n",
       "      <th>365</th>\n",
       "      <td>365Coin</td>\n",
       "      <td>X11</td>\n",
       "      <td>True</td>\n",
       "      <td>PoW/PoS</td>\n",
       "      <td>NaN</td>\n",
       "      <td>2300000000</td>\n",
       "    </tr>\n",
       "    <tr>\n",
       "      <th>404</th>\n",
       "      <td>404Coin</td>\n",
       "      <td>Scrypt</td>\n",
       "      <td>True</td>\n",
       "      <td>PoW/PoS</td>\n",
       "      <td>1.055185e+09</td>\n",
       "      <td>532000000</td>\n",
       "    </tr>\n",
       "    <tr>\n",
       "      <th>611</th>\n",
       "      <td>SixEleven</td>\n",
       "      <td>SHA-256</td>\n",
       "      <td>True</td>\n",
       "      <td>PoW</td>\n",
       "      <td>NaN</td>\n",
       "      <td>611000</td>\n",
       "    </tr>\n",
       "    <tr>\n",
       "      <th>808</th>\n",
       "      <td>808</td>\n",
       "      <td>SHA-256</td>\n",
       "      <td>True</td>\n",
       "      <td>PoW/PoS</td>\n",
       "      <td>0.000000e+00</td>\n",
       "      <td>0</td>\n",
       "    </tr>\n",
       "  </tbody>\n",
       "</table>\n",
       "</div>"
      ],
      "text/plain": [
       "      CoinName Algorithm  IsTrading ProofType  TotalCoinsMined TotalCoinSupply\n",
       "42     42 Coin    Scrypt       True   PoW/PoS     4.199995e+01              42\n",
       "365    365Coin       X11       True   PoW/PoS              NaN      2300000000\n",
       "404    404Coin    Scrypt       True   PoW/PoS     1.055185e+09       532000000\n",
       "611  SixEleven   SHA-256       True       PoW              NaN          611000\n",
       "808        808   SHA-256       True   PoW/PoS     0.000000e+00               0"
      ]
     },
     "execution_count": 16,
     "metadata": {},
     "output_type": "execute_result"
    }
   ],
   "source": [
    "# Import dataset\n",
    "file_path = \"crypto_data.csv\"\n",
    "crypto_df = pd.read_csv(file_path, index_col=0)\n",
    "crypto_df.head()"
   ]
  },
  {
   "cell_type": "markdown",
   "metadata": {},
   "source": [
    "## Exploratory Data Analysis, Data Pre-Processing & Cleaning"
   ]
  },
  {
   "cell_type": "code",
   "execution_count": 17,
   "metadata": {},
   "outputs": [
    {
     "data": {
      "text/plain": [
       "CoinName            object\n",
       "Algorithm           object\n",
       "IsTrading             bool\n",
       "ProofType           object\n",
       "TotalCoinsMined    float64\n",
       "TotalCoinSupply     object\n",
       "dtype: object"
      ]
     },
     "execution_count": 17,
     "metadata": {},
     "output_type": "execute_result"
    }
   ],
   "source": [
    "# Check Data types\n",
    "crypto_df.dtypes"
   ]
  },
  {
   "cell_type": "code",
   "execution_count": 18,
   "metadata": {},
   "outputs": [
    {
     "data": {
      "text/plain": [
       "CoinName           1252\n",
       "Algorithm          1252\n",
       "IsTrading          1252\n",
       "ProofType          1252\n",
       "TotalCoinsMined     744\n",
       "TotalCoinSupply    1252\n",
       "dtype: int64"
      ]
     },
     "execution_count": 18,
     "metadata": {},
     "output_type": "execute_result"
    }
   ],
   "source": [
    "# Check the number of rows\n",
    "crypto_df.count()"
   ]
  },
  {
   "cell_type": "code",
   "execution_count": 19,
   "metadata": {},
   "outputs": [
    {
     "data": {
      "text/plain": [
       "CoinName            object\n",
       "Algorithm           object\n",
       "IsTrading             bool\n",
       "ProofType           object\n",
       "TotalCoinsMined    float64\n",
       "TotalCoinSupply    float64\n",
       "dtype: object"
      ]
     },
     "execution_count": 19,
     "metadata": {},
     "output_type": "execute_result"
    }
   ],
   "source": [
    "# Convert TotalCoinSupply to float64\n",
    "crypto_df['TotalCoinSupply'] = pd.to_numeric(crypto_df['TotalCoinSupply'],errors='coerce')\n",
    "crypto_df.dtypes"
   ]
  },
  {
   "cell_type": "code",
   "execution_count": 20,
   "metadata": {},
   "outputs": [
    {
     "data": {
      "text/plain": [
       "CoinName           1144\n",
       "Algorithm          1144\n",
       "IsTrading          1144\n",
       "ProofType          1144\n",
       "TotalCoinsMined     685\n",
       "TotalCoinSupply    1141\n",
       "dtype: int64"
      ]
     },
     "execution_count": 20,
     "metadata": {},
     "output_type": "execute_result"
    }
   ],
   "source": [
    "# Remove all cryptocurrencies that aren't trading\n",
    "# Remove all cryptocurrencies that aren’t trading.\n",
    "\n",
    "crypto_df = crypto_df[crypto_df['IsTrading']== True]\n",
    "\n",
    "crypto_df.count()"
   ]
  },
  {
   "cell_type": "code",
   "execution_count": 21,
   "metadata": {},
   "outputs": [
    {
     "data": {
      "text/html": [
       "<div>\n",
       "<style scoped>\n",
       "    .dataframe tbody tr th:only-of-type {\n",
       "        vertical-align: middle;\n",
       "    }\n",
       "\n",
       "    .dataframe tbody tr th {\n",
       "        vertical-align: top;\n",
       "    }\n",
       "\n",
       "    .dataframe thead th {\n",
       "        text-align: right;\n",
       "    }\n",
       "</style>\n",
       "<table border=\"1\" class=\"dataframe\">\n",
       "  <thead>\n",
       "    <tr style=\"text-align: right;\">\n",
       "      <th></th>\n",
       "      <th>CoinName</th>\n",
       "      <th>Algorithm</th>\n",
       "      <th>IsTrading</th>\n",
       "      <th>ProofType</th>\n",
       "      <th>TotalCoinsMined</th>\n",
       "      <th>TotalCoinSupply</th>\n",
       "    </tr>\n",
       "  </thead>\n",
       "  <tbody>\n",
       "    <tr>\n",
       "      <th>42</th>\n",
       "      <td>42 Coin</td>\n",
       "      <td>Scrypt</td>\n",
       "      <td>True</td>\n",
       "      <td>PoW/PoS</td>\n",
       "      <td>4.199995e+01</td>\n",
       "      <td>4.200000e+01</td>\n",
       "    </tr>\n",
       "    <tr>\n",
       "      <th>365</th>\n",
       "      <td>365Coin</td>\n",
       "      <td>X11</td>\n",
       "      <td>True</td>\n",
       "      <td>PoW/PoS</td>\n",
       "      <td>NaN</td>\n",
       "      <td>2.300000e+09</td>\n",
       "    </tr>\n",
       "    <tr>\n",
       "      <th>404</th>\n",
       "      <td>404Coin</td>\n",
       "      <td>Scrypt</td>\n",
       "      <td>True</td>\n",
       "      <td>PoW/PoS</td>\n",
       "      <td>1.055185e+09</td>\n",
       "      <td>5.320000e+08</td>\n",
       "    </tr>\n",
       "    <tr>\n",
       "      <th>611</th>\n",
       "      <td>SixEleven</td>\n",
       "      <td>SHA-256</td>\n",
       "      <td>True</td>\n",
       "      <td>PoW</td>\n",
       "      <td>NaN</td>\n",
       "      <td>6.110000e+05</td>\n",
       "    </tr>\n",
       "    <tr>\n",
       "      <th>808</th>\n",
       "      <td>808</td>\n",
       "      <td>SHA-256</td>\n",
       "      <td>True</td>\n",
       "      <td>PoW/PoS</td>\n",
       "      <td>0.000000e+00</td>\n",
       "      <td>0.000000e+00</td>\n",
       "    </tr>\n",
       "  </tbody>\n",
       "</table>\n",
       "</div>"
      ],
      "text/plain": [
       "      CoinName Algorithm  IsTrading ProofType  TotalCoinsMined  \\\n",
       "42     42 Coin    Scrypt       True   PoW/PoS     4.199995e+01   \n",
       "365    365Coin       X11       True   PoW/PoS              NaN   \n",
       "404    404Coin    Scrypt       True   PoW/PoS     1.055185e+09   \n",
       "611  SixEleven   SHA-256       True       PoW              NaN   \n",
       "808        808   SHA-256       True   PoW/PoS     0.000000e+00   \n",
       "\n",
       "     TotalCoinSupply  \n",
       "42      4.200000e+01  \n",
       "365     2.300000e+09  \n",
       "404     5.320000e+08  \n",
       "611     6.110000e+05  \n",
       "808     0.000000e+00  "
      ]
     },
     "execution_count": 21,
     "metadata": {},
     "output_type": "execute_result"
    }
   ],
   "source": [
    "crypto_df.head()"
   ]
  },
  {
   "cell_type": "code",
   "execution_count": 22,
   "metadata": {},
   "outputs": [
    {
     "data": {
      "text/html": [
       "<div>\n",
       "<style scoped>\n",
       "    .dataframe tbody tr th:only-of-type {\n",
       "        vertical-align: middle;\n",
       "    }\n",
       "\n",
       "    .dataframe tbody tr th {\n",
       "        vertical-align: top;\n",
       "    }\n",
       "\n",
       "    .dataframe thead th {\n",
       "        text-align: right;\n",
       "    }\n",
       "</style>\n",
       "<table border=\"1\" class=\"dataframe\">\n",
       "  <thead>\n",
       "    <tr style=\"text-align: right;\">\n",
       "      <th></th>\n",
       "      <th>Algorithm</th>\n",
       "      <th>count</th>\n",
       "    </tr>\n",
       "  </thead>\n",
       "  <tbody>\n",
       "    <tr>\n",
       "      <th>0</th>\n",
       "      <td>1GB AES Pattern Search</td>\n",
       "      <td>1</td>\n",
       "    </tr>\n",
       "    <tr>\n",
       "      <th>33</th>\n",
       "      <td>Jump Consistent Hash</td>\n",
       "      <td>1</td>\n",
       "    </tr>\n",
       "    <tr>\n",
       "      <th>39</th>\n",
       "      <td>M7 POW</td>\n",
       "      <td>1</td>\n",
       "    </tr>\n",
       "    <tr>\n",
       "      <th>40</th>\n",
       "      <td>Momentum</td>\n",
       "      <td>1</td>\n",
       "    </tr>\n",
       "    <tr>\n",
       "      <th>87</th>\n",
       "      <td>Zhash</td>\n",
       "      <td>1</td>\n",
       "    </tr>\n",
       "  </tbody>\n",
       "</table>\n",
       "</div>"
      ],
      "text/plain": [
       "                 Algorithm  count\n",
       "0   1GB AES Pattern Search      1\n",
       "33    Jump Consistent Hash      1\n",
       "39                  M7 POW      1\n",
       "40                Momentum      1\n",
       "87                   Zhash      1"
      ]
     },
     "execution_count": 22,
     "metadata": {},
     "output_type": "execute_result"
    }
   ],
   "source": [
    "# Remove all cryptocurrencies that don't have an algorithm defined\n",
    "crypto_df['Algorithm'].groupby(crypto_df['Algorithm']) \\\n",
    "                             .count() \\\n",
    "                             .reset_index(name='count') \\\n",
    "                             .sort_values(['count'], ascending=True) \\\n",
    "                             .head()"
   ]
  },
  {
   "cell_type": "code",
   "execution_count": 23,
   "metadata": {},
   "outputs": [
    {
     "data": {
      "text/plain": [
       "CoinName           1144\n",
       "Algorithm          1144\n",
       "ProofType          1144\n",
       "TotalCoinsMined     685\n",
       "TotalCoinSupply    1141\n",
       "dtype: int64"
      ]
     },
     "execution_count": 23,
     "metadata": {},
     "output_type": "execute_result"
    }
   ],
   "source": [
    "# Remove the \"IsTrading\" column\n",
    "crypto_df.drop(columns=['IsTrading'], inplace=True)\n",
    "\n",
    "crypto_df.count()"
   ]
  },
  {
   "cell_type": "code",
   "execution_count": 24,
   "metadata": {},
   "outputs": [
    {
     "data": {
      "text/plain": [
       "CoinName           685\n",
       "Algorithm          685\n",
       "ProofType          685\n",
       "TotalCoinsMined    685\n",
       "TotalCoinSupply    685\n",
       "dtype: int64"
      ]
     },
     "execution_count": 24,
     "metadata": {},
     "output_type": "execute_result"
    }
   ],
   "source": [
    "# Remove all cryptocurrencies with at least one null value.\n",
    "crypto_df = crypto_df.dropna()\n",
    "crypto_df.count()"
   ]
  },
  {
   "cell_type": "code",
   "execution_count": 25,
   "metadata": {},
   "outputs": [
    {
     "data": {
      "text/plain": [
       "CoinName           532\n",
       "Algorithm          532\n",
       "ProofType          532\n",
       "TotalCoinsMined    532\n",
       "TotalCoinSupply    532\n",
       "dtype: int64"
      ]
     },
     "execution_count": 25,
     "metadata": {},
     "output_type": "execute_result"
    }
   ],
   "source": [
    "# Remove all cryptocurrencies without coins mined.\n",
    "crypto_df = crypto_df[crypto_df['TotalCoinsMined'] > 0]\n",
    "crypto_df.count()"
   ]
  },
  {
   "cell_type": "code",
   "execution_count": 26,
   "metadata": {},
   "outputs": [
    {
     "data": {
      "text/html": [
       "<div>\n",
       "<style scoped>\n",
       "    .dataframe tbody tr th:only-of-type {\n",
       "        vertical-align: middle;\n",
       "    }\n",
       "\n",
       "    .dataframe tbody tr th {\n",
       "        vertical-align: top;\n",
       "    }\n",
       "\n",
       "    .dataframe thead th {\n",
       "        text-align: right;\n",
       "    }\n",
       "</style>\n",
       "<table border=\"1\" class=\"dataframe\">\n",
       "  <thead>\n",
       "    <tr style=\"text-align: right;\">\n",
       "      <th></th>\n",
       "      <th>CoinName</th>\n",
       "    </tr>\n",
       "  </thead>\n",
       "  <tbody>\n",
       "    <tr>\n",
       "      <th>42</th>\n",
       "      <td>42 Coin</td>\n",
       "    </tr>\n",
       "    <tr>\n",
       "      <th>404</th>\n",
       "      <td>404Coin</td>\n",
       "    </tr>\n",
       "    <tr>\n",
       "      <th>1337</th>\n",
       "      <td>EliteCoin</td>\n",
       "    </tr>\n",
       "    <tr>\n",
       "      <th>BTC</th>\n",
       "      <td>Bitcoin</td>\n",
       "    </tr>\n",
       "    <tr>\n",
       "      <th>ETH</th>\n",
       "      <td>Ethereum</td>\n",
       "    </tr>\n",
       "  </tbody>\n",
       "</table>\n",
       "</div>"
      ],
      "text/plain": [
       "       CoinName\n",
       "42      42 Coin\n",
       "404     404Coin\n",
       "1337  EliteCoin\n",
       "BTC     Bitcoin\n",
       "ETH    Ethereum"
      ]
     },
     "execution_count": 26,
     "metadata": {},
     "output_type": "execute_result"
    }
   ],
   "source": [
    "# Store the names of all cryptocurrencies on a DataFrame named \"coins_name\", and use the crypto_df.index as the index for this new DataFrame\n",
    "coins_name = pd.DataFrame(crypto_df['CoinName'])\n",
    "coins_name.head()"
   ]
  },
  {
   "cell_type": "code",
   "execution_count": 27,
   "metadata": {},
   "outputs": [
    {
     "data": {
      "text/html": [
       "<div>\n",
       "<style scoped>\n",
       "    .dataframe tbody tr th:only-of-type {\n",
       "        vertical-align: middle;\n",
       "    }\n",
       "\n",
       "    .dataframe tbody tr th {\n",
       "        vertical-align: top;\n",
       "    }\n",
       "\n",
       "    .dataframe thead th {\n",
       "        text-align: right;\n",
       "    }\n",
       "</style>\n",
       "<table border=\"1\" class=\"dataframe\">\n",
       "  <thead>\n",
       "    <tr style=\"text-align: right;\">\n",
       "      <th></th>\n",
       "      <th>Algorithm</th>\n",
       "      <th>ProofType</th>\n",
       "      <th>TotalCoinsMined</th>\n",
       "      <th>TotalCoinSupply</th>\n",
       "    </tr>\n",
       "  </thead>\n",
       "  <tbody>\n",
       "    <tr>\n",
       "      <th>42</th>\n",
       "      <td>Scrypt</td>\n",
       "      <td>PoW/PoS</td>\n",
       "      <td>4.199995e+01</td>\n",
       "      <td>4.200000e+01</td>\n",
       "    </tr>\n",
       "    <tr>\n",
       "      <th>404</th>\n",
       "      <td>Scrypt</td>\n",
       "      <td>PoW/PoS</td>\n",
       "      <td>1.055185e+09</td>\n",
       "      <td>5.320000e+08</td>\n",
       "    </tr>\n",
       "    <tr>\n",
       "      <th>1337</th>\n",
       "      <td>X13</td>\n",
       "      <td>PoW/PoS</td>\n",
       "      <td>2.927942e+10</td>\n",
       "      <td>3.141593e+11</td>\n",
       "    </tr>\n",
       "    <tr>\n",
       "      <th>BTC</th>\n",
       "      <td>SHA-256</td>\n",
       "      <td>PoW</td>\n",
       "      <td>1.792718e+07</td>\n",
       "      <td>2.100000e+07</td>\n",
       "    </tr>\n",
       "    <tr>\n",
       "      <th>ETH</th>\n",
       "      <td>Ethash</td>\n",
       "      <td>PoW</td>\n",
       "      <td>1.076842e+08</td>\n",
       "      <td>0.000000e+00</td>\n",
       "    </tr>\n",
       "  </tbody>\n",
       "</table>\n",
       "</div>"
      ],
      "text/plain": [
       "     Algorithm ProofType  TotalCoinsMined  TotalCoinSupply\n",
       "42      Scrypt   PoW/PoS     4.199995e+01     4.200000e+01\n",
       "404     Scrypt   PoW/PoS     1.055185e+09     5.320000e+08\n",
       "1337       X13   PoW/PoS     2.927942e+10     3.141593e+11\n",
       "BTC    SHA-256       PoW     1.792718e+07     2.100000e+07\n",
       "ETH     Ethash       PoW     1.076842e+08     0.000000e+00"
      ]
     },
     "execution_count": 27,
     "metadata": {},
     "output_type": "execute_result"
    }
   ],
   "source": [
    "# Remove the coin name column\n",
    "crypto_df.drop(columns=['CoinName'], inplace=True)\n",
    "crypto_df.head()"
   ]
  },
  {
   "cell_type": "code",
   "execution_count": 28,
   "metadata": {},
   "outputs": [
    {
     "data": {
      "text/html": [
       "<div>\n",
       "<style scoped>\n",
       "    .dataframe tbody tr th:only-of-type {\n",
       "        vertical-align: middle;\n",
       "    }\n",
       "\n",
       "    .dataframe tbody tr th {\n",
       "        vertical-align: top;\n",
       "    }\n",
       "\n",
       "    .dataframe thead th {\n",
       "        text-align: right;\n",
       "    }\n",
       "</style>\n",
       "<table border=\"1\" class=\"dataframe\">\n",
       "  <thead>\n",
       "    <tr style=\"text-align: right;\">\n",
       "      <th></th>\n",
       "      <th>Algorithm</th>\n",
       "      <th>ProofType</th>\n",
       "      <th>TotalCoinsMined</th>\n",
       "      <th>TotalCoinSupply</th>\n",
       "    </tr>\n",
       "  </thead>\n",
       "  <tbody>\n",
       "    <tr>\n",
       "      <th>42</th>\n",
       "      <td>52</td>\n",
       "      <td>15</td>\n",
       "      <td>4.199995e+01</td>\n",
       "      <td>4.200000e+01</td>\n",
       "    </tr>\n",
       "    <tr>\n",
       "      <th>404</th>\n",
       "      <td>52</td>\n",
       "      <td>15</td>\n",
       "      <td>1.055185e+09</td>\n",
       "      <td>5.320000e+08</td>\n",
       "    </tr>\n",
       "    <tr>\n",
       "      <th>1337</th>\n",
       "      <td>66</td>\n",
       "      <td>15</td>\n",
       "      <td>2.927942e+10</td>\n",
       "      <td>3.141593e+11</td>\n",
       "    </tr>\n",
       "    <tr>\n",
       "      <th>BTC</th>\n",
       "      <td>47</td>\n",
       "      <td>12</td>\n",
       "      <td>1.792718e+07</td>\n",
       "      <td>2.100000e+07</td>\n",
       "    </tr>\n",
       "    <tr>\n",
       "      <th>ETH</th>\n",
       "      <td>20</td>\n",
       "      <td>12</td>\n",
       "      <td>1.076842e+08</td>\n",
       "      <td>0.000000e+00</td>\n",
       "    </tr>\n",
       "  </tbody>\n",
       "</table>\n",
       "</div>"
      ],
      "text/plain": [
       "      Algorithm  ProofType  TotalCoinsMined  TotalCoinSupply\n",
       "42           52         15     4.199995e+01     4.200000e+01\n",
       "404          52         15     1.055185e+09     5.320000e+08\n",
       "1337         66         15     2.927942e+10     3.141593e+11\n",
       "BTC          47         12     1.792718e+07     2.100000e+07\n",
       "ETH          20         12     1.076842e+08     0.000000e+00"
      ]
     },
     "execution_count": 28,
     "metadata": {},
     "output_type": "execute_result"
    }
   ],
   "source": [
    "# Create dummy variables for all of the text features, and store the resulting data on a DataFrame named X\n",
    "\n",
    "# Copy the current DataFrame to a new one called \"X\"\n",
    "X = crypto_df.copy()\n",
    "\n",
    "# Encode the text columns\n",
    "le = LabelEncoder()\n",
    "\n",
    "# Transform the text columns\n",
    "X['Algorithm'] = le.fit_transform(X['Algorithm'])\n",
    "X['ProofType'] = le.fit_transform(X['ProofType'])\n",
    "\n",
    "X.head()"
   ]
  },
  {
   "cell_type": "code",
   "execution_count": 29,
   "metadata": {},
   "outputs": [],
   "source": [
    "# Use the StandardScaler from sklearn to standardize all of the data from the X DataFrame.\n",
    "\n",
    "data_scaler = StandardScaler()\n",
    "\n",
    "# Fit\n",
    "X_scaled = data_scaler.fit_transform(X)"
   ]
  },
  {
   "cell_type": "markdown",
   "metadata": {},
   "source": [
    "## Reducing Data Dimensions Using PCA"
   ]
  },
  {
   "cell_type": "code",
   "execution_count": 30,
   "metadata": {},
   "outputs": [
    {
     "name": "stdout",
     "output_type": "stream",
     "text": [
      "[0.4350467  0.28670411 0.20538956]\n"
     ]
    }
   ],
   "source": [
    "# Reduce the dimensions of the X DataFrame down to three principal components\n",
    "\n",
    "# Initialize the PCA model\n",
    "pca = PCA(n_components=3)\n",
    "\n",
    "# Get three principal components\n",
    "X_pca = pca.fit_transform(X_scaled)\n",
    "\n",
    "print(pca.explained_variance_ratio_)"
   ]
  },
  {
   "cell_type": "code",
   "execution_count": 31,
   "metadata": {},
   "outputs": [
    {
     "data": {
      "text/html": [
       "<div>\n",
       "<style scoped>\n",
       "    .dataframe tbody tr th:only-of-type {\n",
       "        vertical-align: middle;\n",
       "    }\n",
       "\n",
       "    .dataframe tbody tr th {\n",
       "        vertical-align: top;\n",
       "    }\n",
       "\n",
       "    .dataframe thead th {\n",
       "        text-align: right;\n",
       "    }\n",
       "</style>\n",
       "<table border=\"1\" class=\"dataframe\">\n",
       "  <thead>\n",
       "    <tr style=\"text-align: right;\">\n",
       "      <th></th>\n",
       "      <th>PC1</th>\n",
       "      <th>PC2</th>\n",
       "      <th>PC3</th>\n",
       "    </tr>\n",
       "  </thead>\n",
       "  <tbody>\n",
       "    <tr>\n",
       "      <th>42</th>\n",
       "      <td>-0.417875</td>\n",
       "      <td>0.810296</td>\n",
       "      <td>0.372138</td>\n",
       "    </tr>\n",
       "    <tr>\n",
       "      <th>404</th>\n",
       "      <td>-0.396564</td>\n",
       "      <td>0.815135</td>\n",
       "      <td>0.373256</td>\n",
       "    </tr>\n",
       "    <tr>\n",
       "      <th>1337</th>\n",
       "      <td>3.124076</td>\n",
       "      <td>2.209780</td>\n",
       "      <td>0.504335</td>\n",
       "    </tr>\n",
       "    <tr>\n",
       "      <th>BTC</th>\n",
       "      <td>-0.192083</td>\n",
       "      <td>0.016266</td>\n",
       "      <td>-0.072910</td>\n",
       "    </tr>\n",
       "    <tr>\n",
       "      <th>ETH</th>\n",
       "      <td>-0.044116</td>\n",
       "      <td>-1.167492</td>\n",
       "      <td>1.012525</td>\n",
       "    </tr>\n",
       "  </tbody>\n",
       "</table>\n",
       "</div>"
      ],
      "text/plain": [
       "           PC1       PC2       PC3\n",
       "42   -0.417875  0.810296  0.372138\n",
       "404  -0.396564  0.815135  0.373256\n",
       "1337  3.124076  2.209780  0.504335\n",
       "BTC  -0.192083  0.016266 -0.072910\n",
       "ETH  -0.044116 -1.167492  1.012525"
      ]
     },
     "execution_count": 31,
     "metadata": {},
     "output_type": "execute_result"
    }
   ],
   "source": [
    "# Create a new DataFrame that uses crypto_df.index as the index for this new DataFrame.\n",
    "pcs_df = pd.DataFrame(data=X_pca, index=X.index, columns=[\"PC1\", \"PC2\", \"PC3\"])\n",
    "pcs_df.head()"
   ]
  },
  {
   "cell_type": "markdown",
   "metadata": {},
   "source": [
    "## Clustering Cryptocurrencies using K-Means"
   ]
  },
  {
   "cell_type": "code",
   "execution_count": 32,
   "metadata": {},
   "outputs": [
    {
     "data": {},
     "metadata": {},
     "output_type": "display_data"
    },
    {
     "data": {
      "application/vnd.holoviews_exec.v0+json": "",
      "text/html": [
       "<div id='1001'>\n",
       "\n",
       "\n",
       "\n",
       "\n",
       "\n",
       "  <div class=\"bk-root\" id=\"cba0edbf-f56f-4083-bef7-c474d04fd33a\" data-root-id=\"1001\"></div>\n",
       "</div>\n",
       "<script type=\"application/javascript\">(function(root) {\n",
       "  function embed_document(root) {\n",
       "  var docs_json = {\"32e29594-ba65-442f-bc5b-bd7bd6f26c15\":{\"roots\":{\"references\":[{\"attributes\":{},\"id\":\"1023\",\"type\":\"SaveTool\"},{\"attributes\":{\"axis_label\":\"inertia\",\"bounds\":\"auto\",\"formatter\":{\"id\":\"1049\"},\"major_label_orientation\":\"horizontal\",\"ticker\":{\"id\":\"1020\"}},\"id\":\"1019\",\"type\":\"LinearAxis\"},{\"attributes\":{\"data\":{\"inertia\":{\"__ndarray__\":\"ApmtpNHTnkB+6/QhbDmUQADjqAAzgIpAoDfxKHrpgUCsrZm3n2N6QFWOm8I7x3VAU98t2v5vckDk4w9CPuNvQALILoJPb2lAVkG0Aq0uZkA=\",\"dtype\":\"float64\",\"order\":\"little\",\"shape\":[10]},\"k\":[1,2,3,4,5,6,7,8,9,10]},\"selected\":{\"id\":\"1037\"},\"selection_policy\":{\"id\":\"1057\"}},\"id\":\"1036\",\"type\":\"ColumnDataSource\"},{\"attributes\":{},\"id\":\"1020\",\"type\":\"BasicTicker\"},{\"attributes\":{\"line_alpha\":0.2,\"line_color\":\"#1f77b3\",\"line_width\":2,\"x\":{\"field\":\"k\"},\"y\":{\"field\":\"inertia\"}},\"id\":\"1041\",\"type\":\"Line\"},{\"attributes\":{},\"id\":\"1057\",\"type\":\"UnionRenderers\"},{\"attributes\":{\"axis\":{\"id\":\"1015\"},\"grid_line_color\":null,\"ticker\":null},\"id\":\"1018\",\"type\":\"Grid\"},{\"attributes\":{},\"id\":\"1027\",\"type\":\"ResetTool\"},{\"attributes\":{\"line_color\":\"#1f77b3\",\"line_width\":2,\"x\":{\"field\":\"k\"},\"y\":{\"field\":\"inertia\"}},\"id\":\"1039\",\"type\":\"Line\"},{\"attributes\":{\"axis\":{\"id\":\"1019\"},\"dimension\":1,\"grid_line_color\":null,\"ticker\":null},\"id\":\"1022\",\"type\":\"Grid\"},{\"attributes\":{\"ticks\":[1,2,3,4,5,6,7,8,9,10]},\"id\":\"1044\",\"type\":\"FixedTicker\"},{\"attributes\":{},\"id\":\"1024\",\"type\":\"PanTool\"},{\"attributes\":{\"end\":2152.504340790276,\"reset_end\":2152.504340790276,\"reset_start\":-2.0909915771287046,\"start\":-2.0909915771287046,\"tags\":[[[\"inertia\",\"inertia\",null]]]},\"id\":\"1004\",\"type\":\"Range1d\"},{\"attributes\":{\"text\":\"\",\"text_color\":{\"value\":\"black\"},\"text_font_size\":{\"value\":\"12pt\"}},\"id\":\"1007\",\"type\":\"Title\"},{\"attributes\":{\"overlay\":{\"id\":\"1028\"}},\"id\":\"1026\",\"type\":\"BoxZoomTool\"},{\"attributes\":{\"active_drag\":\"auto\",\"active_inspect\":\"auto\",\"active_multi\":null,\"active_scroll\":\"auto\",\"active_tap\":\"auto\",\"tools\":[{\"id\":\"1005\"},{\"id\":\"1023\"},{\"id\":\"1024\"},{\"id\":\"1025\"},{\"id\":\"1026\"},{\"id\":\"1027\"}]},\"id\":\"1029\",\"type\":\"Toolbar\"},{\"attributes\":{},\"id\":\"1011\",\"type\":\"LinearScale\"},{\"attributes\":{\"axis_label\":\"k\",\"bounds\":\"auto\",\"formatter\":{\"id\":\"1045\"},\"major_label_orientation\":\"horizontal\",\"ticker\":{\"id\":\"1044\"}},\"id\":\"1015\",\"type\":\"LinearAxis\"},{\"attributes\":{},\"id\":\"1025\",\"type\":\"WheelZoomTool\"},{\"attributes\":{\"children\":[{\"id\":\"1002\"},{\"id\":\"1006\"},{\"id\":\"1065\"}],\"margin\":[0,0,0,0],\"name\":\"Row01521\",\"tags\":[\"embedded\"]},\"id\":\"1001\",\"type\":\"Row\"},{\"attributes\":{\"margin\":[5,5,5,5],\"name\":\"HSpacer01525\",\"sizing_mode\":\"stretch_width\"},\"id\":\"1002\",\"type\":\"Spacer\"},{\"attributes\":{},\"id\":\"1013\",\"type\":\"LinearScale\"},{\"attributes\":{\"bottom_units\":\"screen\",\"fill_alpha\":0.5,\"fill_color\":\"lightgrey\",\"left_units\":\"screen\",\"level\":\"overlay\",\"line_alpha\":1.0,\"line_color\":\"black\",\"line_dash\":[4,4],\"line_width\":2,\"right_units\":\"screen\",\"top_units\":\"screen\"},\"id\":\"1028\",\"type\":\"BoxAnnotation\"},{\"attributes\":{\"end\":10.0,\"reset_end\":10.0,\"reset_start\":1.0,\"start\":1.0,\"tags\":[[[\"k\",\"k\",null]]]},\"id\":\"1003\",\"type\":\"Range1d\"},{\"attributes\":{},\"id\":\"1049\",\"type\":\"BasicTickFormatter\"},{\"attributes\":{},\"id\":\"1045\",\"type\":\"BasicTickFormatter\"},{\"attributes\":{\"margin\":[5,5,5,5],\"name\":\"HSpacer01526\",\"sizing_mode\":\"stretch_width\"},\"id\":\"1065\",\"type\":\"Spacer\"},{\"attributes\":{\"callback\":null,\"renderers\":[{\"id\":\"1042\"}],\"tags\":[\"hv_created\"],\"tooltips\":[[\"k\",\"@{k}\"],[\"inertia\",\"@{inertia}\"]]},\"id\":\"1005\",\"type\":\"HoverTool\"},{\"attributes\":{\"align\":null,\"below\":[{\"id\":\"1015\"}],\"center\":[{\"id\":\"1018\"},{\"id\":\"1022\"}],\"left\":[{\"id\":\"1019\"}],\"margin\":null,\"min_border_bottom\":10,\"min_border_left\":10,\"min_border_right\":10,\"min_border_top\":10,\"plot_height\":300,\"plot_width\":700,\"renderers\":[{\"id\":\"1042\"}],\"sizing_mode\":\"fixed\",\"title\":{\"id\":\"1007\"},\"toolbar\":{\"id\":\"1029\"},\"x_range\":{\"id\":\"1003\"},\"x_scale\":{\"id\":\"1011\"},\"y_range\":{\"id\":\"1004\"},\"y_scale\":{\"id\":\"1013\"}},\"id\":\"1006\",\"subtype\":\"Figure\",\"type\":\"Plot\"},{\"attributes\":{\"data_source\":{\"id\":\"1036\"},\"glyph\":{\"id\":\"1039\"},\"hover_glyph\":null,\"muted_glyph\":{\"id\":\"1041\"},\"nonselection_glyph\":{\"id\":\"1040\"},\"selection_glyph\":null,\"view\":{\"id\":\"1043\"}},\"id\":\"1042\",\"type\":\"GlyphRenderer\"},{\"attributes\":{\"source\":{\"id\":\"1036\"}},\"id\":\"1043\",\"type\":\"CDSView\"},{\"attributes\":{},\"id\":\"1037\",\"type\":\"Selection\"},{\"attributes\":{\"line_alpha\":0.1,\"line_color\":\"#1f77b3\",\"line_width\":2,\"x\":{\"field\":\"k\"},\"y\":{\"field\":\"inertia\"}},\"id\":\"1040\",\"type\":\"Line\"}],\"root_ids\":[\"1001\"]},\"title\":\"Bokeh Application\",\"version\":\"2.1.0\"}};\n",
       "  var render_items = [{\"docid\":\"32e29594-ba65-442f-bc5b-bd7bd6f26c15\",\"root_ids\":[\"1001\"],\"roots\":{\"1001\":\"cba0edbf-f56f-4083-bef7-c474d04fd33a\"}}];\n",
       "  root.Bokeh.embed.embed_items_notebook(docs_json, render_items);\n",
       "  }\n",
       "if (root.Bokeh !== undefined) {\n",
       "    embed_document(root);\n",
       "  } else {\n",
       "    var attempts = 0;\n",
       "    var timer = setInterval(function(root) {\n",
       "      if (root.Bokeh !== undefined) {\n",
       "        clearInterval(timer);\n",
       "        embed_document(root);\n",
       "      } else if (document.readyState == \"complete\") {\n",
       "        attempts++;\n",
       "        if (attempts > 100) {\n",
       "          clearInterval(timer);\n",
       "          console.log(\"Bokeh: ERROR: Unable to run BokehJS code because BokehJS library is missing\");\n",
       "        }\n",
       "      }\n",
       "    }, 10, root)\n",
       "  }\n",
       "})(window);</script>"
      ],
      "text/plain": [
       ":Curve   [k]   (inertia)"
      ]
     },
     "execution_count": 32,
     "metadata": {
      "application/vnd.holoviews_exec.v0+json": {
       "id": "1001"
      }
     },
     "output_type": "execute_result"
    }
   ],
   "source": [
    "# Create an elbow curve to find the best value for K and use the pcs_df DataFrame\n",
    "\n",
    "# Create an empty list to hold inertia values\n",
    "inertia = []\n",
    "\n",
    "# Store a range of K values that want to test\n",
    "k = list(range(1, 11))\n",
    "\n",
    "# Calculate the inertia for the range of K values\n",
    "for i in k:\n",
    "   km = KMeans(n_clusters=i, random_state=0)\n",
    "   km.fit(pcs_df)\n",
    "   inertia.append(km.inertia_)\n",
    "\n",
    "# Define a DataFrame to plot the Elbow Curve using hvPlot\n",
    "elbow_data = {\"k\": k, \"inertia\": inertia}\n",
    "df_elbow = pd.DataFrame(elbow_data)\n",
    "df_elbow.hvplot.line(x=\"k\", y=\"inertia\", xticks=k)"
   ]
  },
  {
   "cell_type": "code",
   "execution_count": 34,
   "metadata": {},
   "outputs": [
    {
     "data": {
      "text/html": [
       "<div>\n",
       "<style scoped>\n",
       "    .dataframe tbody tr th:only-of-type {\n",
       "        vertical-align: middle;\n",
       "    }\n",
       "\n",
       "    .dataframe tbody tr th {\n",
       "        vertical-align: top;\n",
       "    }\n",
       "\n",
       "    .dataframe thead th {\n",
       "        text-align: right;\n",
       "    }\n",
       "</style>\n",
       "<table border=\"1\" class=\"dataframe\">\n",
       "  <thead>\n",
       "    <tr style=\"text-align: right;\">\n",
       "      <th></th>\n",
       "      <th>Algorithm</th>\n",
       "      <th>ProofType</th>\n",
       "      <th>TotalCoinsMined</th>\n",
       "      <th>TotalCoinSupply</th>\n",
       "      <th>PC1</th>\n",
       "      <th>PC2</th>\n",
       "      <th>PC3</th>\n",
       "      <th>CoinName</th>\n",
       "      <th>Class</th>\n",
       "    </tr>\n",
       "  </thead>\n",
       "  <tbody>\n",
       "    <tr>\n",
       "      <th>42</th>\n",
       "      <td>52</td>\n",
       "      <td>15</td>\n",
       "      <td>4.199995e+01</td>\n",
       "      <td>4.200000e+01</td>\n",
       "      <td>-0.417875</td>\n",
       "      <td>0.810296</td>\n",
       "      <td>0.372138</td>\n",
       "      <td>42 Coin</td>\n",
       "      <td>0</td>\n",
       "    </tr>\n",
       "    <tr>\n",
       "      <th>404</th>\n",
       "      <td>52</td>\n",
       "      <td>15</td>\n",
       "      <td>1.055185e+09</td>\n",
       "      <td>5.320000e+08</td>\n",
       "      <td>-0.396564</td>\n",
       "      <td>0.815135</td>\n",
       "      <td>0.373256</td>\n",
       "      <td>404Coin</td>\n",
       "      <td>0</td>\n",
       "    </tr>\n",
       "    <tr>\n",
       "      <th>1337</th>\n",
       "      <td>66</td>\n",
       "      <td>15</td>\n",
       "      <td>2.927942e+10</td>\n",
       "      <td>3.141593e+11</td>\n",
       "      <td>3.124076</td>\n",
       "      <td>2.209780</td>\n",
       "      <td>0.504335</td>\n",
       "      <td>EliteCoin</td>\n",
       "      <td>4</td>\n",
       "    </tr>\n",
       "    <tr>\n",
       "      <th>BTC</th>\n",
       "      <td>47</td>\n",
       "      <td>12</td>\n",
       "      <td>1.792718e+07</td>\n",
       "      <td>2.100000e+07</td>\n",
       "      <td>-0.192083</td>\n",
       "      <td>0.016266</td>\n",
       "      <td>-0.072910</td>\n",
       "      <td>Bitcoin</td>\n",
       "      <td>0</td>\n",
       "    </tr>\n",
       "    <tr>\n",
       "      <th>ETH</th>\n",
       "      <td>20</td>\n",
       "      <td>12</td>\n",
       "      <td>1.076842e+08</td>\n",
       "      <td>0.000000e+00</td>\n",
       "      <td>-0.044116</td>\n",
       "      <td>-1.167492</td>\n",
       "      <td>1.012525</td>\n",
       "      <td>Ethereum</td>\n",
       "      <td>3</td>\n",
       "    </tr>\n",
       "  </tbody>\n",
       "</table>\n",
       "</div>"
      ],
      "text/plain": [
       "      Algorithm  ProofType  TotalCoinsMined  TotalCoinSupply       PC1  \\\n",
       "42           52         15     4.199995e+01     4.200000e+01 -0.417875   \n",
       "404          52         15     1.055185e+09     5.320000e+08 -0.396564   \n",
       "1337         66         15     2.927942e+10     3.141593e+11  3.124076   \n",
       "BTC          47         12     1.792718e+07     2.100000e+07 -0.192083   \n",
       "ETH          20         12     1.076842e+08     0.000000e+00 -0.044116   \n",
       "\n",
       "           PC2       PC3   CoinName  Class  \n",
       "42    0.810296  0.372138    42 Coin      0  \n",
       "404   0.815135  0.373256    404Coin      0  \n",
       "1337  2.209780  0.504335  EliteCoin      4  \n",
       "BTC   0.016266 -0.072910    Bitcoin      0  \n",
       "ETH  -1.167492  1.012525   Ethereum      3  "
      ]
     },
     "execution_count": 34,
     "metadata": {},
     "output_type": "execute_result"
    }
   ],
   "source": [
    "# Once you define the best value for K, run the K-means algorithm to predict the K clusters for the cryptocurrencies' data.\n",
    "\n",
    "# Create a new DataFrame called \"clustered_df\"\n",
    "clustered_df = X.merge(pcs_df, left_index=True, right_index=True)         \\\n",
    "              .merge(coins_name, left_index=True, right_index=True)\n",
    "\n",
    "# Create a KMeans model with 5 clusters\n",
    "model = KMeans(n_clusters=5, random_state=5).fit(pcs_df)\n",
    "\n",
    "# Calculate predicted values.\n",
    "y_pred = model.predict(pcs_df)\n",
    "\n",
    "# Join to original\n",
    "clustered_df['Class'] = model.labels_\n",
    "clustered_df.head()"
   ]
  },
  {
   "cell_type": "markdown",
   "metadata": {},
   "source": [
    "## Visualizing Results"
   ]
  },
  {
   "cell_type": "code",
   "execution_count": 40,
   "metadata": {},
   "outputs": [
    {
     "data": {
      "application/vnd.plotly.v1+json": {
       "config": {
        "plotlyServerURL": "https://plot.ly"
       },
       "data": [
        {
         "customdata": [
          [
           52
          ],
          [
           52
          ],
          [
           47
          ],
          [
           52
          ],
          [
           64
          ],
          [
           47
          ],
          [
           52
          ],
          [
           68
          ],
          [
           64
          ],
          [
           52
          ],
          [
           52
          ],
          [
           52
          ],
          [
           47
          ],
          [
           52
          ],
          [
           52
          ],
          [
           52
          ],
          [
           46
          ],
          [
           52
          ],
          [
           52
          ],
          [
           52
          ],
          [
           52
          ],
          [
           52
          ],
          [
           64
          ],
          [
           47
          ],
          [
           52
          ],
          [
           52
          ],
          [
           52
          ],
          [
           52
          ],
          [
           52
          ],
          [
           52
          ],
          [
           52
          ],
          [
           52
          ],
          [
           52
          ],
          [
           52
          ],
          [
           64
          ],
          [
           47
          ],
          [
           52
          ],
          [
           52
          ],
          [
           52
          ],
          [
           51
          ],
          [
           52
          ],
          [
           52
          ],
          [
           47
          ],
          [
           66
          ],
          [
           52
          ],
          [
           47
          ],
          [
           52
          ],
          [
           66
          ],
          [
           36
          ],
          [
           52
          ],
          [
           52
          ],
          [
           52
          ],
          [
           52
          ],
          [
           52
          ],
          [
           52
          ],
          [
           64
          ],
          [
           47
          ],
          [
           47
          ],
          [
           64
          ],
          [
           47
          ],
          [
           47
          ],
          [
           47
          ],
          [
           64
          ],
          [
           52
          ],
          [
           52
          ],
          [
           52
          ],
          [
           52
          ],
          [
           52
          ],
          [
           64
          ],
          [
           47
          ],
          [
           66
          ],
          [
           52
          ],
          [
           52
          ],
          [
           47
          ],
          [
           52
          ],
          [
           52
          ],
          [
           66
          ],
          [
           52
          ],
          [
           52
          ],
          [
           52
          ],
          [
           66
          ],
          [
           52
          ],
          [
           58
          ],
          [
           45
          ],
          [
           52
          ],
          [
           52
          ],
          [
           52
          ],
          [
           52
          ],
          [
           47
          ],
          [
           52
          ],
          [
           64
          ],
          [
           51
          ],
          [
           64
          ],
          [
           47
          ],
          [
           44
          ],
          [
           64
          ],
          [
           52
          ],
          [
           52
          ],
          [
           66
          ],
          [
           47
          ],
          [
           68
          ],
          [
           64
          ],
          [
           47
          ],
          [
           52
          ],
          [
           47
          ],
          [
           64
          ],
          [
           52
          ],
          [
           47
          ],
          [
           47
          ],
          [
           52
          ],
          [
           64
          ],
          [
           52
          ],
          [
           65
          ],
          [
           64
          ],
          [
           47
          ],
          [
           52
          ],
          [
           64
          ],
          [
           64
          ],
          [
           47
          ],
          [
           47
          ],
          [
           64
          ],
          [
           52
          ],
          [
           52
          ],
          [
           52
          ],
          [
           52
          ],
          [
           64
          ],
          [
           64
          ],
          [
           52
          ],
          [
           47
          ],
          [
           47
          ],
          [
           64
          ],
          [
           52
          ],
          [
           52
          ],
          [
           52
          ],
          [
           47
          ],
          [
           52
          ],
          [
           52
          ],
          [
           49
          ],
          [
           52
          ],
          [
           64
          ],
          [
           67
          ],
          [
           49
          ],
          [
           64
          ],
          [
           52
          ],
          [
           64
          ],
          [
           66
          ],
          [
           64
          ],
          [
           52
          ],
          [
           52
          ],
          [
           64
          ],
          [
           64
          ],
          [
           47
          ],
          [
           52
          ],
          [
           64
          ],
          [
           52
          ],
          [
           52
          ],
          [
           64
          ],
          [
           52
          ],
          [
           52
          ],
          [
           52
          ],
          [
           45
          ],
          [
           52
          ],
          [
           52
          ],
          [
           47
          ],
          [
           64
          ],
          [
           52
          ],
          [
           64
          ],
          [
           52
          ],
          [
           52
          ],
          [
           52
          ],
          [
           64
          ],
          [
           52
          ],
          [
           52
          ],
          [
           64
          ],
          [
           64
          ],
          [
           52
          ],
          [
           64
          ],
          [
           64
          ],
          [
           52
          ],
          [
           52
          ],
          [
           52
          ],
          [
           64
          ],
          [
           52
          ],
          [
           47
          ],
          [
           52
          ],
          [
           68
          ],
          [
           52
          ],
          [
           64
          ],
          [
           55
          ],
          [
           52
          ],
          [
           66
          ],
          [
           52
          ],
          [
           64
          ],
          [
           64
          ],
          [
           52
          ],
          [
           66
          ],
          [
           60
          ],
          [
           64
          ],
          [
           55
          ],
          [
           47
          ],
          [
           64
          ],
          [
           63
          ],
          [
           52
          ],
          [
           52
          ],
          [
           52
          ],
          [
           52
          ],
          [
           52
          ],
          [
           52
          ],
          [
           52
          ],
          [
           52
          ],
          [
           64
          ],
          [
           36
          ],
          [
           64
          ],
          [
           52
          ],
          [
           52
          ],
          [
           47
          ],
          [
           38
          ],
          [
           52
          ],
          [
           46
          ],
          [
           52
          ],
          [
           52
          ],
          [
           64
          ],
          [
           64
          ],
          [
           66
          ],
          [
           52
          ],
          [
           64
          ],
          [
           52
          ],
          [
           52
          ],
          [
           52
          ],
          [
           64
          ],
          [
           64
          ],
          [
           52
          ],
          [
           52
          ],
          [
           52
          ],
          [
           64
          ],
          [
           47
          ],
          [
           52
          ],
          [
           56
          ],
          [
           52
          ],
          [
           52
          ],
          [
           48
          ],
          [
           52
          ],
          [
           52
          ],
          [
           64
          ],
          [
           64
          ],
          [
           70
          ],
          [
           52
          ],
          [
           52
          ],
          [
           52
          ],
          [
           52
          ],
          [
           64
          ],
          [
           46
          ],
          [
           52
          ],
          [
           61
          ],
          [
           52
          ],
          [
           49
          ],
          [
           52
          ],
          [
           69
          ],
          [
           64
          ],
          [
           69
          ],
          [
           46
          ],
          [
           52
          ],
          [
           52
          ],
          [
           70
          ],
          [
           64
          ],
          [
           47
          ],
          [
           64
          ],
          [
           52
          ],
          [
           50
          ],
          [
           69
          ],
          [
           47
          ],
          [
           70
          ],
          [
           46
          ],
          [
           52
          ],
          [
           52
          ],
          [
           46
          ],
          [
           52
          ],
          [
           45
          ],
          [
           52
          ],
          [
           70
          ],
          [
           49
          ],
          [
           64
          ],
          [
           47
          ],
          [
           66
          ],
          [
           47
          ],
          [
           64
          ],
          [
           52
          ],
          [
           52
          ],
          [
           64
          ],
          [
           52
          ],
          [
           52
          ],
          [
           52
          ],
          [
           64
          ],
          [
           52
          ],
          [
           52
          ],
          [
           47
          ],
          [
           64
          ],
          [
           47
          ],
          [
           52
          ],
          [
           52
          ],
          [
           52
          ],
          [
           64
          ],
          [
           52
          ],
          [
           52
          ],
          [
           52
          ],
          [
           64
          ],
          [
           47
          ],
          [
           52
          ],
          [
           36
          ],
          [
           66
          ],
          [
           52
          ]
         ],
         "hovertemplate": "<b>%{hovertext}</b><br><br>Class=%{marker.color}<br>PC1=%{x}<br>PC2=%{y}<br>PC3=%{z}<br>Algorithm=%{customdata[0]}<extra></extra>",
         "hovertext": [
          "42 Coin",
          "404Coin",
          "Bitcoin",
          "Litecoin",
          "Dash",
          "BitcoinDark",
          "ProsperCoin",
          "KoboCoin",
          "Spreadcoin",
          "Argentum",
          "Aurora Coin",
          "BlueCoin",
          "ZetaCoin",
          "SexCoin",
          "Quatloo",
          "EnergyCoin",
          "QuarkCoin",
          "Digitalcoin ",
          "BitBar",
          "Catcoin",
          "CryptoBullion",
          "CannaCoin",
          "CryptCoin",
          "DevCoin",
          "EarthCoin",
          "E-Gulden",
          "Einsteinium",
          "Emerald",
          "Franko",
          "GrandCoin",
          "GlobalCoin",
          "GoldCoin",
          "HoboNickels",
          "Infinite Coin",
          "IOCoin",
          "IXcoin",
          "KrugerCoin",
          "LuckyCoin",
          "Litebar ",
          "MaxCoin",
          "MegaCoin",
          "MinCoin",
          "MazaCoin",
          "NavCoin",
          "NobleCoin",
          "Namecoin",
          "NyanCoin",
          "OpalCoin",
          "Orbitcoin",
          "PotCoin",
          "PhoenixCoin",
          "Reddcoin",
          "RonPaulCoin",
          "StableCoin",
          "SmartCoin",
          "SyncCoin",
          "SysCoin",
          "TigerCoin",
          "TorCoin",
          "TerraCoin",
          "UnbreakableCoin",
          "Unobtanium",
          "UroCoin",
          "UnitaryStatus Dollar",
          "UltraCoin",
          "ViaCoin",
          "VeriCoin",
          "WorldCoin",
          "X11 Coin",
          "JouleCoin",
          "StealthCoin",
          "ZCC Coin",
          "MonaCoin",
          "Neutron",
          "Gulden",
          "PesetaCoin",
          "Kore",
          "Wild Beast Coin",
          "Flo",
          "8BIT Coin",
          "Sativa Coin",
          "ArtByte",
          "Folding Coin",
          "CypherPunkCoin",
          "OmniCron",
          "Vtorrent",
          "GreenCoin",
          "MasterCoin",
          "SoonCoin",
          "1Credit",
          "IslaCoin",
          "Nexus",
          "MarsCoin ",
          "Anarchists Prime",
          "Droidz",
          "BowsCoin",
          "Song Coin",
          "BitZeny",
          "Paycon",
          "Emercoin",
          "EverGreenCoin",
          "MindCoin",
          "I0coin",
          "Revolution VR",
          "EDRCoin",
          "Hitcoin",
          "Gamecredits",
          "DubaiCoin",
          "CarpeDiemCoin",
          "BillaryCoin",
          "Adzcoin",
          "YoCoin",
          "SibCoin",
          "EuropeCoin",
          "SwingCoin",
          "Francs",
          "BolivarCoin",
          "Ratecoin",
          "Revenu",
          "Clockcoin",
          "BitSend",
          "Omni",
          "PutinCoin",
          "iBankCoin",
          "Frankywillcoin",
          "PizzaCoin",
          "GoldBlocks",
          "CarterCoin",
          "BitTokens",
          "ZayedCoin",
          "MustangCoin",
          "ZoneCoin",
          "RootCoin",
          "DopeCoin",
          "DollarCoin",
          "Swiscoin",
          "Shilling",
          "BuzzCoin",
          "PesoBit",
          "Halloween Coin",
          "GanjaCoin V2",
          "LanaCoin",
          "InsaneCoin",
          "KiloCoin",
          "ArtexCoin",
          "EmberCoin",
          "XenixCoin",
          "PLNCoin",
          "AquariusCoin",
          "Kurrent",
          "Eternity",
          "Eurocoin",
          "BitcoinFast",
          "Stakenet",
          "BitConnect Coin",
          "MoneyCoin",
          "Enigma",
          "Russiacoin",
          "GameUnits",
          "GAKHcoin",
          "LiteCreed",
          "OsmiumCoin",
          "Klingon Empire Darsek",
          "Internet of People",
          "KushCoin",
          "Printerium",
          "PacCoin",
          "Impeach",
          "FirstCoin",
          "BeaverCoin",
          "VaultCoin",
          "OpenChat",
          "Canada eCoin",
          "VirtacoinPlus",
          "Impact",
          "EB3coin",
          "HappyCoin",
          "Condensate",
          "Independent Money System",
          "ArgusCoin",
          "LomoCoin",
          "GoldReserve",
          "BenjiRolls",
          "ILCoin",
          "Degas Coin",
          "HTML5 Coin",
          "EquiTrader",
          "DigitalPrice",
          "Bitcoin Planet",
          "Unify",
          "BritCoin",
          "SocialCoin",
          "ArcticCoin",
          "DAS",
          "Linda",
          "DeepOnion",
          "Bitcore",
          "Onix",
          "Cream",
          "Bitcoin Cash",
          "Monoeci",
          "Vechain",
          "Sojourn Coin",
          "NewYorkCoin",
          "FrazCoin",
          "Kronecoin",
          "AdCoin",
          "Linx",
          "CoinonatX",
          "Ethereum Dark",
          "Regalcoin",
          "TrezarCoin",
          "Elements",
          "TerraNovaCoin",
          "WomenCoin",
          "Theresa May Coin",
          "LUXCoin",
          "Xios",
          "Bitcloud 2.0",
          "eBoost",
          "BlackholeCoin",
          "Pura",
          "Magnet",
          "Bitcoin Diamond",
          "Cash & Back Coin",
          "AC3",
          "GermanCoin",
          "LiteCoin Ultra",
          "PopularCoin",
          "PhantomX",
          "Sucre",
          "IrishCoin",
          "Trollcoin",
          "Litecoin Plus",
          "Pioneer Coin",
          "UnitedBitcoin",
          "My Big Coin",
          "MUNcoin",
          "Unified Society USDEX",
          "ShareChain",
          "LitecoinCash",
          "BitFlip",
          "LottoCoin",
          "Crypto Improvement Fund",
          "Pushi",
          "Ellerium",
          "Poseidon",
          "Briacoin",
          "Ignition",
          "Abjcoin",
          "FuturoCoin",
          "Carebit",
          "iDealCash",
          "KEYCO",
          "Swisscoin",
          "TheVig",
          "EmaratCoin",
          "Motion",
          "Axe",
          "Trivechain",
          "Giant",
          "HexCoin",
          "TPCash",
          "Urals Coin",
          "EUNO",
          "Project Pai",
          "Azart",
          "ThunderStake",
          "Kcash",
          "Xchange",
          "Bitcoin SV",
          "BitMoney",
          "HerbCoin",
          "Block-Logic",
          "Oduwa",
          "Galilel",
          "Credit",
          "SLICE",
          "Nasdacoin",
          "Beetle Coin",
          "Titan Coin",
          "Award",
          "BLAST",
          "Bitcoin Rhodium",
          "GlobalToken",
          "Insane Coin",
          "LiteDoge",
          "SolarCoin",
          "TruckCoin",
          "OrangeCoin",
          "BitstarCoin",
          "HyperCoin",
          "PinkCoin",
          "Crypto Escudo",
          "AudioCoin",
          "IncaKoin",
          "Piggy Coin",
          "Crown Coin",
          "Genstake",
          "SmileyCoin",
          "XiaoMiCoin",
          "CapriCoin",
          " ClubCoin",
          "Bata",
          "Pakcoin",
          "Creditbit ",
          "OKCash",
          "WhiteCoin",
          "FriendshipCoin",
          "Triangles Coin",
          "Gapcoin"
         ],
         "legendgroup": "0",
         "marker": {
          "color": [
           0,
           0,
           0,
           0,
           0,
           0,
           0,
           0,
           0,
           0,
           0,
           0,
           0,
           0,
           0,
           0,
           0,
           0,
           0,
           0,
           0,
           0,
           0,
           0,
           0,
           0,
           0,
           0,
           0,
           0,
           0,
           0,
           0,
           0,
           0,
           0,
           0,
           0,
           0,
           0,
           0,
           0,
           0,
           0,
           0,
           0,
           0,
           0,
           0,
           0,
           0,
           0,
           0,
           0,
           0,
           0,
           0,
           0,
           0,
           0,
           0,
           0,
           0,
           0,
           0,
           0,
           0,
           0,
           0,
           0,
           0,
           0,
           0,
           0,
           0,
           0,
           0,
           0,
           0,
           0,
           0,
           0,
           0,
           0,
           0,
           0,
           0,
           0,
           0,
           0,
           0,
           0,
           0,
           0,
           0,
           0,
           0,
           0,
           0,
           0,
           0,
           0,
           0,
           0,
           0,
           0,
           0,
           0,
           0,
           0,
           0,
           0,
           0,
           0,
           0,
           0,
           0,
           0,
           0,
           0,
           0,
           0,
           0,
           0,
           0,
           0,
           0,
           0,
           0,
           0,
           0,
           0,
           0,
           0,
           0,
           0,
           0,
           0,
           0,
           0,
           0,
           0,
           0,
           0,
           0,
           0,
           0,
           0,
           0,
           0,
           0,
           0,
           0,
           0,
           0,
           0,
           0,
           0,
           0,
           0,
           0,
           0,
           0,
           0,
           0,
           0,
           0,
           0,
           0,
           0,
           0,
           0,
           0,
           0,
           0,
           0,
           0,
           0,
           0,
           0,
           0,
           0,
           0,
           0,
           0,
           0,
           0,
           0,
           0,
           0,
           0,
           0,
           0,
           0,
           0,
           0,
           0,
           0,
           0,
           0,
           0,
           0,
           0,
           0,
           0,
           0,
           0,
           0,
           0,
           0,
           0,
           0,
           0,
           0,
           0,
           0,
           0,
           0,
           0,
           0,
           0,
           0,
           0,
           0,
           0,
           0,
           0,
           0,
           0,
           0,
           0,
           0,
           0,
           0,
           0,
           0,
           0,
           0,
           0,
           0,
           0,
           0,
           0,
           0,
           0,
           0,
           0,
           0,
           0,
           0,
           0,
           0,
           0,
           0,
           0,
           0,
           0,
           0,
           0,
           0,
           0,
           0,
           0,
           0,
           0,
           0,
           0,
           0,
           0,
           0,
           0,
           0,
           0,
           0,
           0,
           0,
           0,
           0,
           0,
           0,
           0,
           0,
           0,
           0,
           0,
           0,
           0,
           0,
           0,
           0,
           0,
           0,
           0,
           0,
           0,
           0,
           0,
           0,
           0,
           0,
           0,
           0,
           0,
           0,
           0,
           0,
           0,
           0,
           0,
           0,
           0
          ],
          "coloraxis": "coloraxis",
          "symbol": "circle"
         },
         "mode": "markers",
         "name": "0",
         "scene": "scene",
         "showlegend": true,
         "type": "scatter3d",
         "x": [
          -0.4178746258673046,
          -0.39656383123363315,
          -0.19208254817717044,
          -0.21795407555531654,
          -0.48277085559300625,
          -0.3904431730842161,
          -0.21945572326652077,
          -0.500957310162905,
          -0.2846395801633709,
          -0.21892381466177002,
          -0.4174312780703995,
          -0.4082801670159259,
          -0.18827902396168705,
          -0.2152808341297793,
          -0.2186330753277078,
          -0.4160164640337736,
          -0.1807114467482543,
          -0.21876322107361573,
          -0.41786892927247454,
          -0.2194338044095951,
          -0.4178488275196812,
          -0.21955125583159774,
          -0.28475270131725394,
          0.30320547245834956,
          0.10605310008575985,
          -0.21922708702610824,
          -0.21341956410099752,
          -0.21913722867465532,
          -0.2196242769993752,
          -0.19204382877187773,
          -0.21805584440298745,
          -0.21839573740368512,
          -0.41531362224662777,
          2.064095506459022,
          -0.482640705319023,
          -0.1920348015443127,
          -0.21478510254539443,
          -0.2192611162037114,
          -0.2197247969216716,
          -0.4104979743707976,
          -0.21875445323368117,
          -0.2195663854056731,
          -0.3418604167632691,
          -0.49300759470218625,
          -0.032387168917945026,
          -0.19213072666529435,
          -0.2112943524695242,
          -0.49377661340794926,
          -0.33078121423690027,
          -0.4102663795896603,
          -0.4157671655291174,
          0.024770092523511388,
          -0.21952614873356308,
          -0.21686212056962614,
          -0.2188510671994043,
          -0.4831296022431716,
          -0.1750823381516953,
          -0.19143289350400447,
          -0.4830069155071611,
          -0.19179462872773792,
          -0.1917223790947243,
          -0.1925599738711926,
          -0.2849918931876689,
          -0.3851060596907513,
          -0.41610516349118265,
          -0.21917303940698704,
          -0.1532317872198355,
          -0.21526587515103976,
          -0.48296907533525973,
          -0.19151878042925152,
          -0.49350577170402177,
          -0.4055306109414005,
          -0.21766272019249117,
          -0.3894068881363544,
          -0.19650451497972635,
          -0.21599662476126805,
          -0.4938536125815673,
          -0.21972580500113037,
          -0.21583842359249714,
          -0.4178524635456452,
          -0.49379721206172883,
          -0.19767889097738636,
          -0.23141045775764826,
          -0.1815935896138935,
          -0.21956792948129095,
          -0.4174972143555631,
          -0.04904751444571545,
          -0.21973950325263233,
          -0.19216505916530655,
          0.710317093200998,
          -0.483106774244621,
          -0.6088064991868205,
          -0.2841899869314113,
          -0.19179937748350065,
          -0.37419076612893326,
          -0.2845582910059452,
          -0.2171379919505525,
          -0.21608602653444992,
          -0.493152063357168,
          -0.3799254031462896,
          -0.5044111371061603,
          -0.2846087800908494,
          -0.1920361887497771,
          -0.21446127739088694,
          -0.3904072242058371,
          -0.04868653336608105,
          -0.2178514477361188,
          -0.39050144831415273,
          0.35432309829930475,
          -0.4173141545721905,
          -0.2834797929926462,
          -0.2180435676299347,
          -0.2899447477978685,
          -0.47909045259265365,
          -0.39021457272159793,
          -0.21945371557492677,
          -0.2845512189085268,
          -0.48033973393619295,
          -0.3884153598261385,
          -0.3851259755418439,
          -0.481356176622206,
          -0.21973957963521182,
          -0.3853785647032857,
          -0.41735809624805126,
          -0.41535374971584993,
          -0.28473658048798356,
          -0.4823891531386717,
          -0.4163130058840487,
          -0.3904637529073737,
          -0.19237283145361442,
          -0.4830893718738125,
          -0.41762334218293945,
          -0.4178453359484433,
          -0.21596894446026477,
          -0.19232048229199047,
          -0.5085708944096974,
          -0.21928394334614318,
          0.09623944654193964,
          -0.41736845354007707,
          -0.4639689699462834,
          -0.49692250371390895,
          -0.3093393188311506,
          -0.48254938239514544,
          -0.11569649544554943,
          -0.2675135615334755,
          0.9066352241173463,
          -0.4830324924879622,
          -0.4172269670028221,
          -0.4174130424310846,
          -0.28177859837151076,
          -0.4824314171916091,
          -0.39029537158974936,
          -0.4172353438371642,
          -0.9434937444408614,
          -0.4174242506574557,
          -0.41113200326744265,
          -0.4830667818273199,
          -0.41629236374022044,
          -0.41769076423375967,
          -0.4177910399568334,
          -0.378555808564973,
          -0.21971418037791435,
          -0.41245803339297027,
          -0.3904346014401551,
          -0.48294961774198386,
          -0.41749393771556376,
          0.7340445434663014,
          -0.41764823935072465,
          -0.4811414977927332,
          -0.2196741134924439,
          -0.2744418560687455,
          -0.39266585482383665,
          -0.2172366067478901,
          -0.4819199351386416,
          -0.48034714677421764,
          -0.17834944924771554,
          -0.48179372648828006,
          -0.47623783319198393,
          -0.4175791165306158,
          -0.4175681573002737,
          -0.40775761117765413,
          -0.4824659755293262,
          -0.21908987222722306,
          -0.1473947968855737,
          -0.4164906304724914,
          1.018893635647558,
          -0.21882077902560634,
          -0.2834686019849713,
          -0.4330746899721246,
          -0.21928644271614225,
          -0.49338104657877696,
          -0.21891887975910107,
          -0.2840103331362615,
          -0.28477945006326566,
          0.22417085796730843,
          -0.4934834816416196,
          -0.2627773604004332,
          -0.2720404128834189,
          -0.43246275374668275,
          -0.19208151516348143,
          -0.48284372954937627,
          0.9060555562696861,
          -0.1135983991358237,
          1.939546347913755,
          -0.21940640591078736,
          -0.2186423848771205,
          -0.21825122994037194,
          -0.2182350767792542,
          -0.4170917907495783,
          -0.41776875008324416,
          -0.48274701730915814,
          -0.324066456466448,
          -0.22600183892277487,
          -0.4176983470239607,
          0.5665664289713823,
          -0.38828419245313955,
          -0.3410118104523465,
          -0.41762986934113866,
          -0.38276150900837935,
          -0.21723439329264274,
          -0.4174780622774483,
          -0.27882617172511936,
          -0.48109709473434864,
          -0.4891112397064166,
          -0.41407596370617145,
          -0.2782371973915249,
          0.1617589233651325,
          -0.4162310798797218,
          -0.10935110133605735,
          -0.48194205753731767,
          -0.2847460997254305,
          -0.21842135122214482,
          -0.3998520741111549,
          -0.4177963730577498,
          -0.2846495915188266,
          -0.19205717476812334,
          -0.35138958359620626,
          -0.2412662165531415,
          -0.41198321516033304,
          0.03233260149001282,
          -0.24591220589393273,
          -0.2191628134160066,
          0.18513388017106355,
          -0.27676494198085855,
          -0.48284416078738257,
          -0.5151442329907557,
          -0.21948136336559798,
          -0.4178315299836708,
          -0.417806229898153,
          -0.4174221542143984,
          -0.2835189961273391,
          -0.3811152611788423,
          -0.34489263050600666,
          -0.2685023908438095,
          -0.16074515148325663,
          -0.400048056009782,
          -0.4166992967347937,
          -0.31185383893361923,
          -0.2847224326443993,
          -0.5089271996035123,
          -0.3851056712795791,
          -0.21951025649638586,
          -0.40768356716317145,
          -0.31529197977196594,
          -0.4821595341724627,
          -0.13962711345163945,
          -0.28468164975067134,
          -0.21989966619492782,
          -0.9101087073406737,
          -0.3110414858767317,
          -0.19208156159384715,
          -0.06910540339288614,
          -0.38416802465938327,
          -0.21800920885893327,
          -0.41743919739773777,
          -0.3847788925463064,
          0.8037602651790118,
          -0.18048358392541522,
          -0.41671519345729846,
          -0.5076985707578644,
          -0.3374791140811182,
          -0.4786508195244458,
          -0.1911289283947166,
          -0.2958470561138365,
          -0.18958954547322146,
          -0.48246734564116933,
          0.1672612501336625,
          0.7728224985196052,
          -0.4794669294804154,
          -0.4157993251967483,
          -0.41701543517734707,
          -0.4177292024901649,
          -0.4714862601734482,
          -0.19786501332784473,
          -0.29691685235829685,
          -0.11788684556419725,
          -0.4655574729717244,
          -0.19179385061391158,
          -0.4168170265742331,
          0.7324158929277561,
          -0.40772594230004683,
          -0.4779863995779887,
          -0.4146924939335598,
          -0.21962828211392973,
          -0.21686300978640338,
          -0.8789466012946732,
          -0.3884959915639871,
          -0.4110366779682835,
          -0.3302427711368727,
          -0.49400212520862025,
          -0.4151218119673283
         ],
         "y": [
          0.8102956393790135,
          0.8151352783213055,
          0.016265688164446637,
          0.23582418468471358,
          1.3366086693013608,
          0.5910839678621304,
          0.23548727971644776,
          1.5127909817174048,
          0.7617375423991789,
          0.23560327988577895,
          0.8103954030119676,
          0.8125131647424385,
          0.017120773686627,
          0.2364152571549322,
          0.2356646690226324,
          0.8107251082121676,
          -0.02625226805893695,
          0.23564295180924494,
          0.8102968753457673,
          0.2354923457260866,
          0.8103014407069667,
          0.23546646781031094,
          0.7617117198775025,
          0.1273547303871909,
          0.3085460343280933,
          0.2355401234117948,
          0.23683741093934338,
          0.2355591172597786,
          0.23544989796493138,
          0.24159706063392722,
          0.23580292203037553,
          0.23572400172890248,
          0.8108681923797397,
          0.7486606459030509,
          1.336638750365567,
          0.016276723635096566,
          0.2365273454660903,
          0.23553241973484718,
          0.23542826019373309,
          0.7668747920142811,
          0.23564597309312466,
          0.23546347757990357,
          0.6019259281418464,
          1.4244655395226102,
          0.276306932491165,
          0.016254552880975763,
          0.2373225988209342,
          1.4242877995889485,
          0.10867020232536873,
          0.8119863380638805,
          0.8107669163427663,
          0.9126021792565775,
          0.23547100258593529,
          0.23604978132864549,
          0.23562215881788726,
          1.3365293030345171,
          0.020054992215139036,
          0.01641164328665082,
          1.3365560458631367,
          0.01632884562668711,
          0.01633941351710661,
          0.016158690617286652,
          0.7616593405931116,
          0.8176111538019057,
          0.8106884736740887,
          0.235552292525471,
          0.04390849494705635,
          0.23641622659421707,
          1.336565517718647,
          0.01639211722414961,
          1.4243503980486847,
          0.8129873194251711,
          0.23588811691402123,
          0.5913160583174515,
          0.24052423214120133,
          0.2362633097257908,
          1.4242680670479544,
          0.23542782101051232,
          0.23630090437650247,
          0.8103007616663714,
          1.424281425330094,
          0.24036251372372244,
          0.5032241647673691,
          -0.07152595013370594,
          0.2354641901610095,
          0.8103796420956084,
          0.2732629906180331,
          0.235424979044814,
          0.01624661776024478,
          0.4355418823513904,
          1.3365345793314263,
          1.3417088241569832,
          0.7618393575220317,
          0.016325850730281442,
          0.45951410839383916,
          0.7617561690687866,
          0.2359924351884755,
          0.23622915655228285,
          1.4244240822035548,
          0.5933571053166063,
          1.5120449392836457,
          0.7617453064381772,
          0.01627640301635821,
          0.23661113125139766,
          0.5910922765693315,
          1.4326567024341696,
          0.23584790460418936,
          0.5910723543521378,
          0.13906828102969743,
          0.8104184024631585,
          0.761995273296094,
          0.23578989168557418,
          0.8056203836127035,
          1.3374009003389102,
          0.5911338991775977,
          0.23548790508363443,
          0.7617571582589648,
          1.3371620129038546,
          0.5915202628708461,
          0.5922317553848941,
          1.336916761301813,
          0.23542496187969686,
          0.8174836356288742,
          0.8104078699598493,
          0.810862144657095,
          0.7617143164469399,
          1.3366923730523907,
          0.8106420493518789,
          0.5910793726757163,
          0.016200413572480133,
          1.3365381174507605,
          0.8103503293837124,
          0.8103024090367726,
          0.2362642841305695,
          0.016212367230360333,
          1.2026097024268727,
          0.23552553041514634,
          0.7905648744518146,
          0.810412628784345,
          1.3407158091267015,
          1.4686542166704417,
          0.6988409858350455,
          1.3366585667283775,
          0.25785870282534235,
          0.7656183619264024,
          1.7478217318023421,
          1.3365511260605032,
          0.8104391119753213,
          0.8103955469443681,
          0.7623652302756336,
          1.3366809913644837,
          0.5911184512522102,
          0.8104380696878264,
          2.678332561112317,
          0.8103952151707766,
          0.8117490560028039,
          1.3365430159131118,
          0.8106381080175916,
          0.8103360371252706,
          0.810314423268668,
          0.503602979231947,
          0.23543049383766096,
          0.8114668836395299,
          0.5910861103269733,
          1.3365693930697484,
          0.810380399411096,
          0.9810509600707258,
          0.8103444244278304,
          1.0025435183664664,
          0.23543965014351512,
          0.7639363863797555,
          0.8159606943011988,
          0.23598742870438982,
          1.336792754448744,
          1.3371546527699851,
          0.24434602854108284,
          1.3368219245027033,
          1.338041498566834,
          0.8103605168422942,
          0.8103618578542223,
          0.8124726025902099,
          1.3366762308108728,
          0.23556949457357623,
          0.02619421548402655,
          0.8105985756837826,
          1.8496035210359396,
          0.23562580335660754,
          0.7619952784136029,
          0.9420953215085808,
          0.23552668280846556,
          1.4243743850759618,
          0.23560264574807135,
          0.7618765239874041,
          0.7617053923523206,
          0.9506218969969071,
          1.4243525008538473,
          0.586351713265146,
          0.7644752876313933,
          0.9422367556548505,
          0.016265926920387384,
          1.336593841816619,
          2.632947001859002,
          0.2582629575588846,
          0.7344913839670246,
          0.2354988395596136,
          0.2356650987583513,
          0.23575292327874545,
          0.23575665668830237,
          0.8104687877555562,
          0.810319432372756,
          1.3366133722487583,
          0.1101582279174093,
          0.7750030453507952,
          0.8103338435570737,
          1.0337917444180655,
          0.5915703792433126,
          0.19651587083941435,
          0.8103488207901549,
          0.5477210323358875,
          0.2359879402906307,
          0.8103849094819198,
          0.7630279284870076,
          1.3369758350756382,
          1.4253322060077946,
          0.811139726552922,
          0.7631317879115123,
          0.93619689922668,
          0.8106513042593221,
          0.26013197704389746,
          1.3367957083053952,
          0.7617129552658182,
          0.2357194120653439,
          0.814315908653536,
          0.810313080262982,
          0.7617347445037311,
          0.016271687165683515,
          0.6187689747090848,
          0.41088561271484203,
          0.8116198649408138,
          0.29207202126892373,
          0.2556900072343076,
          0.2355519132646876,
          0.32603194623418663,
          0.7634801307823809,
          1.3365912425774509,
          1.599778101871527,
          0.2354813536323681,
          0.8103051159344926,
          0.8103106407563234,
          0.8103953770361011,
          0.7619836310356471,
          0.5481015224043605,
          0.826337282728363,
          0.6301386427894135,
          0.868079201774257,
          0.6790707424225421,
          0.8105537356644307,
          0.9809955286960153,
          0.761718231729017,
          1.5561017332306877,
          0.5472106729386169,
          0.23547449736813866,
          0.8124897160597828,
          1.0252802136404766,
          1.3367454438808577,
          0.028054061499566213,
          0.7617270123482651,
          0.8531486392709705,
          2.26125286996158,
          0.9811707121426201,
          0.016265916189139806,
          2.5191380016462452,
          0.5474195058956781,
          0.23580563378991912,
          0.8103928899633975,
          0.5472839596988124,
          1.0805786771281753,
          -0.07128553318849393,
          0.81055006152441,
          1.6014279964456708,
          0.6927414714296437,
          1.3374967026340283,
          0.016479156595847068,
          0.8493693889687784,
          0.01681816827219988,
          1.3366775275249096,
          0.9398887009749756,
          0.4490043205792653,
          1.3373758407494916,
          0.8107430269228794,
          0.81048546679162,
          0.8103292504556037,
          1.3391397088792423,
          0.2403194960780195,
          0.8365580300177874,
          0.6540516162403294,
          1.3404293344625702,
          0.016329025468736245,
          0.8105376576168041,
          0.4474256857884038,
          0.8125767249995977,
          1.3376844708118611,
          0.8110052975250582,
          0.23544997835514814,
          0.23606054680546423,
          2.4863725180163776,
          0.5915206203491608,
          0.8118276629490345,
          0.10878555115144542,
          1.4242356586711244,
          0.8108915506855707
         ],
         "z": [
          0.3721377359146006,
          0.3732558332587602,
          -0.07291010078361868,
          -0.2737891740434588,
          -0.11025277404054372,
          0.5732026086646984,
          -0.27392554435556987,
          -0.27033921138873523,
          -0.756366850968838,
          -0.2738305539035788,
          0.37217386389936674,
          0.3721005217092697,
          -0.07258901300892454,
          -0.2734248708447843,
          -0.2737504274447046,
          0.3721305285514282,
          -0.03221978723444466,
          -0.27386691508385896,
          0.37213884225426197,
          -0.27392562937242976,
          0.37213989281530907,
          -0.27394291430244627,
          -0.7563709263243981,
          -0.027480321609627614,
          -0.24476518948306517,
          -0.2739264311689331,
          -0.27331970561469476,
          -0.2739019520457291,
          -0.2739469289385006,
          -0.27087286454178516,
          -0.2738203781486551,
          -0.2738139911235877,
          0.3723986496063891,
          -0.07834055653992114,
          -0.11025327885553723,
          -0.07291028597889654,
          -0.27339198797572856,
          -0.2739285562394466,
          -0.27396885192191356,
          0.41255915314432706,
          -0.27388086612235285,
          -0.27394994278694246,
          0.578424794009757,
          -0.19071137048432993,
          -0.24084263034573647,
          -0.07290991391330008,
          -0.2732439690449082,
          -0.19070838768482432,
          1.015397606623556,
          0.37305619075633917,
          0.3723507534535038,
          0.3704208459219104,
          -0.27392527119570165,
          -0.2734187374953927,
          -0.27385972643496154,
          -0.11030103562488701,
          -0.07101916881689539,
          -0.07285391003807327,
          -0.11027894315026088,
          -0.07286381928391857,
          -0.07277833124759306,
          -0.07295508297886402,
          -0.7564106256448434,
          0.3756219317451423,
          0.3723565785686808,
          -0.2739221266843429,
          -0.4893434957368073,
          -0.27339012319886463,
          -0.11028924669026838,
          -0.07285811803976285,
          -0.190709438200884,
          0.37434691676134085,
          -0.2737426350234922,
          0.5733024139671417,
          -0.27027010323230805,
          -0.273610816297832,
          -0.19068100431011573,
          -0.2739659634894695,
          -0.27362584349782243,
          0.3721376498586155,
          -0.19068573719085796,
          -0.2718003488196882,
          -0.5130154532713778,
          0.007450463803892508,
          -0.27396489808656893,
          0.37218141314608894,
          -0.25206330861443377,
          -0.27397044371216434,
          -0.0729097807475353,
          -0.06992976080826288,
          -0.11030112642510212,
          1.0586197481366535,
          -0.7563392530328686,
          -0.07283725784187746,
          0.6937743054063703,
          -0.7563649092060171,
          -0.2735074081674944,
          -0.2734217477380398,
          -0.1905979571435584,
          0.5753692177633284,
          -0.2710564297648785,
          -0.7563759986724619,
          -0.07291028059833068,
          -0.27351833205775633,
          0.5732024692294729,
          -0.05206117883848054,
          -0.27378957210686883,
          0.5731768785098783,
          -0.02626504058872852,
          0.372230358425662,
          -0.756226897619513,
          -0.27359844100323855,
          -0.796561568758718,
          -0.10944999361149697,
          0.5732423490665164,
          -0.2739278092025995,
          -0.7563559083975065,
          -0.11014257948485502,
          0.5736477916920144,
          0.5743172858734366,
          -0.10999418517396091,
          -0.2739704502547897,
          0.37652581262429125,
          0.3722357953346854,
          0.37235366405357095,
          -0.7563551894339451,
          -0.11019105687934283,
          0.3723348141309778,
          0.5732004314280574,
          -0.07293439838071417,
          -0.11029442274449115,
          0.3721841594189631,
          0.37213762221274255,
          -0.2735350548542437,
          -0.07293256488733568,
          0.809713785080636,
          -0.27390589710182184,
          0.5359578023860643,
          0.3721357725248204,
          -0.10698976672366728,
          -0.23069480294357128,
          0.5093312193725583,
          -0.11023557659232013,
          -0.251804796635347,
          -0.7553498891115098,
          -0.19422167637979573,
          -0.11029271735351037,
          0.3722222108236471,
          0.37223074198285544,
          -0.7559084794496285,
          -0.11016832235160537,
          0.5731975212662055,
          0.37220973920377126,
          1.3974530739777202,
          0.3721991866193941,
          0.3735801612900807,
          -0.11028999624514209,
          0.372456615294182,
          0.3721663644512227,
          0.3721448955483978,
          0.6537334279422432,
          -0.273965813825336,
          0.3732452563252229,
          0.5732003183580096,
          -0.11028062345221558,
          0.3721814004369571,
          -0.5346571931858832,
          0.3721863625761977,
          0.5877450959311883,
          -0.2739645118180131,
          -0.7541944863860695,
          0.3742970181205135,
          -0.27375584393946395,
          -0.11008002385030807,
          -0.11006355364035116,
          -0.26510414275551564,
          -0.11008051337689209,
          -0.10919923915667615,
          0.37218446665032034,
          0.37220109902720183,
          0.3743555546464198,
          -0.11021332950546171,
          -0.2738941899743454,
          -0.06748818035894064,
          0.37236935898169055,
          -0.0738888612109034,
          -0.27381289707056,
          -0.7561908280697068,
          0.2517494287320597,
          -0.273930090310916,
          -0.19064221017993618,
          -0.2738057453870595,
          -0.7562790092435648,
          -0.7563687912200044,
          0.4825004173982604,
          -0.19066687031836507,
          -0.5955520981756033,
          -0.7539780949066237,
          0.2517470552097292,
          -0.0729101047903778,
          -0.11028068821985462,
          1.1958190893024891,
          -0.2506844046501511,
          -0.2823470826187806,
          -0.2739279927030031,
          -0.27378650429213874,
          -0.2737519085117113,
          -0.273751971165117,
          0.3722436070789183,
          0.37214680480955653,
          -0.1102415812034064,
          1.016265876830745,
          -0.7525767232763573,
          0.3721725631586337,
          0.424745870260444,
          0.5733702852706123,
          0.935115556139786,
          0.37218418473590803,
          0.6137988935970536,
          -0.273755852524812,
          0.37216957568811815,
          -0.7556445697593608,
          -0.10998390477822535,
          -0.19025250075656386,
          0.37259698446961287,
          -0.7551954422634026,
          0.482742495108836,
          0.3724699199506162,
          -0.2631147074676213,
          -0.11019279103291911,
          -0.7563668892224471,
          -0.2738325028128682,
          0.3740991853935208,
          0.37214646053907086,
          -0.7563600409583702,
          -0.07291208158753551,
          0.1568338817323246,
          -0.4347481717839844,
          0.3726385226228651,
          -0.25237895837401386,
          0.10403658727811074,
          -0.27388379633173954,
          -0.2339965739555661,
          -0.7553140057021486,
          -0.11024571853171529,
          -0.3513873782415369,
          -0.27392544490509574,
          0.37214433984276446,
          0.37214875583066204,
          0.37220369260746033,
          -0.7561906326055111,
          0.6137925082813583,
          0.383415210011798,
          -0.6357609868584277,
          0.39416241524926027,
          0.4929672674127673,
          0.3723227700819677,
          -0.9573782259519072,
          -0.7563642725484244,
          -0.31113628013136446,
          0.6133682000786528,
          -0.27392283819239693,
          0.3743552674512604,
          -0.9971650572548598,
          -0.11019194750441309,
          -0.0684211328514627,
          -0.7563554024942708,
          0.41199692465333165,
          2.177662192824009,
          -0.9572054970293988,
          -0.07291010461028793,
          0.6651960871246458,
          0.613474818333741,
          -0.27370770604539324,
          0.3721834451749918,
          0.6133982718719279,
          0.5362274414705299,
          0.0076718643931275796,
          0.3723228317407227,
          -0.3504231514932812,
          0.5037841736336165,
          -0.10937044466803748,
          -0.07281674602642026,
          -0.8368124282621479,
          -0.07258798262725681,
          -0.11023589478898713,
          0.44886525650140635,
          -0.05640413641261482,
          -0.11031524432247197,
          0.3725810982889428,
          0.37225686257340285,
          0.3721371717648934,
          -0.109217669124042,
          -0.2717996269053176,
          0.3953677035369664,
          0.572524628122533,
          -0.10811213527274256,
          -0.07286382230199538,
          0.3721674895969633,
          -0.16481198633190805,
          0.37300119594467046,
          -0.10985151843257837,
          0.3724865228217887,
          -0.2739609880065398,
          -0.2735722141113519,
          1.1819536108360686,
          0.573382392076551,
          0.3727883313458432,
          1.0155228121443365,
          -0.190707242143079,
          0.37269132340146977
         ]
        },
        {
         "customdata": [
          [
           66
          ],
          [
           52
          ],
          [
           10
          ],
          [
           52
          ],
          [
           10
          ],
          [
           11
          ]
         ],
         "hovertemplate": "<b>%{hovertext}</b><br><br>Class=%{marker.color}<br>PC1=%{x}<br>PC2=%{y}<br>PC3=%{z}<br>Algorithm=%{customdata[0]}<extra></extra>",
         "hovertext": [
          "EliteCoin",
          "MoonCoin",
          "ByteCoin",
          "gCn Coin",
          "TurtleCoin",
          "Qwertycoin"
         ],
         "legendgroup": "4",
         "marker": {
          "color": [
           4,
           4,
           4,
           4,
           4,
           4
          ],
          "coloraxis": "coloraxis",
          "symbol": "diamond"
         },
         "mode": "markers",
         "name": "4",
         "scene": "scene",
         "showlegend": true,
         "type": "scatter3d",
         "x": [
          3.124075969795503,
          3.6622798624361335,
          4.652786103448566,
          4.26415691267537,
          10.920478120122981,
          3.3712755651556487
         ],
         "y": [
          2.209780370521107,
          1.0707053858064968,
          -0.5627761751166137,
          1.239500827680232,
          0.7542715422460752,
          -0.8138568731053932
         ],
         "z": [
          0.5043352582499511,
          0.5776818911336027,
          1.812904667491859,
          0.16004838607688013,
          3.629299854236138,
          1.7776567266867145
         ]
        },
        {
         "customdata": [
          [
           20
          ],
          [
           12
          ],
          [
           20
          ],
          [
           18
          ],
          [
           34
          ],
          [
           34
          ],
          [
           23
          ],
          [
           23
          ],
          [
           34
          ],
          [
           36
          ],
          [
           25
          ],
          [
           31
          ],
          [
           10
          ],
          [
           9
          ],
          [
           23
          ],
          [
           34
          ],
          [
           33
          ],
          [
           30
          ],
          [
           20
          ],
          [
           6
          ],
          [
           3
          ],
          [
           0
          ],
          [
           35
          ],
          [
           15
          ],
          [
           35
          ],
          [
           18
          ],
          [
           10
          ],
          [
           34
          ],
          [
           32
          ],
          [
           20
          ],
          [
           18
          ],
          [
           10
          ],
          [
           10
          ],
          [
           30
          ],
          [
           12
          ],
          [
           18
          ],
          [
           30
          ],
          [
           16
          ],
          [
           5
          ],
          [
           35
          ],
          [
           12
          ],
          [
           1
          ],
          [
           2
          ],
          [
           6
          ],
          [
           8
          ],
          [
           10
          ],
          [
           35
          ],
          [
           35
          ],
          [
           10
          ],
          [
           28
          ],
          [
           10
          ],
          [
           18
          ],
          [
           36
          ],
          [
           18
          ],
          [
           35
          ],
          [
           15
          ],
          [
           36
          ],
          [
           20
          ],
          [
           36
          ],
          [
           35
          ],
          [
           34
          ],
          [
           10
          ],
          [
           10
          ],
          [
           20
          ],
          [
           12
          ],
          [
           3
          ],
          [
           36
          ],
          [
           36
          ],
          [
           7
          ],
          [
           20
          ],
          [
           10
          ],
          [
           15
          ],
          [
           31
          ],
          [
           7
          ],
          [
           20
          ],
          [
           10
          ],
          [
           26
          ],
          [
           35
          ],
          [
           18
          ],
          [
           32
          ],
          [
           10
          ],
          [
           35
          ],
          [
           30
          ],
          [
           32
          ],
          [
           10
          ],
          [
           11
          ],
          [
           10
          ],
          [
           27
          ],
          [
           10
          ],
          [
           14
          ],
          [
           24
          ],
          [
           31
          ],
          [
           12
          ],
          [
           13
          ],
          [
           28
          ],
          [
           18
          ],
          [
           32
          ],
          [
           10
          ],
          [
           4
          ],
          [
           4
          ],
          [
           18
          ],
          [
           21
          ],
          [
           18
          ],
          [
           18
          ],
          [
           36
          ],
          [
           4
          ],
          [
           23
          ],
          [
           34
          ],
          [
           19
          ],
          [
           20
          ],
          [
           10
          ],
          [
           18
          ]
         ],
         "hovertemplate": "<b>%{hovertext}</b><br><br>Class=%{marker.color}<br>PC1=%{x}<br>PC2=%{y}<br>PC3=%{z}<br>Algorithm=%{customdata[0]}<extra></extra>",
         "hovertext": [
          "Ethereum",
          "Monero",
          "Ethereum Classic",
          "ZCash",
          "DigiByte",
          "MyriadCoin",
          "Riecoin",
          "Diamond",
          "Verge",
          "FeatherCoin",
          "MediterraneanCoin",
          "Vertcoin",
          "DigitalNote ",
          "StorjCoin",
          "FairCoin",
          "Unitus",
          "Cryptonite",
          "Crypto",
          "Expanse",
          "Siacoin",
          "Decred",
          "HOdlcoin",
          "PWR Coin",
          "SoilCoin",
          "VIP Tokens",
          "Komodo",
          "Karbo",
          "Circuits of Value",
          "ZCoin",
          "Elementrem",
          "ZClassic",
          "Cannabis Industry Coin",
          "Bikercoins",
          "HexxCoin",
          "Citadel",
          "Zero",
          "Zoin",
          "DubaiCoin",
          "TajCoin",
          "Coinonat",
          "Quantum Resistant Ledger",
          "Espers",
          "Dynamic",
          "Nano",
          "ChanCoin",
          "Dinastycoin",
          "Denarius",
          "Virta Unique Coin",
          "LeviarCoin",
          "SmartCash",
          "Sumokoin",
          "BitcoinZ",
          "VIVO Coin",
          "Bitcoin Gold",
          "NamoCoin",
          "Pirl",
          "Innova",
          "Ellaism",
          "GoByte",
          "Electra",
          "SHIELD",
          "UltraNote",
          "BitCoal",
          "DaxxCoin",
          "Lethean",
          "Photon",
          "SparksPay",
          "GunCoin",
          "Interzone",
          "1717 Masonic Commemorative Token",
          "Niobio Cash",
          "Travelflex",
          "KREDS",
          "Stipend",
          "Callisto Network",
          "BitTube",
          "Aidos Kuneen",
          "Bitspace",
          "Bitrolium",
          "Alpenschillling",
          "Monero Classic",
          "Jumpcoin",
          "Infinex",
          "GINcoin",
          "PlatinCoin",
          "Loki",
          "Newton Coin",
          "MassGrid",
          "PluraCoin",
          "Muse",
          "PlusOneCoin",
          "Absolute Coin",
          "Webchain",
          "Ryo",
          "XDNA",
          "CrypticCoin",
          "Actinium",
          "FREDEnergy",
          "Universal Molecule",
          "Lithium",
          "PirateCash",
          "Exosis",
          "Beam",
          "Bithereum",
          "UFO Coin",
          "BlakeCoin",
          "Groestlcoin",
          "JoinCoin",
          "Vollar",
          "Reality Clash",
          "Beldex",
          "Horizen"
         ],
         "legendgroup": "3",
         "marker": {
          "color": [
           3,
           3,
           3,
           3,
           3,
           3,
           3,
           3,
           3,
           3,
           3,
           3,
           3,
           3,
           3,
           3,
           3,
           3,
           3,
           3,
           3,
           3,
           3,
           3,
           3,
           3,
           3,
           3,
           3,
           3,
           3,
           3,
           3,
           3,
           3,
           3,
           3,
           3,
           3,
           3,
           3,
           3,
           3,
           3,
           3,
           3,
           3,
           3,
           3,
           3,
           3,
           3,
           3,
           3,
           3,
           3,
           3,
           3,
           3,
           3,
           3,
           3,
           3,
           3,
           3,
           3,
           3,
           3,
           3,
           3,
           3,
           3,
           3,
           3,
           3,
           3,
           3,
           3,
           3,
           3,
           3,
           3,
           3,
           3,
           3,
           3,
           3,
           3,
           3,
           3,
           3,
           3,
           3,
           3,
           3,
           3,
           3,
           3,
           3,
           3,
           3,
           3,
           3,
           3,
           3,
           3,
           3,
           3,
           3,
           3,
           3,
           3
          ],
          "coloraxis": "coloraxis",
          "symbol": "square"
         },
         "mode": "markers",
         "name": "3",
         "scene": "scene",
         "showlegend": true,
         "type": "scatter3d",
         "x": [
          -0.04411582063938059,
          -0.001978716880187001,
          -0.04190713694535401,
          -0.03454216598983477,
          0.2626521664598678,
          -0.07616221500578782,
          -0.06045818406817421,
          -0.2600808609299683,
          0.2860144545930173,
          -0.12620090950354446,
          -0.07029897613701008,
          -0.10393698106764317,
          0.21401673240845878,
          0.3501018995932359,
          -0.2593718459312153,
          -0.12088944906267327,
          -0.08713532343260862,
          -0.0992483485195386,
          -0.04541239160841491,
          0.5301503670059938,
          -0.15104789339573338,
          0.06401802524971466,
          -0.17338834680848125,
          -0.018162812053330923,
          -0.3232601439417297,
          -0.8235720988136195,
          0.008856599628586306,
          -0.09464194941336568,
          -0.11066616249930324,
          -0.04508116820936345,
          -0.03456888430618447,
          0.008864459760886487,
          0.009031413849638837,
          -0.09999152384175992,
          -0.0002025618794828397,
          -0.03458957070949421,
          -0.09962862014624557,
          -0.023933821244579153,
          -0.16173551886383616,
          -0.1266698764152855,
          -0.0001345523205116668,
          0.7092250484390459,
          0.05243945518995756,
          0.03584108925836957,
          0.020094446349204535,
          0.05617802195448575,
          -0.32526595942736314,
          -0.32326652147902746,
          0.009397136228466479,
          -0.0048600997501850995,
          0.00967109911308774,
          0.2561236816139288,
          -0.13241258979728807,
          -0.03439390130129657,
          -0.30483456415215854,
          -0.016458835577726302,
          -0.13219726063968226,
          -0.04271851487424591,
          -0.13233890379302812,
          0.4066614031251384,
          -0.10792656987428935,
          1.1590841316637646,
          0.00883170686543204,
          0.06321798766698716,
          0.014528354594138268,
          1.4108879168661699,
          -0.1324176592574074,
          -0.12316697452082016,
          0.025363592392214324,
          0.28449818994484827,
          0.014056459585438424,
          -0.015920709360252416,
          -0.08471757975583229,
          -0.17280295439390553,
          0.023708528149319986,
          0.019955543355983592,
          -0.07773905996649842,
          -0.32471637872063347,
          -0.033080862994258005,
          -0.10755111843883747,
          0.00906524936916997,
          -0.12678010037345952,
          -0.09977829865601175,
          -0.11078514168725481,
          0.014704349427658093,
          0.005005101194027178,
          2.4922977473602317,
          -0.08005737770361591,
          0.027203766943104103,
          0.3175424312300604,
          -0.0671506069813624,
          -0.3029463110806127,
          0.015688373659788906,
          -0.006710967413723838,
          -0.28359400422190023,
          0.10591324309364256,
          -0.10994170894375592,
          0.11851311057641109,
          0.042351431304456094,
          0.0417592174529929,
          0.29659820616592736,
          -0.05096126410878843,
          -0.03167031932844301,
          -0.034173943396824794,
          -0.03456049484354004,
          0.1123838272511477,
          -0.05988728251917811,
          -0.1217939834128941,
          -0.017564051335571006,
          -0.04512446666883555,
          0.03759357558074369,
          -0.0345434723629164
         ],
         "y": [
          -1.1674924836159697,
          -1.5186306931884044,
          -1.1670158812254123,
          -1.255502448313194,
          -0.46844358624107607,
          -0.543686848165392,
          -1.0359542347340853,
          -0.4614146405051729,
          -0.462326814353947,
          -0.46476431267592827,
          -0.9480281156748878,
          -0.6851261248584902,
          -1.560541284235274,
          -2.6071065573815635,
          -0.46125006230484283,
          -0.5537017819618678,
          -0.5913068474468426,
          -0.7291491703718966,
          -1.1677948820470565,
          -1.6662999035752124,
          -1.3384099441929334,
          -2.0447061395381634,
          0.09993868959447509,
          -1.3870471521932513,
          0.06528495546685018,
          1.0447622935797563,
          -1.6063472807720371,
          -0.547828917881965,
          -0.641561664608337,
          -1.1677198281367636,
          -1.2555086236009212,
          -1.6063472388142002,
          -1.6063092967978805,
          -0.7293119363240876,
          -1.5182500258100373,
          -1.25551275940614,
          -0.7292298346988125,
          -1.3432668536569257,
          -1.2506634000837085,
          -0.5099359249886382,
          -1.5182214000017935,
          -1.2378616331034151,
          -1.9571497266648452,
          -1.7806023478750856,
          -1.69397244668844,
          -1.5957311501928115,
          0.06483426715296413,
          0.06527864130851439,
          -1.606229447790087,
          -0.798348997083962,
          -1.6061717568558873,
          -1.1917068349600497,
          -0.46615013769989116,
          -1.2554681805434926,
          0.06936449382112776,
          -1.3866736976559428,
          -0.4661032737000572,
          -1.1672147051352584,
          -0.46613388139901724,
          0.2291629080872739,
          -0.550812211541249,
          -1.3542123502021244,
          -1.6063534374731296,
          -1.1442982714388368,
          -1.5149767404258825,
          -1.6125882599318597,
          -0.4661503413528596,
          -0.46408955200328755,
          -1.7378631294004283,
          -2.1259827335033536,
          -1.605198056111353,
          -1.3865402384674335,
          -0.6808479482131304,
          -1.1629992415343944,
          -1.1528652365020733,
          -1.603941755217119,
          -0.9046098287763579,
          0.06495483581261774,
          -1.2551726093079858,
          -0.6408866469066514,
          -1.6063004117099564,
          -0.5099570037818988,
          -0.7292652811045341,
          -0.6415874051618533,
          -1.6050909055311189,
          -1.5621504013425476,
          -1.0620449937554461,
          -0.860059076005253,
          -1.6022665049665257,
          -2.3890058993212855,
          -0.9923812141128736,
          -0.1104525340462775,
          -1.5148297175886578,
          -1.4746290190320377,
          -0.24135923978802892,
          -1.2242623854724672,
          -0.6414043245944687,
          -1.582304849754934,
          -1.8692789938559056,
          -1.8694029801533996,
          -2.2134220826463635,
          -1.1239683823761875,
          -1.2548777025180762,
          -1.2554189376234626,
          -0.444175007172791,
          -1.8542051196774492,
          -1.0358256728555064,
          -0.553911294781333,
          -1.2068041461839543,
          -1.1677295584068468,
          -1.5999297250841615,
          -1.255502750249497
         ],
         "z": [
          1.0125253083069294,
          1.3341564565868094,
          1.0129907240199714,
          1.092984219602366,
          0.49559317482074816,
          0.45402320129172574,
          0.8921053189089893,
          1.538040959329756,
          0.48546992859403804,
          0.3700128928794554,
          0.811956660951495,
          0.570479374666286,
          1.4363379174165671,
          0.37902388916798146,
          1.5380283233453163,
          0.4496825656433319,
          0.4939289564462402,
          0.6106444089653246,
          1.0125684960766383,
          1.573438422277993,
          2.342142029120766,
          1.8167773465546269,
          1.0550029396605065,
          1.2136139720843508,
          1.0557873840764787,
          3.6778129277959284,
          1.4145856466059101,
          0.45228923097421353,
          0.5301398600297567,
          1.012588200076963,
          1.0929843232349306,
          1.4146104437763163,
          1.4146188244491642,
          0.6105213721899013,
          1.3345671234581602,
          1.092975375232346,
          0.6105447922520247,
          1.1733493609166976,
          2.2617707240994243,
          0.4095895706567716,
          1.3343862948865752,
          2.532059518172126,
          1.7361886166379799,
          1.5761237415931968,
          1.4950358459253872,
          1.4188936495560367,
          1.0556145992680321,
          1.0558551206064577,
          1.4146828606522008,
          0.7018637598690762,
          1.4147605443358295,
          1.1392076685687818,
          0.36933955470582785,
          1.0929836445268357,
          1.0582212529754662,
          1.2138924447022728,
          0.3693793465827837,
          1.013151865303092,
          0.36935010278622504,
          1.1204648890482785,
          0.45112194586584103,
          1.601951759745683,
          1.4145913858071335,
          1.0346795895262642,
          1.3363483199955206,
          1.893830647721143,
          0.3693260320101127,
          0.37037128293335175,
          1.5352239322531889,
          -0.06431408656271644,
          1.4153012793520734,
          1.2137632698057719,
          0.5726980009436428,
          2.1813253723711425,
          1.0269331259821337,
          1.4167770862180844,
          0.7713662101790856,
          1.0557027499957514,
          1.0930891475629683,
          0.530756594535845,
          1.4146037966165004,
          0.40952848879029424,
          0.6105572900869883,
          0.530115719563771,
          1.4158946313269514,
          1.3746922505866752,
          1.820229530683804,
          0.7314736385779548,
          1.416748972470563,
          0.1769408435441644,
          0.851764758872965,
          1.216521245809891,
          1.3380377857031698,
          1.2941495359713582,
          1.3378267417763674,
          1.109545690057321,
          0.5302783420276499,
          1.4323747933649496,
          1.6560163608135257,
          1.6558383386210478,
          0.01632096673647074,
          0.9723749348144959,
          1.093518837600442,
          1.0930051046671845,
          0.3779273134407226,
          1.6713068818794012,
          0.8921505028035723,
          0.449692393835921,
          1.0573864704941576,
          1.0125844913044812,
          1.4176119997856103,
          1.0929842246694064
         ]
        },
        {
         "customdata": [
          [
           50
          ],
          [
           47
          ],
          [
           52
          ],
          [
           41
          ],
          [
           52
          ],
          [
           64
          ],
          [
           52
          ],
          [
           52
          ],
          [
           64
          ],
          [
           34
          ],
          [
           38
          ],
          [
           34
          ],
          [
           54
          ],
          [
           52
          ],
          [
           52
          ],
          [
           64
          ],
          [
           64
          ],
          [
           52
          ],
          [
           52
          ],
          [
           52
          ],
          [
           52
          ],
          [
           41
          ],
          [
           40
          ],
          [
           66
          ],
          [
           64
          ],
          [
           52
          ],
          [
           41
          ],
          [
           41
          ],
          [
           66
          ],
          [
           41
          ],
          [
           14
          ],
          [
           41
          ],
          [
           41
          ],
          [
           52
          ],
          [
           46
          ],
          [
           52
          ],
          [
           66
          ],
          [
           52
          ],
          [
           41
          ],
          [
           41
          ],
          [
           47
          ],
          [
           52
          ],
          [
           41
          ],
          [
           47
          ],
          [
           40
          ],
          [
           57
          ],
          [
           52
          ],
          [
           41
          ],
          [
           50
          ],
          [
           37
          ],
          [
           31
          ],
          [
           39
          ],
          [
           47
          ],
          [
           14
          ],
          [
           35
          ],
          [
           46
          ],
          [
           46
          ],
          [
           64
          ],
          [
           40
          ],
          [
           66
          ],
          [
           43
          ],
          [
           42
          ],
          [
           52
          ],
          [
           62
          ],
          [
           52
          ],
          [
           22
          ],
          [
           41
          ],
          [
           53
          ],
          [
           41
          ],
          [
           69
          ],
          [
           70
          ],
          [
           52
          ],
          [
           52
          ],
          [
           68
          ],
          [
           52
          ],
          [
           46
          ],
          [
           47
          ],
          [
           46
          ],
          [
           52
          ],
          [
           46
          ],
          [
           64
          ],
          [
           52
          ],
          [
           41
          ],
          [
           64
          ],
          [
           17
          ],
          [
           70
          ],
          [
           64
          ],
          [
           46
          ],
          [
           64
          ],
          [
           14
          ],
          [
           47
          ],
          [
           41
          ],
          [
           14
          ],
          [
           52
          ],
          [
           14
          ],
          [
           14
          ],
          [
           47
          ],
          [
           29
          ],
          [
           41
          ],
          [
           41
          ],
          [
           47
          ],
          [
           52
          ]
         ],
         "hovertemplate": "<b>%{hovertext}</b><br><br>Class=%{marker.color}<br>PC1=%{x}<br>PC2=%{y}<br>PC3=%{z}<br>Algorithm=%{customdata[0]}<extra></extra>",
         "hovertext": [
          "Bitshares",
          "PayCoin",
          "CasinoCoin",
          "Exclusive Coin",
          "FlutterCoin",
          "HyperStake",
          "MintCoin",
          "Nautilus Coin",
          "SuperCoin",
          "TeslaCoin",
          "TittieCoin",
          "Crypti",
          "BurstCoin",
          "RubyCoin",
          "Dnotes",
          "Ucoin",
          "Squall Coin",
          "Diggits",
          "GPU Coin",
          "ZeitCoin",
          "SafeExchangeCoin",
          "Nebuchadnezzar",
          "Let it Ride",
          "MudraCoin",
          "Lutetium Coin",
          "BitCurrency",
          "Opair",
          "CoffeeCoin",
          "RoyalCoin",
          "TeamUP",
          "ARK",
          "FreeCoin",
          "Creatio",
          "PandaCoin",
          "Allsafe",
          "Zilbercoin",
          "FindCoin",
          "RenosCoin",
          "Atmos",
          "MacronCoin",
          "ProCurrency",
          "GrowthCoin",
          "Phreak",
          "Ultimate Secure Cash",
          "QTUM",
          "Signatum",
          "Draftcoin",
          "Stakecoin",
          "Obsidian",
          "Cardano",
          "Rupee",
          "KekCoin",
          "Infinity Economics",
          "Lamden Tau",
          "Bulwark",
          "Kalkulus",
          "Digiwage",
          "Monkey Project",
          "TokenPay",
          "Tokyo Coin",
          "BiblePay",
          "Poa Network",
          "Velox",
          "Ontology",
          "MedicCoin",
          "Bitcoin Green",
          "Deviant Coin",
          "Semux",
          "Zealium",
          "Proton",
          "Bitcoin Incognito",
          "HollyWoodCoin",
          "Xt3ch",
          "Dekado",
          "Lynx",
          "Poseidon Quark",
          "BitcoinWSpectrum",
          "Dystem",
          "Peony Coin",
          "Vitae",
          "ARENON",
          "MMOCoin",
          "Ketan",
          "PAXEX",
          "Acute Angle Cloud",
          "Bettex coin",
          "Junson Ming Chan Coin",
          "Crypto Sports",
          "Dash Platinum",
          "ALAX",
          "NeosCoin",
          "Radium",
          "Lisk",
          "HiCoin",
          "EOS",
          "Oxycoin",
          "TigerCash",
          "Waves",
          "Particl",
          "Nxt",
          "ZEPHYR",
          "BitcoinPlus"
         ],
         "legendgroup": "2",
         "marker": {
          "color": [
           2,
           2,
           2,
           2,
           2,
           2,
           2,
           2,
           2,
           2,
           2,
           2,
           2,
           2,
           2,
           2,
           2,
           2,
           2,
           2,
           2,
           2,
           2,
           2,
           2,
           2,
           2,
           2,
           2,
           2,
           2,
           2,
           2,
           2,
           2,
           2,
           2,
           2,
           2,
           2,
           2,
           2,
           2,
           2,
           2,
           2,
           2,
           2,
           2,
           2,
           2,
           2,
           2,
           2,
           2,
           2,
           2,
           2,
           2,
           2,
           2,
           2,
           2,
           2,
           2,
           2,
           2,
           2,
           2,
           2,
           2,
           2,
           2,
           2,
           2,
           2,
           2,
           2,
           2,
           2,
           2,
           2,
           2,
           2,
           2,
           2,
           2,
           2,
           2,
           2,
           2,
           2,
           2,
           2,
           2,
           2,
           2,
           2,
           2,
           2,
           2,
           2
          ],
          "coloraxis": "coloraxis",
          "symbol": "x"
         },
         "mode": "markers",
         "name": "2",
         "scene": "scene",
         "showlegend": true,
         "type": "scatter3d",
         "x": [
          0.1991155431068234,
          0.1379411336814627,
          1.1848347385742664,
          0.1703469053262382,
          -0.0807021368728828,
          0.07053354474787686,
          0.4319675558451598,
          0.11085193738978562,
          0.045954706760367996,
          0.21054938816653992,
          0.23432267266396153,
          0.20983649485552439,
          0.21480806015544537,
          0.11085452639623719,
          0.11813582762208089,
          0.04543185987512128,
          -0.08688564464530214,
          0.11296493666739511,
          0.11328995878908685,
          1.6695212094245095,
          0.2306193211055807,
          0.1707653211644595,
          0.17662040909960483,
          0.03641061214143359,
          0.061751219529893854,
          0.11300488085848871,
          0.17212710531712258,
          0.17291104404820992,
          0.034376247448459615,
          0.17357314475178856,
          0.7162213773451735,
          0.17152158432752657,
          0.1707653211644595,
          0.9497075150512853,
          0.14338201411692514,
          0.11104420953500531,
          0.0346793760631625,
          0.11133642770606893,
          0.1730541930508733,
          0.1803661167319669,
          0.8973617722508315,
          0.13511933236806725,
          0.17073641421274965,
          0.13981256238756967,
          0.1782199398658424,
          0.08627484021350826,
          0.11090182656185726,
          0.17094428570408832,
          0.1226212694248326,
          1.0384195596626449,
          0.22524532558490776,
          0.18153546499453893,
          0.36451259289233057,
          0.7227286183903319,
          0.20336886571483154,
          0.14352977066113934,
          0.14469690321005324,
          0.045467901493325066,
          0.17626051762788542,
          0.045878149210265985,
          0.4368313955297503,
          0.3025426358648854,
          0.1120837227059238,
          0.07600171877354171,
          0.11953480191443401,
          0.2739418951771618,
          0.17148110001809008,
          0.5022746933862352,
          0.1712371316607015,
          0.018520891890791025,
          -0.11914116077358254,
          0.11129135153633515,
          0.11100408367043431,
          0.024804510822643976,
          2.5465281793439276,
          0.14968372773413685,
          0.1395201474799633,
          0.14339079905220328,
          0.28110758081267373,
          0.14507987537714284,
          0.04603603312115759,
          0.1146996802601472,
          0.1725249668166024,
          0.04626801979097703,
          0.7882587748068856,
          0.013169513072078514,
          0.30504696098677603,
          0.14323593727071723,
          0.04539901870172101,
          0.7385326898085919,
          0.13791226296251938,
          0.17040982907605165,
          0.7167527073755814,
          0.3626247984954733,
          0.7287334317538071,
          0.7302711112595929,
          0.16284241622542805,
          0.5021963693227082,
          0.17048860120266723,
          0.12943008202674605,
          0.5842902030442166,
          0.1104561065718535
         ],
         "y": [
          -0.793008096637613,
          -0.941897118134829,
          -0.6877246722973043,
          -1.205063177688312,
          -0.14621626572764201,
          -0.19061072761460407,
          -0.6483898251197235,
          -0.7226104855285862,
          -0.19629152705504044,
          -1.5115550147777908,
          -1.325976756301559,
          -1.5117036488741629,
          -0.8155981778857686,
          -0.7226072766907585,
          -0.7210050504500964,
          -0.19641559713534,
          0.1867821066594161,
          -0.7221356406050653,
          -0.7220800500758483,
          -0.37833193778396307,
          -0.902161255963147,
          -1.204969697827662,
          -1.248728261783172,
          -0.10831038601931117,
          -0.1927465472702041,
          -0.7221102746586808,
          -1.2046636668688246,
          -1.2044769930196342,
          -0.10874871556825288,
          -1.2043660738633835,
          -3.5382075575890473,
          -1.2047997461728588,
          -1.204969697827662,
          -0.5339727484954079,
          -0.9857496413398895,
          -0.7225723096566165,
          -0.10868059482377808,
          -0.722501451243541,
          -1.2044552480994413,
          -1.2028120164095435,
          -0.7784738920908413,
          -0.7173217344983375,
          -1.2049779923471189,
          -0.9414948474913547,
          -1.2483692982157426,
          -0.5027622222548874,
          -0.7225991526452878,
          -1.2049350461989816,
          -0.8101217188782733,
          -1.192128143793857,
          -1.6434750856159195,
          -1.2926998964439842,
          -0.8909806737193889,
          -3.5367640692211064,
          -1.4680933086261088,
          -0.9857162977063662,
          -0.9854626772794859,
          -0.19640742833178845,
          -1.248810070551983,
          -0.10621899845981672,
          -1.674756112440896,
          -1.5432168845948242,
          -0.7223431838548067,
          -0.2797275242097108,
          -0.720681711633948,
          -2.038206397277406,
          -1.204815233986029,
          -1.8283758619118298,
          -1.204870330620987,
          0.02290878887048377,
          0.4499815227392668,
          -0.7225105099977961,
          -0.7225798090521859,
          -0.020755812741289407,
          -1.2089448904281426,
          -0.9843956035604601,
          -0.9415463269704003,
          -0.9857485789453803,
          -0.6859808208677547,
          -0.985370935831689,
          -0.19628160404958755,
          -0.7217605110094913,
          -1.2045936528739,
          -0.19623524620313446,
          -3.593258321096495,
          0.06678078815669507,
          -0.13640866629576567,
          -0.9857831404618854,
          -0.19642313917080662,
          -3.533192012341393,
          -0.9419051622726649,
          -1.205050086440729,
          -3.5380903872722773,
          -0.6660315211977427,
          -3.5352955338430556,
          -3.5349401366969224,
          -0.9363011149654107,
          -2.4972490436566104,
          -1.2050318211560616,
          -1.0077932206129792,
          -2.080384398768299,
          -0.7226995230622937
         ],
         "z": [
          -1.2625895581452058,
          -1.1497778003627568,
          -1.4798195236456977,
          -0.9085857667852452,
          -0.7047385068912837,
          -1.833358054097734,
          -1.352068072579768,
          -1.3507860394257398,
          -1.833262719946236,
          -0.6269457319251609,
          -0.7829697029699174,
          -0.6271686727976094,
          -1.6419155408537394,
          -1.3508225686949655,
          -1.3497222808515104,
          -1.8332155507799202,
          -1.4025200913815756,
          -1.3506050483836387,
          -1.3503330860229243,
          -1.1334192645191687,
          -1.5615537922467388,
          -0.9085422485027961,
          -0.8683101651474101,
          -1.9132229356852595,
          -1.831841101742145,
          -1.350830909293418,
          -0.9084256492387016,
          -0.9085054301713447,
          -1.9136608140038056,
          -0.9079189054345314,
          -1.1150463338111674,
          -0.9084774700338977,
          -0.9085422485027961,
          -1.2806881238897474,
          -1.1095689380747287,
          -1.3506991661327516,
          -1.913634849222631,
          -1.3507467353550564,
          -0.9083473363748215,
          -0.9077218044755859,
          -0.9834721015844479,
          -1.346402565249768,
          -0.9085195657833625,
          -1.1493616703364704,
          -0.8681662747859247,
          -1.5515385016768894,
          -1.3507834660215894,
          -0.9084490490462943,
          -1.270213291691492,
          -0.649487784728696,
          -0.5065013000421814,
          -0.8281331192358732,
          -1.1303712802775734,
          -1.1142251760861677,
          -0.6673053530351676,
          -1.1095582258804193,
          -1.109337046869632,
          -1.8332134335150774,
          -0.8683279542413677,
          -1.9119054216357787,
          -1.6236723874057228,
          -1.378980399164506,
          -1.3505474609767283,
          -1.7506735573154506,
          -1.3497277070651987,
          -0.144678041969915,
          -0.9083915447354546,
          -2.6830215293669277,
          -0.9084086549315088,
          -2.034176360624092,
          -1.6436935227483374,
          -1.3507655794581608,
          -1.350723838153783,
          -1.993874842032551,
          -2.2281887863537375,
          -1.108160147626177,
          -1.1495858403542127,
          -1.1095554297902586,
          -1.313383761620221,
          -1.109383673502669,
          -1.8331388970996498,
          -1.3502506473839768,
          -0.9081202322975971,
          -1.8330382292182978,
          -1.4491374780392559,
          -2.074368642114473,
          -1.8342676633137316,
          -1.109572050492641,
          -1.8332161005165102,
          -1.1131579455851768,
          -1.149758503373528,
          -0.9085656973101266,
          -1.114969581769365,
          -1.3292085718806725,
          -1.1153769968972,
          -1.1153829611080002,
          -1.147645538650982,
          -1.2874100885399589,
          -0.9085668286121462,
          -0.6910563127974739,
          -2.4377052906820116,
          -1.3508187662807678
         ]
        },
        {
         "customdata": [
          [
           59
          ]
         ],
         "hovertemplate": "<b>%{hovertext}</b><br><br>Class=%{marker.color}<br>PC1=%{x}<br>PC2=%{y}<br>PC3=%{z}<br>Algorithm=%{customdata[0]}<extra></extra>",
         "hovertext": [
          "BitTorrent"
         ],
         "legendgroup": "1",
         "marker": {
          "color": [
           1
          ],
          "coloraxis": "coloraxis",
          "symbol": "cross"
         },
         "mode": "markers",
         "name": "1",
         "scene": "scene",
         "showlegend": true,
         "type": "scatter3d",
         "x": [
          25.425131617698256
         ],
         "y": [
          4.042884368800677
         ],
         "z": [
          -0.7867724942297974
         ]
        }
       ],
       "layout": {
        "coloraxis": {
         "colorbar": {
          "title": {
           "text": "Class"
          }
         },
         "colorscale": [
          [
           0,
           "#0d0887"
          ],
          [
           0.1111111111111111,
           "#46039f"
          ],
          [
           0.2222222222222222,
           "#7201a8"
          ],
          [
           0.3333333333333333,
           "#9c179e"
          ],
          [
           0.4444444444444444,
           "#bd3786"
          ],
          [
           0.5555555555555556,
           "#d8576b"
          ],
          [
           0.6666666666666666,
           "#ed7953"
          ],
          [
           0.7777777777777778,
           "#fb9f3a"
          ],
          [
           0.8888888888888888,
           "#fdca26"
          ],
          [
           1,
           "#f0f921"
          ]
         ]
        },
        "legend": {
         "title": {
          "text": "Class"
         },
         "tracegroupgap": 0,
         "x": 0,
         "y": 1
        },
        "margin": {
         "t": 60
        },
        "scene": {
         "domain": {
          "x": [
           0,
           1
          ],
          "y": [
           0,
           1
          ]
         },
         "xaxis": {
          "title": {
           "text": "PC1"
          }
         },
         "yaxis": {
          "title": {
           "text": "PC2"
          }
         },
         "zaxis": {
          "title": {
           "text": "PC3"
          }
         }
        },
        "template": {
         "data": {
          "bar": [
           {
            "error_x": {
             "color": "#2a3f5f"
            },
            "error_y": {
             "color": "#2a3f5f"
            },
            "marker": {
             "line": {
              "color": "#E5ECF6",
              "width": 0.5
             }
            },
            "type": "bar"
           }
          ],
          "barpolar": [
           {
            "marker": {
             "line": {
              "color": "#E5ECF6",
              "width": 0.5
             }
            },
            "type": "barpolar"
           }
          ],
          "carpet": [
           {
            "aaxis": {
             "endlinecolor": "#2a3f5f",
             "gridcolor": "white",
             "linecolor": "white",
             "minorgridcolor": "white",
             "startlinecolor": "#2a3f5f"
            },
            "baxis": {
             "endlinecolor": "#2a3f5f",
             "gridcolor": "white",
             "linecolor": "white",
             "minorgridcolor": "white",
             "startlinecolor": "#2a3f5f"
            },
            "type": "carpet"
           }
          ],
          "choropleth": [
           {
            "colorbar": {
             "outlinewidth": 0,
             "ticks": ""
            },
            "type": "choropleth"
           }
          ],
          "contour": [
           {
            "colorbar": {
             "outlinewidth": 0,
             "ticks": ""
            },
            "colorscale": [
             [
              0,
              "#0d0887"
             ],
             [
              0.1111111111111111,
              "#46039f"
             ],
             [
              0.2222222222222222,
              "#7201a8"
             ],
             [
              0.3333333333333333,
              "#9c179e"
             ],
             [
              0.4444444444444444,
              "#bd3786"
             ],
             [
              0.5555555555555556,
              "#d8576b"
             ],
             [
              0.6666666666666666,
              "#ed7953"
             ],
             [
              0.7777777777777778,
              "#fb9f3a"
             ],
             [
              0.8888888888888888,
              "#fdca26"
             ],
             [
              1,
              "#f0f921"
             ]
            ],
            "type": "contour"
           }
          ],
          "contourcarpet": [
           {
            "colorbar": {
             "outlinewidth": 0,
             "ticks": ""
            },
            "type": "contourcarpet"
           }
          ],
          "heatmap": [
           {
            "colorbar": {
             "outlinewidth": 0,
             "ticks": ""
            },
            "colorscale": [
             [
              0,
              "#0d0887"
             ],
             [
              0.1111111111111111,
              "#46039f"
             ],
             [
              0.2222222222222222,
              "#7201a8"
             ],
             [
              0.3333333333333333,
              "#9c179e"
             ],
             [
              0.4444444444444444,
              "#bd3786"
             ],
             [
              0.5555555555555556,
              "#d8576b"
             ],
             [
              0.6666666666666666,
              "#ed7953"
             ],
             [
              0.7777777777777778,
              "#fb9f3a"
             ],
             [
              0.8888888888888888,
              "#fdca26"
             ],
             [
              1,
              "#f0f921"
             ]
            ],
            "type": "heatmap"
           }
          ],
          "heatmapgl": [
           {
            "colorbar": {
             "outlinewidth": 0,
             "ticks": ""
            },
            "colorscale": [
             [
              0,
              "#0d0887"
             ],
             [
              0.1111111111111111,
              "#46039f"
             ],
             [
              0.2222222222222222,
              "#7201a8"
             ],
             [
              0.3333333333333333,
              "#9c179e"
             ],
             [
              0.4444444444444444,
              "#bd3786"
             ],
             [
              0.5555555555555556,
              "#d8576b"
             ],
             [
              0.6666666666666666,
              "#ed7953"
             ],
             [
              0.7777777777777778,
              "#fb9f3a"
             ],
             [
              0.8888888888888888,
              "#fdca26"
             ],
             [
              1,
              "#f0f921"
             ]
            ],
            "type": "heatmapgl"
           }
          ],
          "histogram": [
           {
            "marker": {
             "colorbar": {
              "outlinewidth": 0,
              "ticks": ""
             }
            },
            "type": "histogram"
           }
          ],
          "histogram2d": [
           {
            "colorbar": {
             "outlinewidth": 0,
             "ticks": ""
            },
            "colorscale": [
             [
              0,
              "#0d0887"
             ],
             [
              0.1111111111111111,
              "#46039f"
             ],
             [
              0.2222222222222222,
              "#7201a8"
             ],
             [
              0.3333333333333333,
              "#9c179e"
             ],
             [
              0.4444444444444444,
              "#bd3786"
             ],
             [
              0.5555555555555556,
              "#d8576b"
             ],
             [
              0.6666666666666666,
              "#ed7953"
             ],
             [
              0.7777777777777778,
              "#fb9f3a"
             ],
             [
              0.8888888888888888,
              "#fdca26"
             ],
             [
              1,
              "#f0f921"
             ]
            ],
            "type": "histogram2d"
           }
          ],
          "histogram2dcontour": [
           {
            "colorbar": {
             "outlinewidth": 0,
             "ticks": ""
            },
            "colorscale": [
             [
              0,
              "#0d0887"
             ],
             [
              0.1111111111111111,
              "#46039f"
             ],
             [
              0.2222222222222222,
              "#7201a8"
             ],
             [
              0.3333333333333333,
              "#9c179e"
             ],
             [
              0.4444444444444444,
              "#bd3786"
             ],
             [
              0.5555555555555556,
              "#d8576b"
             ],
             [
              0.6666666666666666,
              "#ed7953"
             ],
             [
              0.7777777777777778,
              "#fb9f3a"
             ],
             [
              0.8888888888888888,
              "#fdca26"
             ],
             [
              1,
              "#f0f921"
             ]
            ],
            "type": "histogram2dcontour"
           }
          ],
          "mesh3d": [
           {
            "colorbar": {
             "outlinewidth": 0,
             "ticks": ""
            },
            "type": "mesh3d"
           }
          ],
          "parcoords": [
           {
            "line": {
             "colorbar": {
              "outlinewidth": 0,
              "ticks": ""
             }
            },
            "type": "parcoords"
           }
          ],
          "pie": [
           {
            "automargin": true,
            "type": "pie"
           }
          ],
          "scatter": [
           {
            "marker": {
             "colorbar": {
              "outlinewidth": 0,
              "ticks": ""
             }
            },
            "type": "scatter"
           }
          ],
          "scatter3d": [
           {
            "line": {
             "colorbar": {
              "outlinewidth": 0,
              "ticks": ""
             }
            },
            "marker": {
             "colorbar": {
              "outlinewidth": 0,
              "ticks": ""
             }
            },
            "type": "scatter3d"
           }
          ],
          "scattercarpet": [
           {
            "marker": {
             "colorbar": {
              "outlinewidth": 0,
              "ticks": ""
             }
            },
            "type": "scattercarpet"
           }
          ],
          "scattergeo": [
           {
            "marker": {
             "colorbar": {
              "outlinewidth": 0,
              "ticks": ""
             }
            },
            "type": "scattergeo"
           }
          ],
          "scattergl": [
           {
            "marker": {
             "colorbar": {
              "outlinewidth": 0,
              "ticks": ""
             }
            },
            "type": "scattergl"
           }
          ],
          "scattermapbox": [
           {
            "marker": {
             "colorbar": {
              "outlinewidth": 0,
              "ticks": ""
             }
            },
            "type": "scattermapbox"
           }
          ],
          "scatterpolar": [
           {
            "marker": {
             "colorbar": {
              "outlinewidth": 0,
              "ticks": ""
             }
            },
            "type": "scatterpolar"
           }
          ],
          "scatterpolargl": [
           {
            "marker": {
             "colorbar": {
              "outlinewidth": 0,
              "ticks": ""
             }
            },
            "type": "scatterpolargl"
           }
          ],
          "scatterternary": [
           {
            "marker": {
             "colorbar": {
              "outlinewidth": 0,
              "ticks": ""
             }
            },
            "type": "scatterternary"
           }
          ],
          "surface": [
           {
            "colorbar": {
             "outlinewidth": 0,
             "ticks": ""
            },
            "colorscale": [
             [
              0,
              "#0d0887"
             ],
             [
              0.1111111111111111,
              "#46039f"
             ],
             [
              0.2222222222222222,
              "#7201a8"
             ],
             [
              0.3333333333333333,
              "#9c179e"
             ],
             [
              0.4444444444444444,
              "#bd3786"
             ],
             [
              0.5555555555555556,
              "#d8576b"
             ],
             [
              0.6666666666666666,
              "#ed7953"
             ],
             [
              0.7777777777777778,
              "#fb9f3a"
             ],
             [
              0.8888888888888888,
              "#fdca26"
             ],
             [
              1,
              "#f0f921"
             ]
            ],
            "type": "surface"
           }
          ],
          "table": [
           {
            "cells": {
             "fill": {
              "color": "#EBF0F8"
             },
             "line": {
              "color": "white"
             }
            },
            "header": {
             "fill": {
              "color": "#C8D4E3"
             },
             "line": {
              "color": "white"
             }
            },
            "type": "table"
           }
          ]
         },
         "layout": {
          "annotationdefaults": {
           "arrowcolor": "#2a3f5f",
           "arrowhead": 0,
           "arrowwidth": 1
          },
          "coloraxis": {
           "colorbar": {
            "outlinewidth": 0,
            "ticks": ""
           }
          },
          "colorscale": {
           "diverging": [
            [
             0,
             "#8e0152"
            ],
            [
             0.1,
             "#c51b7d"
            ],
            [
             0.2,
             "#de77ae"
            ],
            [
             0.3,
             "#f1b6da"
            ],
            [
             0.4,
             "#fde0ef"
            ],
            [
             0.5,
             "#f7f7f7"
            ],
            [
             0.6,
             "#e6f5d0"
            ],
            [
             0.7,
             "#b8e186"
            ],
            [
             0.8,
             "#7fbc41"
            ],
            [
             0.9,
             "#4d9221"
            ],
            [
             1,
             "#276419"
            ]
           ],
           "sequential": [
            [
             0,
             "#0d0887"
            ],
            [
             0.1111111111111111,
             "#46039f"
            ],
            [
             0.2222222222222222,
             "#7201a8"
            ],
            [
             0.3333333333333333,
             "#9c179e"
            ],
            [
             0.4444444444444444,
             "#bd3786"
            ],
            [
             0.5555555555555556,
             "#d8576b"
            ],
            [
             0.6666666666666666,
             "#ed7953"
            ],
            [
             0.7777777777777778,
             "#fb9f3a"
            ],
            [
             0.8888888888888888,
             "#fdca26"
            ],
            [
             1,
             "#f0f921"
            ]
           ],
           "sequentialminus": [
            [
             0,
             "#0d0887"
            ],
            [
             0.1111111111111111,
             "#46039f"
            ],
            [
             0.2222222222222222,
             "#7201a8"
            ],
            [
             0.3333333333333333,
             "#9c179e"
            ],
            [
             0.4444444444444444,
             "#bd3786"
            ],
            [
             0.5555555555555556,
             "#d8576b"
            ],
            [
             0.6666666666666666,
             "#ed7953"
            ],
            [
             0.7777777777777778,
             "#fb9f3a"
            ],
            [
             0.8888888888888888,
             "#fdca26"
            ],
            [
             1,
             "#f0f921"
            ]
           ]
          },
          "colorway": [
           "#636efa",
           "#EF553B",
           "#00cc96",
           "#ab63fa",
           "#FFA15A",
           "#19d3f3",
           "#FF6692",
           "#B6E880",
           "#FF97FF",
           "#FECB52"
          ],
          "font": {
           "color": "#2a3f5f"
          },
          "geo": {
           "bgcolor": "white",
           "lakecolor": "white",
           "landcolor": "#E5ECF6",
           "showlakes": true,
           "showland": true,
           "subunitcolor": "white"
          },
          "hoverlabel": {
           "align": "left"
          },
          "hovermode": "closest",
          "mapbox": {
           "style": "light"
          },
          "paper_bgcolor": "white",
          "plot_bgcolor": "#E5ECF6",
          "polar": {
           "angularaxis": {
            "gridcolor": "white",
            "linecolor": "white",
            "ticks": ""
           },
           "bgcolor": "#E5ECF6",
           "radialaxis": {
            "gridcolor": "white",
            "linecolor": "white",
            "ticks": ""
           }
          },
          "scene": {
           "xaxis": {
            "backgroundcolor": "#E5ECF6",
            "gridcolor": "white",
            "gridwidth": 2,
            "linecolor": "white",
            "showbackground": true,
            "ticks": "",
            "zerolinecolor": "white"
           },
           "yaxis": {
            "backgroundcolor": "#E5ECF6",
            "gridcolor": "white",
            "gridwidth": 2,
            "linecolor": "white",
            "showbackground": true,
            "ticks": "",
            "zerolinecolor": "white"
           },
           "zaxis": {
            "backgroundcolor": "#E5ECF6",
            "gridcolor": "white",
            "gridwidth": 2,
            "linecolor": "white",
            "showbackground": true,
            "ticks": "",
            "zerolinecolor": "white"
           }
          },
          "shapedefaults": {
           "line": {
            "color": "#2a3f5f"
           }
          },
          "ternary": {
           "aaxis": {
            "gridcolor": "white",
            "linecolor": "white",
            "ticks": ""
           },
           "baxis": {
            "gridcolor": "white",
            "linecolor": "white",
            "ticks": ""
           },
           "bgcolor": "#E5ECF6",
           "caxis": {
            "gridcolor": "white",
            "linecolor": "white",
            "ticks": ""
           }
          },
          "title": {
           "x": 0.05
          },
          "xaxis": {
           "automargin": true,
           "gridcolor": "white",
           "linecolor": "white",
           "ticks": "",
           "title": {
            "standoff": 15
           },
           "zerolinecolor": "white",
           "zerolinewidth": 2
          },
          "yaxis": {
           "automargin": true,
           "gridcolor": "white",
           "linecolor": "white",
           "ticks": "",
           "title": {
            "standoff": 15
           },
           "zerolinecolor": "white",
           "zerolinewidth": 2
          }
         }
        },
        "width": 800
       }
      },
      "text/html": [
       "<div>\n",
       "        \n",
       "        \n",
       "            <div id=\"fce1e375-bf7c-4264-976f-ccdeac672d52\" class=\"plotly-graph-div\" style=\"height:525px; width:800px;\"></div>\n",
       "            <script type=\"text/javascript\">\n",
       "                require([\"plotly\"], function(Plotly) {\n",
       "                    window.PLOTLYENV=window.PLOTLYENV || {};\n",
       "                    \n",
       "                if (document.getElementById(\"fce1e375-bf7c-4264-976f-ccdeac672d52\")) {\n",
       "                    Plotly.newPlot(\n",
       "                        'fce1e375-bf7c-4264-976f-ccdeac672d52',\n",
       "                        [{\"customdata\": [[52], [52], [47], [52], [64], [47], [52], [68], [64], [52], [52], [52], [47], [52], [52], [52], [46], [52], [52], [52], [52], [52], [64], [47], [52], [52], [52], [52], [52], [52], [52], [52], [52], [52], [64], [47], [52], [52], [52], [51], [52], [52], [47], [66], [52], [47], [52], [66], [36], [52], [52], [52], [52], [52], [52], [64], [47], [47], [64], [47], [47], [47], [64], [52], [52], [52], [52], [52], [64], [47], [66], [52], [52], [47], [52], [52], [66], [52], [52], [52], [66], [52], [58], [45], [52], [52], [52], [52], [47], [52], [64], [51], [64], [47], [44], [64], [52], [52], [66], [47], [68], [64], [47], [52], [47], [64], [52], [47], [47], [52], [64], [52], [65], [64], [47], [52], [64], [64], [47], [47], [64], [52], [52], [52], [52], [64], [64], [52], [47], [47], [64], [52], [52], [52], [47], [52], [52], [49], [52], [64], [67], [49], [64], [52], [64], [66], [64], [52], [52], [64], [64], [47], [52], [64], [52], [52], [64], [52], [52], [52], [45], [52], [52], [47], [64], [52], [64], [52], [52], [52], [64], [52], [52], [64], [64], [52], [64], [64], [52], [52], [52], [64], [52], [47], [52], [68], [52], [64], [55], [52], [66], [52], [64], [64], [52], [66], [60], [64], [55], [47], [64], [63], [52], [52], [52], [52], [52], [52], [52], [52], [64], [36], [64], [52], [52], [47], [38], [52], [46], [52], [52], [64], [64], [66], [52], [64], [52], [52], [52], [64], [64], [52], [52], [52], [64], [47], [52], [56], [52], [52], [48], [52], [52], [64], [64], [70], [52], [52], [52], [52], [64], [46], [52], [61], [52], [49], [52], [69], [64], [69], [46], [52], [52], [70], [64], [47], [64], [52], [50], [69], [47], [70], [46], [52], [52], [46], [52], [45], [52], [70], [49], [64], [47], [66], [47], [64], [52], [52], [64], [52], [52], [52], [64], [52], [52], [47], [64], [47], [52], [52], [52], [64], [52], [52], [52], [64], [47], [52], [36], [66], [52]], \"hovertemplate\": \"<b>%{hovertext}</b><br><br>Class=%{marker.color}<br>PC1=%{x}<br>PC2=%{y}<br>PC3=%{z}<br>Algorithm=%{customdata[0]}<extra></extra>\", \"hovertext\": [\"42 Coin\", \"404Coin\", \"Bitcoin\", \"Litecoin\", \"Dash\", \"BitcoinDark\", \"ProsperCoin\", \"KoboCoin\", \"Spreadcoin\", \"Argentum\", \"Aurora Coin\", \"BlueCoin\", \"ZetaCoin\", \"SexCoin\", \"Quatloo\", \"EnergyCoin\", \"QuarkCoin\", \"Digitalcoin \", \"BitBar\", \"Catcoin\", \"CryptoBullion\", \"CannaCoin\", \"CryptCoin\", \"DevCoin\", \"EarthCoin\", \"E-Gulden\", \"Einsteinium\", \"Emerald\", \"Franko\", \"GrandCoin\", \"GlobalCoin\", \"GoldCoin\", \"HoboNickels\", \"Infinite Coin\", \"IOCoin\", \"IXcoin\", \"KrugerCoin\", \"LuckyCoin\", \"Litebar \", \"MaxCoin\", \"MegaCoin\", \"MinCoin\", \"MazaCoin\", \"NavCoin\", \"NobleCoin\", \"Namecoin\", \"NyanCoin\", \"OpalCoin\", \"Orbitcoin\", \"PotCoin\", \"PhoenixCoin\", \"Reddcoin\", \"RonPaulCoin\", \"StableCoin\", \"SmartCoin\", \"SyncCoin\", \"SysCoin\", \"TigerCoin\", \"TorCoin\", \"TerraCoin\", \"UnbreakableCoin\", \"Unobtanium\", \"UroCoin\", \"UnitaryStatus Dollar\", \"UltraCoin\", \"ViaCoin\", \"VeriCoin\", \"WorldCoin\", \"X11 Coin\", \"JouleCoin\", \"StealthCoin\", \"ZCC Coin\", \"MonaCoin\", \"Neutron\", \"Gulden\", \"PesetaCoin\", \"Kore\", \"Wild Beast Coin\", \"Flo\", \"8BIT Coin\", \"Sativa Coin\", \"ArtByte\", \"Folding Coin\", \"CypherPunkCoin\", \"OmniCron\", \"Vtorrent\", \"GreenCoin\", \"MasterCoin\", \"SoonCoin\", \"1Credit\", \"IslaCoin\", \"Nexus\", \"MarsCoin \", \"Anarchists Prime\", \"Droidz\", \"BowsCoin\", \"Song Coin\", \"BitZeny\", \"Paycon\", \"Emercoin\", \"EverGreenCoin\", \"MindCoin\", \"I0coin\", \"Revolution VR\", \"EDRCoin\", \"Hitcoin\", \"Gamecredits\", \"DubaiCoin\", \"CarpeDiemCoin\", \"BillaryCoin\", \"Adzcoin\", \"YoCoin\", \"SibCoin\", \"EuropeCoin\", \"SwingCoin\", \"Francs\", \"BolivarCoin\", \"Ratecoin\", \"Revenu\", \"Clockcoin\", \"BitSend\", \"Omni\", \"PutinCoin\", \"iBankCoin\", \"Frankywillcoin\", \"PizzaCoin\", \"GoldBlocks\", \"CarterCoin\", \"BitTokens\", \"ZayedCoin\", \"MustangCoin\", \"ZoneCoin\", \"RootCoin\", \"DopeCoin\", \"DollarCoin\", \"Swiscoin\", \"Shilling\", \"BuzzCoin\", \"PesoBit\", \"Halloween Coin\", \"GanjaCoin V2\", \"LanaCoin\", \"InsaneCoin\", \"KiloCoin\", \"ArtexCoin\", \"EmberCoin\", \"XenixCoin\", \"PLNCoin\", \"AquariusCoin\", \"Kurrent\", \"Eternity\", \"Eurocoin\", \"BitcoinFast\", \"Stakenet\", \"BitConnect Coin\", \"MoneyCoin\", \"Enigma\", \"Russiacoin\", \"GameUnits\", \"GAKHcoin\", \"LiteCreed\", \"OsmiumCoin\", \"Klingon Empire Darsek\", \"Internet of People\", \"KushCoin\", \"Printerium\", \"PacCoin\", \"Impeach\", \"FirstCoin\", \"BeaverCoin\", \"VaultCoin\", \"OpenChat\", \"Canada eCoin\", \"VirtacoinPlus\", \"Impact\", \"EB3coin\", \"HappyCoin\", \"Condensate\", \"Independent Money System\", \"ArgusCoin\", \"LomoCoin\", \"GoldReserve\", \"BenjiRolls\", \"ILCoin\", \"Degas Coin\", \"HTML5 Coin\", \"EquiTrader\", \"DigitalPrice\", \"Bitcoin Planet\", \"Unify\", \"BritCoin\", \"SocialCoin\", \"ArcticCoin\", \"DAS\", \"Linda\", \"DeepOnion\", \"Bitcore\", \"Onix\", \"Cream\", \"Bitcoin Cash\", \"Monoeci\", \"Vechain\", \"Sojourn Coin\", \"NewYorkCoin\", \"FrazCoin\", \"Kronecoin\", \"AdCoin\", \"Linx\", \"CoinonatX\", \"Ethereum Dark\", \"Regalcoin\", \"TrezarCoin\", \"Elements\", \"TerraNovaCoin\", \"WomenCoin\", \"Theresa May Coin\", \"LUXCoin\", \"Xios\", \"Bitcloud 2.0\", \"eBoost\", \"BlackholeCoin\", \"Pura\", \"Magnet\", \"Bitcoin Diamond\", \"Cash & Back Coin\", \"AC3\", \"GermanCoin\", \"LiteCoin Ultra\", \"PopularCoin\", \"PhantomX\", \"Sucre\", \"IrishCoin\", \"Trollcoin\", \"Litecoin Plus\", \"Pioneer Coin\", \"UnitedBitcoin\", \"My Big Coin\", \"MUNcoin\", \"Unified Society USDEX\", \"ShareChain\", \"LitecoinCash\", \"BitFlip\", \"LottoCoin\", \"Crypto Improvement Fund\", \"Pushi\", \"Ellerium\", \"Poseidon\", \"Briacoin\", \"Ignition\", \"Abjcoin\", \"FuturoCoin\", \"Carebit\", \"iDealCash\", \"KEYCO\", \"Swisscoin\", \"TheVig\", \"EmaratCoin\", \"Motion\", \"Axe\", \"Trivechain\", \"Giant\", \"HexCoin\", \"TPCash\", \"Urals Coin\", \"EUNO\", \"Project Pai\", \"Azart\", \"ThunderStake\", \"Kcash\", \"Xchange\", \"Bitcoin SV\", \"BitMoney\", \"HerbCoin\", \"Block-Logic\", \"Oduwa\", \"Galilel\", \"Credit\", \"SLICE\", \"Nasdacoin\", \"Beetle Coin\", \"Titan Coin\", \"Award\", \"BLAST\", \"Bitcoin Rhodium\", \"GlobalToken\", \"Insane Coin\", \"LiteDoge\", \"SolarCoin\", \"TruckCoin\", \"OrangeCoin\", \"BitstarCoin\", \"HyperCoin\", \"PinkCoin\", \"Crypto Escudo\", \"AudioCoin\", \"IncaKoin\", \"Piggy Coin\", \"Crown Coin\", \"Genstake\", \"SmileyCoin\", \"XiaoMiCoin\", \"CapriCoin\", \" ClubCoin\", \"Bata\", \"Pakcoin\", \"Creditbit \", \"OKCash\", \"WhiteCoin\", \"FriendshipCoin\", \"Triangles Coin\", \"Gapcoin\"], \"legendgroup\": \"0\", \"marker\": {\"color\": [0, 0, 0, 0, 0, 0, 0, 0, 0, 0, 0, 0, 0, 0, 0, 0, 0, 0, 0, 0, 0, 0, 0, 0, 0, 0, 0, 0, 0, 0, 0, 0, 0, 0, 0, 0, 0, 0, 0, 0, 0, 0, 0, 0, 0, 0, 0, 0, 0, 0, 0, 0, 0, 0, 0, 0, 0, 0, 0, 0, 0, 0, 0, 0, 0, 0, 0, 0, 0, 0, 0, 0, 0, 0, 0, 0, 0, 0, 0, 0, 0, 0, 0, 0, 0, 0, 0, 0, 0, 0, 0, 0, 0, 0, 0, 0, 0, 0, 0, 0, 0, 0, 0, 0, 0, 0, 0, 0, 0, 0, 0, 0, 0, 0, 0, 0, 0, 0, 0, 0, 0, 0, 0, 0, 0, 0, 0, 0, 0, 0, 0, 0, 0, 0, 0, 0, 0, 0, 0, 0, 0, 0, 0, 0, 0, 0, 0, 0, 0, 0, 0, 0, 0, 0, 0, 0, 0, 0, 0, 0, 0, 0, 0, 0, 0, 0, 0, 0, 0, 0, 0, 0, 0, 0, 0, 0, 0, 0, 0, 0, 0, 0, 0, 0, 0, 0, 0, 0, 0, 0, 0, 0, 0, 0, 0, 0, 0, 0, 0, 0, 0, 0, 0, 0, 0, 0, 0, 0, 0, 0, 0, 0, 0, 0, 0, 0, 0, 0, 0, 0, 0, 0, 0, 0, 0, 0, 0, 0, 0, 0, 0, 0, 0, 0, 0, 0, 0, 0, 0, 0, 0, 0, 0, 0, 0, 0, 0, 0, 0, 0, 0, 0, 0, 0, 0, 0, 0, 0, 0, 0, 0, 0, 0, 0, 0, 0, 0, 0, 0, 0, 0, 0, 0, 0, 0, 0, 0, 0, 0, 0, 0, 0, 0, 0, 0, 0, 0, 0, 0, 0, 0, 0, 0, 0, 0, 0, 0, 0, 0, 0, 0, 0, 0, 0, 0, 0, 0, 0, 0, 0, 0], \"coloraxis\": \"coloraxis\", \"symbol\": \"circle\"}, \"mode\": \"markers\", \"name\": \"0\", \"scene\": \"scene\", \"showlegend\": true, \"type\": \"scatter3d\", \"x\": [-0.4178746258673046, -0.39656383123363315, -0.19208254817717044, -0.21795407555531654, -0.48277085559300625, -0.3904431730842161, -0.21945572326652077, -0.500957310162905, -0.2846395801633709, -0.21892381466177002, -0.4174312780703995, -0.4082801670159259, -0.18827902396168705, -0.2152808341297793, -0.2186330753277078, -0.4160164640337736, -0.1807114467482543, -0.21876322107361573, -0.41786892927247454, -0.2194338044095951, -0.4178488275196812, -0.21955125583159774, -0.28475270131725394, 0.30320547245834956, 0.10605310008575985, -0.21922708702610824, -0.21341956410099752, -0.21913722867465532, -0.2196242769993752, -0.19204382877187773, -0.21805584440298745, -0.21839573740368512, -0.41531362224662777, 2.064095506459022, -0.482640705319023, -0.1920348015443127, -0.21478510254539443, -0.2192611162037114, -0.2197247969216716, -0.4104979743707976, -0.21875445323368117, -0.2195663854056731, -0.3418604167632691, -0.49300759470218625, -0.032387168917945026, -0.19213072666529435, -0.2112943524695242, -0.49377661340794926, -0.33078121423690027, -0.4102663795896603, -0.4157671655291174, 0.024770092523511388, -0.21952614873356308, -0.21686212056962614, -0.2188510671994043, -0.4831296022431716, -0.1750823381516953, -0.19143289350400447, -0.4830069155071611, -0.19179462872773792, -0.1917223790947243, -0.1925599738711926, -0.2849918931876689, -0.3851060596907513, -0.41610516349118265, -0.21917303940698704, -0.1532317872198355, -0.21526587515103976, -0.48296907533525973, -0.19151878042925152, -0.49350577170402177, -0.4055306109414005, -0.21766272019249117, -0.3894068881363544, -0.19650451497972635, -0.21599662476126805, -0.4938536125815673, -0.21972580500113037, -0.21583842359249714, -0.4178524635456452, -0.49379721206172883, -0.19767889097738636, -0.23141045775764826, -0.1815935896138935, -0.21956792948129095, -0.4174972143555631, -0.04904751444571545, -0.21973950325263233, -0.19216505916530655, 0.710317093200998, -0.483106774244621, -0.6088064991868205, -0.2841899869314113, -0.19179937748350065, -0.37419076612893326, -0.2845582910059452, -0.2171379919505525, -0.21608602653444992, -0.493152063357168, -0.3799254031462896, -0.5044111371061603, -0.2846087800908494, -0.1920361887497771, -0.21446127739088694, -0.3904072242058371, -0.04868653336608105, -0.2178514477361188, -0.39050144831415273, 0.35432309829930475, -0.4173141545721905, -0.2834797929926462, -0.2180435676299347, -0.2899447477978685, -0.47909045259265365, -0.39021457272159793, -0.21945371557492677, -0.2845512189085268, -0.48033973393619295, -0.3884153598261385, -0.3851259755418439, -0.481356176622206, -0.21973957963521182, -0.3853785647032857, -0.41735809624805126, -0.41535374971584993, -0.28473658048798356, -0.4823891531386717, -0.4163130058840487, -0.3904637529073737, -0.19237283145361442, -0.4830893718738125, -0.41762334218293945, -0.4178453359484433, -0.21596894446026477, -0.19232048229199047, -0.5085708944096974, -0.21928394334614318, 0.09623944654193964, -0.41736845354007707, -0.4639689699462834, -0.49692250371390895, -0.3093393188311506, -0.48254938239514544, -0.11569649544554943, -0.2675135615334755, 0.9066352241173463, -0.4830324924879622, -0.4172269670028221, -0.4174130424310846, -0.28177859837151076, -0.4824314171916091, -0.39029537158974936, -0.4172353438371642, -0.9434937444408614, -0.4174242506574557, -0.41113200326744265, -0.4830667818273199, -0.41629236374022044, -0.41769076423375967, -0.4177910399568334, -0.378555808564973, -0.21971418037791435, -0.41245803339297027, -0.3904346014401551, -0.48294961774198386, -0.41749393771556376, 0.7340445434663014, -0.41764823935072465, -0.4811414977927332, -0.2196741134924439, -0.2744418560687455, -0.39266585482383665, -0.2172366067478901, -0.4819199351386416, -0.48034714677421764, -0.17834944924771554, -0.48179372648828006, -0.47623783319198393, -0.4175791165306158, -0.4175681573002737, -0.40775761117765413, -0.4824659755293262, -0.21908987222722306, -0.1473947968855737, -0.4164906304724914, 1.018893635647558, -0.21882077902560634, -0.2834686019849713, -0.4330746899721246, -0.21928644271614225, -0.49338104657877696, -0.21891887975910107, -0.2840103331362615, -0.28477945006326566, 0.22417085796730843, -0.4934834816416196, -0.2627773604004332, -0.2720404128834189, -0.43246275374668275, -0.19208151516348143, -0.48284372954937627, 0.9060555562696861, -0.1135983991358237, 1.939546347913755, -0.21940640591078736, -0.2186423848771205, -0.21825122994037194, -0.2182350767792542, -0.4170917907495783, -0.41776875008324416, -0.48274701730915814, -0.324066456466448, -0.22600183892277487, -0.4176983470239607, 0.5665664289713823, -0.38828419245313955, -0.3410118104523465, -0.41762986934113866, -0.38276150900837935, -0.21723439329264274, -0.4174780622774483, -0.27882617172511936, -0.48109709473434864, -0.4891112397064166, -0.41407596370617145, -0.2782371973915249, 0.1617589233651325, -0.4162310798797218, -0.10935110133605735, -0.48194205753731767, -0.2847460997254305, -0.21842135122214482, -0.3998520741111549, -0.4177963730577498, -0.2846495915188266, -0.19205717476812334, -0.35138958359620626, -0.2412662165531415, -0.41198321516033304, 0.03233260149001282, -0.24591220589393273, -0.2191628134160066, 0.18513388017106355, -0.27676494198085855, -0.48284416078738257, -0.5151442329907557, -0.21948136336559798, -0.4178315299836708, -0.417806229898153, -0.4174221542143984, -0.2835189961273391, -0.3811152611788423, -0.34489263050600666, -0.2685023908438095, -0.16074515148325663, -0.400048056009782, -0.4166992967347937, -0.31185383893361923, -0.2847224326443993, -0.5089271996035123, -0.3851056712795791, -0.21951025649638586, -0.40768356716317145, -0.31529197977196594, -0.4821595341724627, -0.13962711345163945, -0.28468164975067134, -0.21989966619492782, -0.9101087073406737, -0.3110414858767317, -0.19208156159384715, -0.06910540339288614, -0.38416802465938327, -0.21800920885893327, -0.41743919739773777, -0.3847788925463064, 0.8037602651790118, -0.18048358392541522, -0.41671519345729846, -0.5076985707578644, -0.3374791140811182, -0.4786508195244458, -0.1911289283947166, -0.2958470561138365, -0.18958954547322146, -0.48246734564116933, 0.1672612501336625, 0.7728224985196052, -0.4794669294804154, -0.4157993251967483, -0.41701543517734707, -0.4177292024901649, -0.4714862601734482, -0.19786501332784473, -0.29691685235829685, -0.11788684556419725, -0.4655574729717244, -0.19179385061391158, -0.4168170265742331, 0.7324158929277561, -0.40772594230004683, -0.4779863995779887, -0.4146924939335598, -0.21962828211392973, -0.21686300978640338, -0.8789466012946732, -0.3884959915639871, -0.4110366779682835, -0.3302427711368727, -0.49400212520862025, -0.4151218119673283], \"y\": [0.8102956393790135, 0.8151352783213055, 0.016265688164446637, 0.23582418468471358, 1.3366086693013608, 0.5910839678621304, 0.23548727971644776, 1.5127909817174048, 0.7617375423991789, 0.23560327988577895, 0.8103954030119676, 0.8125131647424385, 0.017120773686627, 0.2364152571549322, 0.2356646690226324, 0.8107251082121676, -0.02625226805893695, 0.23564295180924494, 0.8102968753457673, 0.2354923457260866, 0.8103014407069667, 0.23546646781031094, 0.7617117198775025, 0.1273547303871909, 0.3085460343280933, 0.2355401234117948, 0.23683741093934338, 0.2355591172597786, 0.23544989796493138, 0.24159706063392722, 0.23580292203037553, 0.23572400172890248, 0.8108681923797397, 0.7486606459030509, 1.336638750365567, 0.016276723635096566, 0.2365273454660903, 0.23553241973484718, 0.23542826019373309, 0.7668747920142811, 0.23564597309312466, 0.23546347757990357, 0.6019259281418464, 1.4244655395226102, 0.276306932491165, 0.016254552880975763, 0.2373225988209342, 1.4242877995889485, 0.10867020232536873, 0.8119863380638805, 0.8107669163427663, 0.9126021792565775, 0.23547100258593529, 0.23604978132864549, 0.23562215881788726, 1.3365293030345171, 0.020054992215139036, 0.01641164328665082, 1.3365560458631367, 0.01632884562668711, 0.01633941351710661, 0.016158690617286652, 0.7616593405931116, 0.8176111538019057, 0.8106884736740887, 0.235552292525471, 0.04390849494705635, 0.23641622659421707, 1.336565517718647, 0.01639211722414961, 1.4243503980486847, 0.8129873194251711, 0.23588811691402123, 0.5913160583174515, 0.24052423214120133, 0.2362633097257908, 1.4242680670479544, 0.23542782101051232, 0.23630090437650247, 0.8103007616663714, 1.424281425330094, 0.24036251372372244, 0.5032241647673691, -0.07152595013370594, 0.2354641901610095, 0.8103796420956084, 0.2732629906180331, 0.235424979044814, 0.01624661776024478, 0.4355418823513904, 1.3365345793314263, 1.3417088241569832, 0.7618393575220317, 0.016325850730281442, 0.45951410839383916, 0.7617561690687866, 0.2359924351884755, 0.23622915655228285, 1.4244240822035548, 0.5933571053166063, 1.5120449392836457, 0.7617453064381772, 0.01627640301635821, 0.23661113125139766, 0.5910922765693315, 1.4326567024341696, 0.23584790460418936, 0.5910723543521378, 0.13906828102969743, 0.8104184024631585, 0.761995273296094, 0.23578989168557418, 0.8056203836127035, 1.3374009003389102, 0.5911338991775977, 0.23548790508363443, 0.7617571582589648, 1.3371620129038546, 0.5915202628708461, 0.5922317553848941, 1.336916761301813, 0.23542496187969686, 0.8174836356288742, 0.8104078699598493, 0.810862144657095, 0.7617143164469399, 1.3366923730523907, 0.8106420493518789, 0.5910793726757163, 0.016200413572480133, 1.3365381174507605, 0.8103503293837124, 0.8103024090367726, 0.2362642841305695, 0.016212367230360333, 1.2026097024268727, 0.23552553041514634, 0.7905648744518146, 0.810412628784345, 1.3407158091267015, 1.4686542166704417, 0.6988409858350455, 1.3366585667283775, 0.25785870282534235, 0.7656183619264024, 1.7478217318023421, 1.3365511260605032, 0.8104391119753213, 0.8103955469443681, 0.7623652302756336, 1.3366809913644837, 0.5911184512522102, 0.8104380696878264, 2.678332561112317, 0.8103952151707766, 0.8117490560028039, 1.3365430159131118, 0.8106381080175916, 0.8103360371252706, 0.810314423268668, 0.503602979231947, 0.23543049383766096, 0.8114668836395299, 0.5910861103269733, 1.3365693930697484, 0.810380399411096, 0.9810509600707258, 0.8103444244278304, 1.0025435183664664, 0.23543965014351512, 0.7639363863797555, 0.8159606943011988, 0.23598742870438982, 1.336792754448744, 1.3371546527699851, 0.24434602854108284, 1.3368219245027033, 1.338041498566834, 0.8103605168422942, 0.8103618578542223, 0.8124726025902099, 1.3366762308108728, 0.23556949457357623, 0.02619421548402655, 0.8105985756837826, 1.8496035210359396, 0.23562580335660754, 0.7619952784136029, 0.9420953215085808, 0.23552668280846556, 1.4243743850759618, 0.23560264574807135, 0.7618765239874041, 0.7617053923523206, 0.9506218969969071, 1.4243525008538473, 0.586351713265146, 0.7644752876313933, 0.9422367556548505, 0.016265926920387384, 1.336593841816619, 2.632947001859002, 0.2582629575588846, 0.7344913839670246, 0.2354988395596136, 0.2356650987583513, 0.23575292327874545, 0.23575665668830237, 0.8104687877555562, 0.810319432372756, 1.3366133722487583, 0.1101582279174093, 0.7750030453507952, 0.8103338435570737, 1.0337917444180655, 0.5915703792433126, 0.19651587083941435, 0.8103488207901549, 0.5477210323358875, 0.2359879402906307, 0.8103849094819198, 0.7630279284870076, 1.3369758350756382, 1.4253322060077946, 0.811139726552922, 0.7631317879115123, 0.93619689922668, 0.8106513042593221, 0.26013197704389746, 1.3367957083053952, 0.7617129552658182, 0.2357194120653439, 0.814315908653536, 0.810313080262982, 0.7617347445037311, 0.016271687165683515, 0.6187689747090848, 0.41088561271484203, 0.8116198649408138, 0.29207202126892373, 0.2556900072343076, 0.2355519132646876, 0.32603194623418663, 0.7634801307823809, 1.3365912425774509, 1.599778101871527, 0.2354813536323681, 0.8103051159344926, 0.8103106407563234, 0.8103953770361011, 0.7619836310356471, 0.5481015224043605, 0.826337282728363, 0.6301386427894135, 0.868079201774257, 0.6790707424225421, 0.8105537356644307, 0.9809955286960153, 0.761718231729017, 1.5561017332306877, 0.5472106729386169, 0.23547449736813866, 0.8124897160597828, 1.0252802136404766, 1.3367454438808577, 0.028054061499566213, 0.7617270123482651, 0.8531486392709705, 2.26125286996158, 0.9811707121426201, 0.016265916189139806, 2.5191380016462452, 0.5474195058956781, 0.23580563378991912, 0.8103928899633975, 0.5472839596988124, 1.0805786771281753, -0.07128553318849393, 0.81055006152441, 1.6014279964456708, 0.6927414714296437, 1.3374967026340283, 0.016479156595847068, 0.8493693889687784, 0.01681816827219988, 1.3366775275249096, 0.9398887009749756, 0.4490043205792653, 1.3373758407494916, 0.8107430269228794, 0.81048546679162, 0.8103292504556037, 1.3391397088792423, 0.2403194960780195, 0.8365580300177874, 0.6540516162403294, 1.3404293344625702, 0.016329025468736245, 0.8105376576168041, 0.4474256857884038, 0.8125767249995977, 1.3376844708118611, 0.8110052975250582, 0.23544997835514814, 0.23606054680546423, 2.4863725180163776, 0.5915206203491608, 0.8118276629490345, 0.10878555115144542, 1.4242356586711244, 0.8108915506855707], \"z\": [0.3721377359146006, 0.3732558332587602, -0.07291010078361868, -0.2737891740434588, -0.11025277404054372, 0.5732026086646984, -0.27392554435556987, -0.27033921138873523, -0.756366850968838, -0.2738305539035788, 0.37217386389936674, 0.3721005217092697, -0.07258901300892454, -0.2734248708447843, -0.2737504274447046, 0.3721305285514282, -0.03221978723444466, -0.27386691508385896, 0.37213884225426197, -0.27392562937242976, 0.37213989281530907, -0.27394291430244627, -0.7563709263243981, -0.027480321609627614, -0.24476518948306517, -0.2739264311689331, -0.27331970561469476, -0.2739019520457291, -0.2739469289385006, -0.27087286454178516, -0.2738203781486551, -0.2738139911235877, 0.3723986496063891, -0.07834055653992114, -0.11025327885553723, -0.07291028597889654, -0.27339198797572856, -0.2739285562394466, -0.27396885192191356, 0.41255915314432706, -0.27388086612235285, -0.27394994278694246, 0.578424794009757, -0.19071137048432993, -0.24084263034573647, -0.07290991391330008, -0.2732439690449082, -0.19070838768482432, 1.015397606623556, 0.37305619075633917, 0.3723507534535038, 0.3704208459219104, -0.27392527119570165, -0.2734187374953927, -0.27385972643496154, -0.11030103562488701, -0.07101916881689539, -0.07285391003807327, -0.11027894315026088, -0.07286381928391857, -0.07277833124759306, -0.07295508297886402, -0.7564106256448434, 0.3756219317451423, 0.3723565785686808, -0.2739221266843429, -0.4893434957368073, -0.27339012319886463, -0.11028924669026838, -0.07285811803976285, -0.190709438200884, 0.37434691676134085, -0.2737426350234922, 0.5733024139671417, -0.27027010323230805, -0.273610816297832, -0.19068100431011573, -0.2739659634894695, -0.27362584349782243, 0.3721376498586155, -0.19068573719085796, -0.2718003488196882, -0.5130154532713778, 0.007450463803892508, -0.27396489808656893, 0.37218141314608894, -0.25206330861443377, -0.27397044371216434, -0.0729097807475353, -0.06992976080826288, -0.11030112642510212, 1.0586197481366535, -0.7563392530328686, -0.07283725784187746, 0.6937743054063703, -0.7563649092060171, -0.2735074081674944, -0.2734217477380398, -0.1905979571435584, 0.5753692177633284, -0.2710564297648785, -0.7563759986724619, -0.07291028059833068, -0.27351833205775633, 0.5732024692294729, -0.05206117883848054, -0.27378957210686883, 0.5731768785098783, -0.02626504058872852, 0.372230358425662, -0.756226897619513, -0.27359844100323855, -0.796561568758718, -0.10944999361149697, 0.5732423490665164, -0.2739278092025995, -0.7563559083975065, -0.11014257948485502, 0.5736477916920144, 0.5743172858734366, -0.10999418517396091, -0.2739704502547897, 0.37652581262429125, 0.3722357953346854, 0.37235366405357095, -0.7563551894339451, -0.11019105687934283, 0.3723348141309778, 0.5732004314280574, -0.07293439838071417, -0.11029442274449115, 0.3721841594189631, 0.37213762221274255, -0.2735350548542437, -0.07293256488733568, 0.809713785080636, -0.27390589710182184, 0.5359578023860643, 0.3721357725248204, -0.10698976672366728, -0.23069480294357128, 0.5093312193725583, -0.11023557659232013, -0.251804796635347, -0.7553498891115098, -0.19422167637979573, -0.11029271735351037, 0.3722222108236471, 0.37223074198285544, -0.7559084794496285, -0.11016832235160537, 0.5731975212662055, 0.37220973920377126, 1.3974530739777202, 0.3721991866193941, 0.3735801612900807, -0.11028999624514209, 0.372456615294182, 0.3721663644512227, 0.3721448955483978, 0.6537334279422432, -0.273965813825336, 0.3732452563252229, 0.5732003183580096, -0.11028062345221558, 0.3721814004369571, -0.5346571931858832, 0.3721863625761977, 0.5877450959311883, -0.2739645118180131, -0.7541944863860695, 0.3742970181205135, -0.27375584393946395, -0.11008002385030807, -0.11006355364035116, -0.26510414275551564, -0.11008051337689209, -0.10919923915667615, 0.37218446665032034, 0.37220109902720183, 0.3743555546464198, -0.11021332950546171, -0.2738941899743454, -0.06748818035894064, 0.37236935898169055, -0.0738888612109034, -0.27381289707056, -0.7561908280697068, 0.2517494287320597, -0.273930090310916, -0.19064221017993618, -0.2738057453870595, -0.7562790092435648, -0.7563687912200044, 0.4825004173982604, -0.19066687031836507, -0.5955520981756033, -0.7539780949066237, 0.2517470552097292, -0.0729101047903778, -0.11028068821985462, 1.1958190893024891, -0.2506844046501511, -0.2823470826187806, -0.2739279927030031, -0.27378650429213874, -0.2737519085117113, -0.273751971165117, 0.3722436070789183, 0.37214680480955653, -0.1102415812034064, 1.016265876830745, -0.7525767232763573, 0.3721725631586337, 0.424745870260444, 0.5733702852706123, 0.935115556139786, 0.37218418473590803, 0.6137988935970536, -0.273755852524812, 0.37216957568811815, -0.7556445697593608, -0.10998390477822535, -0.19025250075656386, 0.37259698446961287, -0.7551954422634026, 0.482742495108836, 0.3724699199506162, -0.2631147074676213, -0.11019279103291911, -0.7563668892224471, -0.2738325028128682, 0.3740991853935208, 0.37214646053907086, -0.7563600409583702, -0.07291208158753551, 0.1568338817323246, -0.4347481717839844, 0.3726385226228651, -0.25237895837401386, 0.10403658727811074, -0.27388379633173954, -0.2339965739555661, -0.7553140057021486, -0.11024571853171529, -0.3513873782415369, -0.27392544490509574, 0.37214433984276446, 0.37214875583066204, 0.37220369260746033, -0.7561906326055111, 0.6137925082813583, 0.383415210011798, -0.6357609868584277, 0.39416241524926027, 0.4929672674127673, 0.3723227700819677, -0.9573782259519072, -0.7563642725484244, -0.31113628013136446, 0.6133682000786528, -0.27392283819239693, 0.3743552674512604, -0.9971650572548598, -0.11019194750441309, -0.0684211328514627, -0.7563554024942708, 0.41199692465333165, 2.177662192824009, -0.9572054970293988, -0.07291010461028793, 0.6651960871246458, 0.613474818333741, -0.27370770604539324, 0.3721834451749918, 0.6133982718719279, 0.5362274414705299, 0.0076718643931275796, 0.3723228317407227, -0.3504231514932812, 0.5037841736336165, -0.10937044466803748, -0.07281674602642026, -0.8368124282621479, -0.07258798262725681, -0.11023589478898713, 0.44886525650140635, -0.05640413641261482, -0.11031524432247197, 0.3725810982889428, 0.37225686257340285, 0.3721371717648934, -0.109217669124042, -0.2717996269053176, 0.3953677035369664, 0.572524628122533, -0.10811213527274256, -0.07286382230199538, 0.3721674895969633, -0.16481198633190805, 0.37300119594467046, -0.10985151843257837, 0.3724865228217887, -0.2739609880065398, -0.2735722141113519, 1.1819536108360686, 0.573382392076551, 0.3727883313458432, 1.0155228121443365, -0.190707242143079, 0.37269132340146977]}, {\"customdata\": [[66], [52], [10], [52], [10], [11]], \"hovertemplate\": \"<b>%{hovertext}</b><br><br>Class=%{marker.color}<br>PC1=%{x}<br>PC2=%{y}<br>PC3=%{z}<br>Algorithm=%{customdata[0]}<extra></extra>\", \"hovertext\": [\"EliteCoin\", \"MoonCoin\", \"ByteCoin\", \"gCn Coin\", \"TurtleCoin\", \"Qwertycoin\"], \"legendgroup\": \"4\", \"marker\": {\"color\": [4, 4, 4, 4, 4, 4], \"coloraxis\": \"coloraxis\", \"symbol\": \"diamond\"}, \"mode\": \"markers\", \"name\": \"4\", \"scene\": \"scene\", \"showlegend\": true, \"type\": \"scatter3d\", \"x\": [3.124075969795503, 3.6622798624361335, 4.652786103448566, 4.26415691267537, 10.920478120122981, 3.3712755651556487], \"y\": [2.209780370521107, 1.0707053858064968, -0.5627761751166137, 1.239500827680232, 0.7542715422460752, -0.8138568731053932], \"z\": [0.5043352582499511, 0.5776818911336027, 1.812904667491859, 0.16004838607688013, 3.629299854236138, 1.7776567266867145]}, {\"customdata\": [[20], [12], [20], [18], [34], [34], [23], [23], [34], [36], [25], [31], [10], [9], [23], [34], [33], [30], [20], [6], [3], [0], [35], [15], [35], [18], [10], [34], [32], [20], [18], [10], [10], [30], [12], [18], [30], [16], [5], [35], [12], [1], [2], [6], [8], [10], [35], [35], [10], [28], [10], [18], [36], [18], [35], [15], [36], [20], [36], [35], [34], [10], [10], [20], [12], [3], [36], [36], [7], [20], [10], [15], [31], [7], [20], [10], [26], [35], [18], [32], [10], [35], [30], [32], [10], [11], [10], [27], [10], [14], [24], [31], [12], [13], [28], [18], [32], [10], [4], [4], [18], [21], [18], [18], [36], [4], [23], [34], [19], [20], [10], [18]], \"hovertemplate\": \"<b>%{hovertext}</b><br><br>Class=%{marker.color}<br>PC1=%{x}<br>PC2=%{y}<br>PC3=%{z}<br>Algorithm=%{customdata[0]}<extra></extra>\", \"hovertext\": [\"Ethereum\", \"Monero\", \"Ethereum Classic\", \"ZCash\", \"DigiByte\", \"MyriadCoin\", \"Riecoin\", \"Diamond\", \"Verge\", \"FeatherCoin\", \"MediterraneanCoin\", \"Vertcoin\", \"DigitalNote \", \"StorjCoin\", \"FairCoin\", \"Unitus\", \"Cryptonite\", \"Crypto\", \"Expanse\", \"Siacoin\", \"Decred\", \"HOdlcoin\", \"PWR Coin\", \"SoilCoin\", \"VIP Tokens\", \"Komodo\", \"Karbo\", \"Circuits of Value\", \"ZCoin\", \"Elementrem\", \"ZClassic\", \"Cannabis Industry Coin\", \"Bikercoins\", \"HexxCoin\", \"Citadel\", \"Zero\", \"Zoin\", \"DubaiCoin\", \"TajCoin\", \"Coinonat\", \"Quantum Resistant Ledger\", \"Espers\", \"Dynamic\", \"Nano\", \"ChanCoin\", \"Dinastycoin\", \"Denarius\", \"Virta Unique Coin\", \"LeviarCoin\", \"SmartCash\", \"Sumokoin\", \"BitcoinZ\", \"VIVO Coin\", \"Bitcoin Gold\", \"NamoCoin\", \"Pirl\", \"Innova\", \"Ellaism\", \"GoByte\", \"Electra\", \"SHIELD\", \"UltraNote\", \"BitCoal\", \"DaxxCoin\", \"Lethean\", \"Photon\", \"SparksPay\", \"GunCoin\", \"Interzone\", \"1717 Masonic Commemorative Token\", \"Niobio Cash\", \"Travelflex\", \"KREDS\", \"Stipend\", \"Callisto Network\", \"BitTube\", \"Aidos Kuneen\", \"Bitspace\", \"Bitrolium\", \"Alpenschillling\", \"Monero Classic\", \"Jumpcoin\", \"Infinex\", \"GINcoin\", \"PlatinCoin\", \"Loki\", \"Newton Coin\", \"MassGrid\", \"PluraCoin\", \"Muse\", \"PlusOneCoin\", \"Absolute Coin\", \"Webchain\", \"Ryo\", \"XDNA\", \"CrypticCoin\", \"Actinium\", \"FREDEnergy\", \"Universal Molecule\", \"Lithium\", \"PirateCash\", \"Exosis\", \"Beam\", \"Bithereum\", \"UFO Coin\", \"BlakeCoin\", \"Groestlcoin\", \"JoinCoin\", \"Vollar\", \"Reality Clash\", \"Beldex\", \"Horizen\"], \"legendgroup\": \"3\", \"marker\": {\"color\": [3, 3, 3, 3, 3, 3, 3, 3, 3, 3, 3, 3, 3, 3, 3, 3, 3, 3, 3, 3, 3, 3, 3, 3, 3, 3, 3, 3, 3, 3, 3, 3, 3, 3, 3, 3, 3, 3, 3, 3, 3, 3, 3, 3, 3, 3, 3, 3, 3, 3, 3, 3, 3, 3, 3, 3, 3, 3, 3, 3, 3, 3, 3, 3, 3, 3, 3, 3, 3, 3, 3, 3, 3, 3, 3, 3, 3, 3, 3, 3, 3, 3, 3, 3, 3, 3, 3, 3, 3, 3, 3, 3, 3, 3, 3, 3, 3, 3, 3, 3, 3, 3, 3, 3, 3, 3, 3, 3, 3, 3, 3, 3], \"coloraxis\": \"coloraxis\", \"symbol\": \"square\"}, \"mode\": \"markers\", \"name\": \"3\", \"scene\": \"scene\", \"showlegend\": true, \"type\": \"scatter3d\", \"x\": [-0.04411582063938059, -0.001978716880187001, -0.04190713694535401, -0.03454216598983477, 0.2626521664598678, -0.07616221500578782, -0.06045818406817421, -0.2600808609299683, 0.2860144545930173, -0.12620090950354446, -0.07029897613701008, -0.10393698106764317, 0.21401673240845878, 0.3501018995932359, -0.2593718459312153, -0.12088944906267327, -0.08713532343260862, -0.0992483485195386, -0.04541239160841491, 0.5301503670059938, -0.15104789339573338, 0.06401802524971466, -0.17338834680848125, -0.018162812053330923, -0.3232601439417297, -0.8235720988136195, 0.008856599628586306, -0.09464194941336568, -0.11066616249930324, -0.04508116820936345, -0.03456888430618447, 0.008864459760886487, 0.009031413849638837, -0.09999152384175992, -0.0002025618794828397, -0.03458957070949421, -0.09962862014624557, -0.023933821244579153, -0.16173551886383616, -0.1266698764152855, -0.0001345523205116668, 0.7092250484390459, 0.05243945518995756, 0.03584108925836957, 0.020094446349204535, 0.05617802195448575, -0.32526595942736314, -0.32326652147902746, 0.009397136228466479, -0.0048600997501850995, 0.00967109911308774, 0.2561236816139288, -0.13241258979728807, -0.03439390130129657, -0.30483456415215854, -0.016458835577726302, -0.13219726063968226, -0.04271851487424591, -0.13233890379302812, 0.4066614031251384, -0.10792656987428935, 1.1590841316637646, 0.00883170686543204, 0.06321798766698716, 0.014528354594138268, 1.4108879168661699, -0.1324176592574074, -0.12316697452082016, 0.025363592392214324, 0.28449818994484827, 0.014056459585438424, -0.015920709360252416, -0.08471757975583229, -0.17280295439390553, 0.023708528149319986, 0.019955543355983592, -0.07773905996649842, -0.32471637872063347, -0.033080862994258005, -0.10755111843883747, 0.00906524936916997, -0.12678010037345952, -0.09977829865601175, -0.11078514168725481, 0.014704349427658093, 0.005005101194027178, 2.4922977473602317, -0.08005737770361591, 0.027203766943104103, 0.3175424312300604, -0.0671506069813624, -0.3029463110806127, 0.015688373659788906, -0.006710967413723838, -0.28359400422190023, 0.10591324309364256, -0.10994170894375592, 0.11851311057641109, 0.042351431304456094, 0.0417592174529929, 0.29659820616592736, -0.05096126410878843, -0.03167031932844301, -0.034173943396824794, -0.03456049484354004, 0.1123838272511477, -0.05988728251917811, -0.1217939834128941, -0.017564051335571006, -0.04512446666883555, 0.03759357558074369, -0.0345434723629164], \"y\": [-1.1674924836159697, -1.5186306931884044, -1.1670158812254123, -1.255502448313194, -0.46844358624107607, -0.543686848165392, -1.0359542347340853, -0.4614146405051729, -0.462326814353947, -0.46476431267592827, -0.9480281156748878, -0.6851261248584902, -1.560541284235274, -2.6071065573815635, -0.46125006230484283, -0.5537017819618678, -0.5913068474468426, -0.7291491703718966, -1.1677948820470565, -1.6662999035752124, -1.3384099441929334, -2.0447061395381634, 0.09993868959447509, -1.3870471521932513, 0.06528495546685018, 1.0447622935797563, -1.6063472807720371, -0.547828917881965, -0.641561664608337, -1.1677198281367636, -1.2555086236009212, -1.6063472388142002, -1.6063092967978805, -0.7293119363240876, -1.5182500258100373, -1.25551275940614, -0.7292298346988125, -1.3432668536569257, -1.2506634000837085, -0.5099359249886382, -1.5182214000017935, -1.2378616331034151, -1.9571497266648452, -1.7806023478750856, -1.69397244668844, -1.5957311501928115, 0.06483426715296413, 0.06527864130851439, -1.606229447790087, -0.798348997083962, -1.6061717568558873, -1.1917068349600497, -0.46615013769989116, -1.2554681805434926, 0.06936449382112776, -1.3866736976559428, -0.4661032737000572, -1.1672147051352584, -0.46613388139901724, 0.2291629080872739, -0.550812211541249, -1.3542123502021244, -1.6063534374731296, -1.1442982714388368, -1.5149767404258825, -1.6125882599318597, -0.4661503413528596, -0.46408955200328755, -1.7378631294004283, -2.1259827335033536, -1.605198056111353, -1.3865402384674335, -0.6808479482131304, -1.1629992415343944, -1.1528652365020733, -1.603941755217119, -0.9046098287763579, 0.06495483581261774, -1.2551726093079858, -0.6408866469066514, -1.6063004117099564, -0.5099570037818988, -0.7292652811045341, -0.6415874051618533, -1.6050909055311189, -1.5621504013425476, -1.0620449937554461, -0.860059076005253, -1.6022665049665257, -2.3890058993212855, -0.9923812141128736, -0.1104525340462775, -1.5148297175886578, -1.4746290190320377, -0.24135923978802892, -1.2242623854724672, -0.6414043245944687, -1.582304849754934, -1.8692789938559056, -1.8694029801533996, -2.2134220826463635, -1.1239683823761875, -1.2548777025180762, -1.2554189376234626, -0.444175007172791, -1.8542051196774492, -1.0358256728555064, -0.553911294781333, -1.2068041461839543, -1.1677295584068468, -1.5999297250841615, -1.255502750249497], \"z\": [1.0125253083069294, 1.3341564565868094, 1.0129907240199714, 1.092984219602366, 0.49559317482074816, 0.45402320129172574, 0.8921053189089893, 1.538040959329756, 0.48546992859403804, 0.3700128928794554, 0.811956660951495, 0.570479374666286, 1.4363379174165671, 0.37902388916798146, 1.5380283233453163, 0.4496825656433319, 0.4939289564462402, 0.6106444089653246, 1.0125684960766383, 1.573438422277993, 2.342142029120766, 1.8167773465546269, 1.0550029396605065, 1.2136139720843508, 1.0557873840764787, 3.6778129277959284, 1.4145856466059101, 0.45228923097421353, 0.5301398600297567, 1.012588200076963, 1.0929843232349306, 1.4146104437763163, 1.4146188244491642, 0.6105213721899013, 1.3345671234581602, 1.092975375232346, 0.6105447922520247, 1.1733493609166976, 2.2617707240994243, 0.4095895706567716, 1.3343862948865752, 2.532059518172126, 1.7361886166379799, 1.5761237415931968, 1.4950358459253872, 1.4188936495560367, 1.0556145992680321, 1.0558551206064577, 1.4146828606522008, 0.7018637598690762, 1.4147605443358295, 1.1392076685687818, 0.36933955470582785, 1.0929836445268357, 1.0582212529754662, 1.2138924447022728, 0.3693793465827837, 1.013151865303092, 0.36935010278622504, 1.1204648890482785, 0.45112194586584103, 1.601951759745683, 1.4145913858071335, 1.0346795895262642, 1.3363483199955206, 1.893830647721143, 0.3693260320101127, 0.37037128293335175, 1.5352239322531889, -0.06431408656271644, 1.4153012793520734, 1.2137632698057719, 0.5726980009436428, 2.1813253723711425, 1.0269331259821337, 1.4167770862180844, 0.7713662101790856, 1.0557027499957514, 1.0930891475629683, 0.530756594535845, 1.4146037966165004, 0.40952848879029424, 0.6105572900869883, 0.530115719563771, 1.4158946313269514, 1.3746922505866752, 1.820229530683804, 0.7314736385779548, 1.416748972470563, 0.1769408435441644, 0.851764758872965, 1.216521245809891, 1.3380377857031698, 1.2941495359713582, 1.3378267417763674, 1.109545690057321, 0.5302783420276499, 1.4323747933649496, 1.6560163608135257, 1.6558383386210478, 0.01632096673647074, 0.9723749348144959, 1.093518837600442, 1.0930051046671845, 0.3779273134407226, 1.6713068818794012, 0.8921505028035723, 0.449692393835921, 1.0573864704941576, 1.0125844913044812, 1.4176119997856103, 1.0929842246694064]}, {\"customdata\": [[50], [47], [52], [41], [52], [64], [52], [52], [64], [34], [38], [34], [54], [52], [52], [64], [64], [52], [52], [52], [52], [41], [40], [66], [64], [52], [41], [41], [66], [41], [14], [41], [41], [52], [46], [52], [66], [52], [41], [41], [47], [52], [41], [47], [40], [57], [52], [41], [50], [37], [31], [39], [47], [14], [35], [46], [46], [64], [40], [66], [43], [42], [52], [62], [52], [22], [41], [53], [41], [69], [70], [52], [52], [68], [52], [46], [47], [46], [52], [46], [64], [52], [41], [64], [17], [70], [64], [46], [64], [14], [47], [41], [14], [52], [14], [14], [47], [29], [41], [41], [47], [52]], \"hovertemplate\": \"<b>%{hovertext}</b><br><br>Class=%{marker.color}<br>PC1=%{x}<br>PC2=%{y}<br>PC3=%{z}<br>Algorithm=%{customdata[0]}<extra></extra>\", \"hovertext\": [\"Bitshares\", \"PayCoin\", \"CasinoCoin\", \"Exclusive Coin\", \"FlutterCoin\", \"HyperStake\", \"MintCoin\", \"Nautilus Coin\", \"SuperCoin\", \"TeslaCoin\", \"TittieCoin\", \"Crypti\", \"BurstCoin\", \"RubyCoin\", \"Dnotes\", \"Ucoin\", \"Squall Coin\", \"Diggits\", \"GPU Coin\", \"ZeitCoin\", \"SafeExchangeCoin\", \"Nebuchadnezzar\", \"Let it Ride\", \"MudraCoin\", \"Lutetium Coin\", \"BitCurrency\", \"Opair\", \"CoffeeCoin\", \"RoyalCoin\", \"TeamUP\", \"ARK\", \"FreeCoin\", \"Creatio\", \"PandaCoin\", \"Allsafe\", \"Zilbercoin\", \"FindCoin\", \"RenosCoin\", \"Atmos\", \"MacronCoin\", \"ProCurrency\", \"GrowthCoin\", \"Phreak\", \"Ultimate Secure Cash\", \"QTUM\", \"Signatum\", \"Draftcoin\", \"Stakecoin\", \"Obsidian\", \"Cardano\", \"Rupee\", \"KekCoin\", \"Infinity Economics\", \"Lamden Tau\", \"Bulwark\", \"Kalkulus\", \"Digiwage\", \"Monkey Project\", \"TokenPay\", \"Tokyo Coin\", \"BiblePay\", \"Poa Network\", \"Velox\", \"Ontology\", \"MedicCoin\", \"Bitcoin Green\", \"Deviant Coin\", \"Semux\", \"Zealium\", \"Proton\", \"Bitcoin Incognito\", \"HollyWoodCoin\", \"Xt3ch\", \"Dekado\", \"Lynx\", \"Poseidon Quark\", \"BitcoinWSpectrum\", \"Dystem\", \"Peony Coin\", \"Vitae\", \"ARENON\", \"MMOCoin\", \"Ketan\", \"PAXEX\", \"Acute Angle Cloud\", \"Bettex coin\", \"Junson Ming Chan Coin\", \"Crypto Sports\", \"Dash Platinum\", \"ALAX\", \"NeosCoin\", \"Radium\", \"Lisk\", \"HiCoin\", \"EOS\", \"Oxycoin\", \"TigerCash\", \"Waves\", \"Particl\", \"Nxt\", \"ZEPHYR\", \"BitcoinPlus\"], \"legendgroup\": \"2\", \"marker\": {\"color\": [2, 2, 2, 2, 2, 2, 2, 2, 2, 2, 2, 2, 2, 2, 2, 2, 2, 2, 2, 2, 2, 2, 2, 2, 2, 2, 2, 2, 2, 2, 2, 2, 2, 2, 2, 2, 2, 2, 2, 2, 2, 2, 2, 2, 2, 2, 2, 2, 2, 2, 2, 2, 2, 2, 2, 2, 2, 2, 2, 2, 2, 2, 2, 2, 2, 2, 2, 2, 2, 2, 2, 2, 2, 2, 2, 2, 2, 2, 2, 2, 2, 2, 2, 2, 2, 2, 2, 2, 2, 2, 2, 2, 2, 2, 2, 2, 2, 2, 2, 2, 2, 2], \"coloraxis\": \"coloraxis\", \"symbol\": \"x\"}, \"mode\": \"markers\", \"name\": \"2\", \"scene\": \"scene\", \"showlegend\": true, \"type\": \"scatter3d\", \"x\": [0.1991155431068234, 0.1379411336814627, 1.1848347385742664, 0.1703469053262382, -0.0807021368728828, 0.07053354474787686, 0.4319675558451598, 0.11085193738978562, 0.045954706760367996, 0.21054938816653992, 0.23432267266396153, 0.20983649485552439, 0.21480806015544537, 0.11085452639623719, 0.11813582762208089, 0.04543185987512128, -0.08688564464530214, 0.11296493666739511, 0.11328995878908685, 1.6695212094245095, 0.2306193211055807, 0.1707653211644595, 0.17662040909960483, 0.03641061214143359, 0.061751219529893854, 0.11300488085848871, 0.17212710531712258, 0.17291104404820992, 0.034376247448459615, 0.17357314475178856, 0.7162213773451735, 0.17152158432752657, 0.1707653211644595, 0.9497075150512853, 0.14338201411692514, 0.11104420953500531, 0.0346793760631625, 0.11133642770606893, 0.1730541930508733, 0.1803661167319669, 0.8973617722508315, 0.13511933236806725, 0.17073641421274965, 0.13981256238756967, 0.1782199398658424, 0.08627484021350826, 0.11090182656185726, 0.17094428570408832, 0.1226212694248326, 1.0384195596626449, 0.22524532558490776, 0.18153546499453893, 0.36451259289233057, 0.7227286183903319, 0.20336886571483154, 0.14352977066113934, 0.14469690321005324, 0.045467901493325066, 0.17626051762788542, 0.045878149210265985, 0.4368313955297503, 0.3025426358648854, 0.1120837227059238, 0.07600171877354171, 0.11953480191443401, 0.2739418951771618, 0.17148110001809008, 0.5022746933862352, 0.1712371316607015, 0.018520891890791025, -0.11914116077358254, 0.11129135153633515, 0.11100408367043431, 0.024804510822643976, 2.5465281793439276, 0.14968372773413685, 0.1395201474799633, 0.14339079905220328, 0.28110758081267373, 0.14507987537714284, 0.04603603312115759, 0.1146996802601472, 0.1725249668166024, 0.04626801979097703, 0.7882587748068856, 0.013169513072078514, 0.30504696098677603, 0.14323593727071723, 0.04539901870172101, 0.7385326898085919, 0.13791226296251938, 0.17040982907605165, 0.7167527073755814, 0.3626247984954733, 0.7287334317538071, 0.7302711112595929, 0.16284241622542805, 0.5021963693227082, 0.17048860120266723, 0.12943008202674605, 0.5842902030442166, 0.1104561065718535], \"y\": [-0.793008096637613, -0.941897118134829, -0.6877246722973043, -1.205063177688312, -0.14621626572764201, -0.19061072761460407, -0.6483898251197235, -0.7226104855285862, -0.19629152705504044, -1.5115550147777908, -1.325976756301559, -1.5117036488741629, -0.8155981778857686, -0.7226072766907585, -0.7210050504500964, -0.19641559713534, 0.1867821066594161, -0.7221356406050653, -0.7220800500758483, -0.37833193778396307, -0.902161255963147, -1.204969697827662, -1.248728261783172, -0.10831038601931117, -0.1927465472702041, -0.7221102746586808, -1.2046636668688246, -1.2044769930196342, -0.10874871556825288, -1.2043660738633835, -3.5382075575890473, -1.2047997461728588, -1.204969697827662, -0.5339727484954079, -0.9857496413398895, -0.7225723096566165, -0.10868059482377808, -0.722501451243541, -1.2044552480994413, -1.2028120164095435, -0.7784738920908413, -0.7173217344983375, -1.2049779923471189, -0.9414948474913547, -1.2483692982157426, -0.5027622222548874, -0.7225991526452878, -1.2049350461989816, -0.8101217188782733, -1.192128143793857, -1.6434750856159195, -1.2926998964439842, -0.8909806737193889, -3.5367640692211064, -1.4680933086261088, -0.9857162977063662, -0.9854626772794859, -0.19640742833178845, -1.248810070551983, -0.10621899845981672, -1.674756112440896, -1.5432168845948242, -0.7223431838548067, -0.2797275242097108, -0.720681711633948, -2.038206397277406, -1.204815233986029, -1.8283758619118298, -1.204870330620987, 0.02290878887048377, 0.4499815227392668, -0.7225105099977961, -0.7225798090521859, -0.020755812741289407, -1.2089448904281426, -0.9843956035604601, -0.9415463269704003, -0.9857485789453803, -0.6859808208677547, -0.985370935831689, -0.19628160404958755, -0.7217605110094913, -1.2045936528739, -0.19623524620313446, -3.593258321096495, 0.06678078815669507, -0.13640866629576567, -0.9857831404618854, -0.19642313917080662, -3.533192012341393, -0.9419051622726649, -1.205050086440729, -3.5380903872722773, -0.6660315211977427, -3.5352955338430556, -3.5349401366969224, -0.9363011149654107, -2.4972490436566104, -1.2050318211560616, -1.0077932206129792, -2.080384398768299, -0.7226995230622937], \"z\": [-1.2625895581452058, -1.1497778003627568, -1.4798195236456977, -0.9085857667852452, -0.7047385068912837, -1.833358054097734, -1.352068072579768, -1.3507860394257398, -1.833262719946236, -0.6269457319251609, -0.7829697029699174, -0.6271686727976094, -1.6419155408537394, -1.3508225686949655, -1.3497222808515104, -1.8332155507799202, -1.4025200913815756, -1.3506050483836387, -1.3503330860229243, -1.1334192645191687, -1.5615537922467388, -0.9085422485027961, -0.8683101651474101, -1.9132229356852595, -1.831841101742145, -1.350830909293418, -0.9084256492387016, -0.9085054301713447, -1.9136608140038056, -0.9079189054345314, -1.1150463338111674, -0.9084774700338977, -0.9085422485027961, -1.2806881238897474, -1.1095689380747287, -1.3506991661327516, -1.913634849222631, -1.3507467353550564, -0.9083473363748215, -0.9077218044755859, -0.9834721015844479, -1.346402565249768, -0.9085195657833625, -1.1493616703364704, -0.8681662747859247, -1.5515385016768894, -1.3507834660215894, -0.9084490490462943, -1.270213291691492, -0.649487784728696, -0.5065013000421814, -0.8281331192358732, -1.1303712802775734, -1.1142251760861677, -0.6673053530351676, -1.1095582258804193, -1.109337046869632, -1.8332134335150774, -0.8683279542413677, -1.9119054216357787, -1.6236723874057228, -1.378980399164506, -1.3505474609767283, -1.7506735573154506, -1.3497277070651987, -0.144678041969915, -0.9083915447354546, -2.6830215293669277, -0.9084086549315088, -2.034176360624092, -1.6436935227483374, -1.3507655794581608, -1.350723838153783, -1.993874842032551, -2.2281887863537375, -1.108160147626177, -1.1495858403542127, -1.1095554297902586, -1.313383761620221, -1.109383673502669, -1.8331388970996498, -1.3502506473839768, -0.9081202322975971, -1.8330382292182978, -1.4491374780392559, -2.074368642114473, -1.8342676633137316, -1.109572050492641, -1.8332161005165102, -1.1131579455851768, -1.149758503373528, -0.9085656973101266, -1.114969581769365, -1.3292085718806725, -1.1153769968972, -1.1153829611080002, -1.147645538650982, -1.2874100885399589, -0.9085668286121462, -0.6910563127974739, -2.4377052906820116, -1.3508187662807678]}, {\"customdata\": [[59]], \"hovertemplate\": \"<b>%{hovertext}</b><br><br>Class=%{marker.color}<br>PC1=%{x}<br>PC2=%{y}<br>PC3=%{z}<br>Algorithm=%{customdata[0]}<extra></extra>\", \"hovertext\": [\"BitTorrent\"], \"legendgroup\": \"1\", \"marker\": {\"color\": [1], \"coloraxis\": \"coloraxis\", \"symbol\": \"cross\"}, \"mode\": \"markers\", \"name\": \"1\", \"scene\": \"scene\", \"showlegend\": true, \"type\": \"scatter3d\", \"x\": [25.425131617698256], \"y\": [4.042884368800677], \"z\": [-0.7867724942297974]}],\n",
       "                        {\"coloraxis\": {\"colorbar\": {\"title\": {\"text\": \"Class\"}}, \"colorscale\": [[0.0, \"#0d0887\"], [0.1111111111111111, \"#46039f\"], [0.2222222222222222, \"#7201a8\"], [0.3333333333333333, \"#9c179e\"], [0.4444444444444444, \"#bd3786\"], [0.5555555555555556, \"#d8576b\"], [0.6666666666666666, \"#ed7953\"], [0.7777777777777778, \"#fb9f3a\"], [0.8888888888888888, \"#fdca26\"], [1.0, \"#f0f921\"]]}, \"legend\": {\"title\": {\"text\": \"Class\"}, \"tracegroupgap\": 0, \"x\": 0, \"y\": 1}, \"margin\": {\"t\": 60}, \"scene\": {\"domain\": {\"x\": [0.0, 1.0], \"y\": [0.0, 1.0]}, \"xaxis\": {\"title\": {\"text\": \"PC1\"}}, \"yaxis\": {\"title\": {\"text\": \"PC2\"}}, \"zaxis\": {\"title\": {\"text\": \"PC3\"}}}, \"template\": {\"data\": {\"bar\": [{\"error_x\": {\"color\": \"#2a3f5f\"}, \"error_y\": {\"color\": \"#2a3f5f\"}, \"marker\": {\"line\": {\"color\": \"#E5ECF6\", \"width\": 0.5}}, \"type\": \"bar\"}], \"barpolar\": [{\"marker\": {\"line\": {\"color\": \"#E5ECF6\", \"width\": 0.5}}, \"type\": \"barpolar\"}], \"carpet\": [{\"aaxis\": {\"endlinecolor\": \"#2a3f5f\", \"gridcolor\": \"white\", \"linecolor\": \"white\", \"minorgridcolor\": \"white\", \"startlinecolor\": \"#2a3f5f\"}, \"baxis\": {\"endlinecolor\": \"#2a3f5f\", \"gridcolor\": \"white\", \"linecolor\": \"white\", \"minorgridcolor\": \"white\", \"startlinecolor\": \"#2a3f5f\"}, \"type\": \"carpet\"}], \"choropleth\": [{\"colorbar\": {\"outlinewidth\": 0, \"ticks\": \"\"}, \"type\": \"choropleth\"}], \"contour\": [{\"colorbar\": {\"outlinewidth\": 0, \"ticks\": \"\"}, \"colorscale\": [[0.0, \"#0d0887\"], [0.1111111111111111, \"#46039f\"], [0.2222222222222222, \"#7201a8\"], [0.3333333333333333, \"#9c179e\"], [0.4444444444444444, \"#bd3786\"], [0.5555555555555556, \"#d8576b\"], [0.6666666666666666, \"#ed7953\"], [0.7777777777777778, \"#fb9f3a\"], [0.8888888888888888, \"#fdca26\"], [1.0, \"#f0f921\"]], \"type\": \"contour\"}], \"contourcarpet\": [{\"colorbar\": {\"outlinewidth\": 0, \"ticks\": \"\"}, \"type\": \"contourcarpet\"}], \"heatmap\": [{\"colorbar\": {\"outlinewidth\": 0, \"ticks\": \"\"}, \"colorscale\": [[0.0, \"#0d0887\"], [0.1111111111111111, \"#46039f\"], [0.2222222222222222, \"#7201a8\"], [0.3333333333333333, \"#9c179e\"], [0.4444444444444444, \"#bd3786\"], [0.5555555555555556, \"#d8576b\"], [0.6666666666666666, \"#ed7953\"], [0.7777777777777778, \"#fb9f3a\"], [0.8888888888888888, \"#fdca26\"], [1.0, \"#f0f921\"]], \"type\": \"heatmap\"}], \"heatmapgl\": [{\"colorbar\": {\"outlinewidth\": 0, \"ticks\": \"\"}, \"colorscale\": [[0.0, \"#0d0887\"], [0.1111111111111111, \"#46039f\"], [0.2222222222222222, \"#7201a8\"], [0.3333333333333333, \"#9c179e\"], [0.4444444444444444, \"#bd3786\"], [0.5555555555555556, \"#d8576b\"], [0.6666666666666666, \"#ed7953\"], [0.7777777777777778, \"#fb9f3a\"], [0.8888888888888888, \"#fdca26\"], [1.0, \"#f0f921\"]], \"type\": \"heatmapgl\"}], \"histogram\": [{\"marker\": {\"colorbar\": {\"outlinewidth\": 0, \"ticks\": \"\"}}, \"type\": \"histogram\"}], \"histogram2d\": [{\"colorbar\": {\"outlinewidth\": 0, \"ticks\": \"\"}, \"colorscale\": [[0.0, \"#0d0887\"], [0.1111111111111111, \"#46039f\"], [0.2222222222222222, \"#7201a8\"], [0.3333333333333333, \"#9c179e\"], [0.4444444444444444, \"#bd3786\"], [0.5555555555555556, \"#d8576b\"], [0.6666666666666666, \"#ed7953\"], [0.7777777777777778, \"#fb9f3a\"], [0.8888888888888888, \"#fdca26\"], [1.0, \"#f0f921\"]], \"type\": \"histogram2d\"}], \"histogram2dcontour\": [{\"colorbar\": {\"outlinewidth\": 0, \"ticks\": \"\"}, \"colorscale\": [[0.0, \"#0d0887\"], [0.1111111111111111, \"#46039f\"], [0.2222222222222222, \"#7201a8\"], [0.3333333333333333, \"#9c179e\"], [0.4444444444444444, \"#bd3786\"], [0.5555555555555556, \"#d8576b\"], [0.6666666666666666, \"#ed7953\"], [0.7777777777777778, \"#fb9f3a\"], [0.8888888888888888, \"#fdca26\"], [1.0, \"#f0f921\"]], \"type\": \"histogram2dcontour\"}], \"mesh3d\": [{\"colorbar\": {\"outlinewidth\": 0, \"ticks\": \"\"}, \"type\": \"mesh3d\"}], \"parcoords\": [{\"line\": {\"colorbar\": {\"outlinewidth\": 0, \"ticks\": \"\"}}, \"type\": \"parcoords\"}], \"pie\": [{\"automargin\": true, \"type\": \"pie\"}], \"scatter\": [{\"marker\": {\"colorbar\": {\"outlinewidth\": 0, \"ticks\": \"\"}}, \"type\": \"scatter\"}], \"scatter3d\": [{\"line\": {\"colorbar\": {\"outlinewidth\": 0, \"ticks\": \"\"}}, \"marker\": {\"colorbar\": {\"outlinewidth\": 0, \"ticks\": \"\"}}, \"type\": \"scatter3d\"}], \"scattercarpet\": [{\"marker\": {\"colorbar\": {\"outlinewidth\": 0, \"ticks\": \"\"}}, \"type\": \"scattercarpet\"}], \"scattergeo\": [{\"marker\": {\"colorbar\": {\"outlinewidth\": 0, \"ticks\": \"\"}}, \"type\": \"scattergeo\"}], \"scattergl\": [{\"marker\": {\"colorbar\": {\"outlinewidth\": 0, \"ticks\": \"\"}}, \"type\": \"scattergl\"}], \"scattermapbox\": [{\"marker\": {\"colorbar\": {\"outlinewidth\": 0, \"ticks\": \"\"}}, \"type\": \"scattermapbox\"}], \"scatterpolar\": [{\"marker\": {\"colorbar\": {\"outlinewidth\": 0, \"ticks\": \"\"}}, \"type\": \"scatterpolar\"}], \"scatterpolargl\": [{\"marker\": {\"colorbar\": {\"outlinewidth\": 0, \"ticks\": \"\"}}, \"type\": \"scatterpolargl\"}], \"scatterternary\": [{\"marker\": {\"colorbar\": {\"outlinewidth\": 0, \"ticks\": \"\"}}, \"type\": \"scatterternary\"}], \"surface\": [{\"colorbar\": {\"outlinewidth\": 0, \"ticks\": \"\"}, \"colorscale\": [[0.0, \"#0d0887\"], [0.1111111111111111, \"#46039f\"], [0.2222222222222222, \"#7201a8\"], [0.3333333333333333, \"#9c179e\"], [0.4444444444444444, \"#bd3786\"], [0.5555555555555556, \"#d8576b\"], [0.6666666666666666, \"#ed7953\"], [0.7777777777777778, \"#fb9f3a\"], [0.8888888888888888, \"#fdca26\"], [1.0, \"#f0f921\"]], \"type\": \"surface\"}], \"table\": [{\"cells\": {\"fill\": {\"color\": \"#EBF0F8\"}, \"line\": {\"color\": \"white\"}}, \"header\": {\"fill\": {\"color\": \"#C8D4E3\"}, \"line\": {\"color\": \"white\"}}, \"type\": \"table\"}]}, \"layout\": {\"annotationdefaults\": {\"arrowcolor\": \"#2a3f5f\", \"arrowhead\": 0, \"arrowwidth\": 1}, \"coloraxis\": {\"colorbar\": {\"outlinewidth\": 0, \"ticks\": \"\"}}, \"colorscale\": {\"diverging\": [[0, \"#8e0152\"], [0.1, \"#c51b7d\"], [0.2, \"#de77ae\"], [0.3, \"#f1b6da\"], [0.4, \"#fde0ef\"], [0.5, \"#f7f7f7\"], [0.6, \"#e6f5d0\"], [0.7, \"#b8e186\"], [0.8, \"#7fbc41\"], [0.9, \"#4d9221\"], [1, \"#276419\"]], \"sequential\": [[0.0, \"#0d0887\"], [0.1111111111111111, \"#46039f\"], [0.2222222222222222, \"#7201a8\"], [0.3333333333333333, \"#9c179e\"], [0.4444444444444444, \"#bd3786\"], [0.5555555555555556, \"#d8576b\"], [0.6666666666666666, \"#ed7953\"], [0.7777777777777778, \"#fb9f3a\"], [0.8888888888888888, \"#fdca26\"], [1.0, \"#f0f921\"]], \"sequentialminus\": [[0.0, \"#0d0887\"], [0.1111111111111111, \"#46039f\"], [0.2222222222222222, \"#7201a8\"], [0.3333333333333333, \"#9c179e\"], [0.4444444444444444, \"#bd3786\"], [0.5555555555555556, \"#d8576b\"], [0.6666666666666666, \"#ed7953\"], [0.7777777777777778, \"#fb9f3a\"], [0.8888888888888888, \"#fdca26\"], [1.0, \"#f0f921\"]]}, \"colorway\": [\"#636efa\", \"#EF553B\", \"#00cc96\", \"#ab63fa\", \"#FFA15A\", \"#19d3f3\", \"#FF6692\", \"#B6E880\", \"#FF97FF\", \"#FECB52\"], \"font\": {\"color\": \"#2a3f5f\"}, \"geo\": {\"bgcolor\": \"white\", \"lakecolor\": \"white\", \"landcolor\": \"#E5ECF6\", \"showlakes\": true, \"showland\": true, \"subunitcolor\": \"white\"}, \"hoverlabel\": {\"align\": \"left\"}, \"hovermode\": \"closest\", \"mapbox\": {\"style\": \"light\"}, \"paper_bgcolor\": \"white\", \"plot_bgcolor\": \"#E5ECF6\", \"polar\": {\"angularaxis\": {\"gridcolor\": \"white\", \"linecolor\": \"white\", \"ticks\": \"\"}, \"bgcolor\": \"#E5ECF6\", \"radialaxis\": {\"gridcolor\": \"white\", \"linecolor\": \"white\", \"ticks\": \"\"}}, \"scene\": {\"xaxis\": {\"backgroundcolor\": \"#E5ECF6\", \"gridcolor\": \"white\", \"gridwidth\": 2, \"linecolor\": \"white\", \"showbackground\": true, \"ticks\": \"\", \"zerolinecolor\": \"white\"}, \"yaxis\": {\"backgroundcolor\": \"#E5ECF6\", \"gridcolor\": \"white\", \"gridwidth\": 2, \"linecolor\": \"white\", \"showbackground\": true, \"ticks\": \"\", \"zerolinecolor\": \"white\"}, \"zaxis\": {\"backgroundcolor\": \"#E5ECF6\", \"gridcolor\": \"white\", \"gridwidth\": 2, \"linecolor\": \"white\", \"showbackground\": true, \"ticks\": \"\", \"zerolinecolor\": \"white\"}}, \"shapedefaults\": {\"line\": {\"color\": \"#2a3f5f\"}}, \"ternary\": {\"aaxis\": {\"gridcolor\": \"white\", \"linecolor\": \"white\", \"ticks\": \"\"}, \"baxis\": {\"gridcolor\": \"white\", \"linecolor\": \"white\", \"ticks\": \"\"}, \"bgcolor\": \"#E5ECF6\", \"caxis\": {\"gridcolor\": \"white\", \"linecolor\": \"white\", \"ticks\": \"\"}}, \"title\": {\"x\": 0.05}, \"xaxis\": {\"automargin\": true, \"gridcolor\": \"white\", \"linecolor\": \"white\", \"ticks\": \"\", \"title\": {\"standoff\": 15}, \"zerolinecolor\": \"white\", \"zerolinewidth\": 2}, \"yaxis\": {\"automargin\": true, \"gridcolor\": \"white\", \"linecolor\": \"white\", \"ticks\": \"\", \"title\": {\"standoff\": 15}, \"zerolinecolor\": \"white\", \"zerolinewidth\": 2}}}, \"width\": 800},\n",
       "                        {\"responsive\": true}\n",
       "                    ).then(function(){\n",
       "                            \n",
       "var gd = document.getElementById('fce1e375-bf7c-4264-976f-ccdeac672d52');\n",
       "var x = new MutationObserver(function (mutations, observer) {{\n",
       "        var display = window.getComputedStyle(gd).display;\n",
       "        if (!display || display === 'none') {{\n",
       "            console.log([gd, 'removed!']);\n",
       "            Plotly.purge(gd);\n",
       "            observer.disconnect();\n",
       "        }}\n",
       "}});\n",
       "\n",
       "// Listen for the removal of the full notebook cells\n",
       "var notebookContainer = gd.closest('#notebook-container');\n",
       "if (notebookContainer) {{\n",
       "    x.observe(notebookContainer, {childList: true});\n",
       "}}\n",
       "\n",
       "// Listen for the clearing of the current output cell\n",
       "var outputEl = gd.closest('.output');\n",
       "if (outputEl) {{\n",
       "    x.observe(outputEl, {childList: true});\n",
       "}}\n",
       "\n",
       "                        })\n",
       "                };\n",
       "                });\n",
       "            </script>\n",
       "        </div>"
      ]
     },
     "metadata": {},
     "output_type": "display_data"
    }
   ],
   "source": [
    "# Create a 3D Scatter Plot using Plotly Express to plot the clusters using the clustered_df DataFrame.\n",
    "\n",
    "# Plotting the clusters with three features\n",
    "fig = px.scatter_3d(clustered_df, x=\"PC1\", y=\"PC2\", z=\"PC3\", color=\"Class\", symbol=\"Class\", hover_name=\"CoinName\", hover_data=[\"Algorithm\"], width=800)\n",
    "fig.update_layout(legend=dict(x=0,y=1))\n",
    "fig.show()"
   ]
  },
  {
   "cell_type": "code",
   "execution_count": 41,
   "metadata": {},
   "outputs": [
    {
     "data": {},
     "metadata": {},
     "output_type": "display_data"
    },
    {
     "data": {
      "application/vnd.holoviews_exec.v0+json": "",
      "text/html": [
       "<div id='1102'>\n",
       "\n",
       "\n",
       "\n",
       "\n",
       "\n",
       "  <div class=\"bk-root\" id=\"95f12427-d4c3-49cc-8d19-fa664037b72a\" data-root-id=\"1102\"></div>\n",
       "</div>\n",
       "<script type=\"application/javascript\">(function(root) {\n",
       "  function embed_document(root) {\n",
       "  var docs_json = {\"7e5f3686-6f28-4d91-a7bb-f1e5df7b3678\":{\"roots\":{\"references\":[{\"attributes\":{\"editor\":{\"id\":\"1122\"},\"field\":\"TotalCoinSupply\",\"formatter\":{\"id\":\"1121\"},\"title\":\"TotalCoinSupply\"},\"id\":\"1123\",\"type\":\"TableColumn\"},{\"attributes\":{},\"id\":\"1116\",\"type\":\"NumberFormatter\"},{\"attributes\":{\"format\":\"0,0.0[00000]\"},\"id\":\"1126\",\"type\":\"NumberFormatter\"},{\"attributes\":{},\"id\":\"1122\",\"type\":\"NumberEditor\"},{\"attributes\":{\"editor\":{\"id\":\"1112\"},\"field\":\"Algorithm\",\"formatter\":{\"id\":\"1111\"},\"title\":\"Algorithm\"},\"id\":\"1113\",\"type\":\"TableColumn\"},{\"attributes\":{},\"id\":\"1127\",\"type\":\"NumberEditor\"},{\"attributes\":{\"editor\":{\"id\":\"1132\"},\"field\":\"Class\",\"formatter\":{\"id\":\"1131\"},\"title\":\"Class\"},\"id\":\"1133\",\"type\":\"TableColumn\"},{\"attributes\":{\"format\":\"0,0.0[00000]\"},\"id\":\"1121\",\"type\":\"NumberFormatter\"},{\"attributes\":{\"editor\":{\"id\":\"1107\"},\"field\":\"CoinName\",\"formatter\":{\"id\":\"1106\"},\"title\":\"CoinName\"},\"id\":\"1108\",\"type\":\"TableColumn\"},{\"attributes\":{\"margin\":[5,5,5,5],\"name\":\"HSpacer01694\",\"sizing_mode\":\"stretch_width\"},\"id\":\"1142\",\"type\":\"Spacer\"},{\"attributes\":{\"editor\":{\"id\":\"1117\"},\"field\":\"ProofType\",\"formatter\":{\"id\":\"1116\"},\"title\":\"ProofType\"},\"id\":\"1118\",\"type\":\"TableColumn\"},{\"attributes\":{\"columns\":[{\"id\":\"1108\"},{\"id\":\"1113\"},{\"id\":\"1118\"},{\"id\":\"1123\"},{\"id\":\"1128\"},{\"id\":\"1133\"}],\"height\":300,\"reorderable\":false,\"source\":{\"id\":\"1104\"},\"view\":{\"id\":\"1137\"}},\"id\":\"1136\",\"type\":\"DataTable\"},{\"attributes\":{},\"id\":\"1117\",\"type\":\"IntEditor\"},{\"attributes\":{\"editor\":{\"id\":\"1127\"},\"field\":\"TotalCoinsMined\",\"formatter\":{\"id\":\"1126\"},\"title\":\"TotalCoinsMined\"},\"id\":\"1128\",\"type\":\"TableColumn\"},{\"attributes\":{},\"id\":\"1106\",\"type\":\"StringFormatter\"},{\"attributes\":{},\"id\":\"1112\",\"type\":\"IntEditor\"},{\"attributes\":{},\"id\":\"1105\",\"type\":\"Selection\"},{\"attributes\":{},\"id\":\"1139\",\"type\":\"UnionRenderers\"},{\"attributes\":{},\"id\":\"1131\",\"type\":\"NumberFormatter\"},{\"attributes\":{\"margin\":[5,5,5,5],\"name\":\"HSpacer01693\",\"sizing_mode\":\"stretch_width\"},\"id\":\"1103\",\"type\":\"Spacer\"},{\"attributes\":{\"children\":[{\"id\":\"1103\"},{\"id\":\"1136\"},{\"id\":\"1142\"}],\"margin\":[0,0,0,0],\"name\":\"Row01689\",\"tags\":[\"embedded\"]},\"id\":\"1102\",\"type\":\"Row\"},{\"attributes\":{},\"id\":\"1132\",\"type\":\"IntEditor\"},{\"attributes\":{},\"id\":\"1107\",\"type\":\"StringEditor\"},{\"attributes\":{\"source\":{\"id\":\"1104\"}},\"id\":\"1137\",\"type\":\"CDSView\"},{\"attributes\":{},\"id\":\"1111\",\"type\":\"NumberFormatter\"},{\"attributes\":{\"data\":{\"Algorithm\":[52,52,66,47,20,52,64,12,20,18,50,34,47,47,52,68,64,52,52,52,34,52,47,52,52,52,46,23,52,52,52,52,52,64,52,23,34,47,52,52,52,52,41,52,52,36,52,52,52,52,64,52,64,47,52,52,52,51,52,25,52,52,47,52,66,52,47,52,66,36,52,52,52,52,52,52,64,64,47,34,47,38,64,47,47,47,64,52,52,52,52,31,52,64,34,47,66,52,10,10,54,9,52,47,23,52,52,52,66,52,52,52,52,66,52,58,64,34,45,52,52,52,33,52,47,52,64,51,64,30,47,44,64,64,52,52,52,20,66,6,47,68,64,47,3,52,0,47,64,52,47,47,35,52,52,64,15,52,65,64,52,47,52,41,52,64,64,47,47,35,64,52,40,52,52,52,66,64,64,18,64,52,10,47,47,64,52,34,52,52,52,47,52,52,49,41,52,64,32,41,66,67,41,49,20,18,14,64,52,64,66,64,41,52,52,64,41,64,47,52,64,52,52,64,10,52,52,52,52,46,45,52,10,30,52,47,64,52,64,52,12,52,52,52,66,64,18,52,52,30,52,16,64,5,64,52,41,64,35,41,64,52,52,52,47,64,52,52,47,41,52,68,47,52,40,12,1,2,6,8,10,35,64,35,55,52,66,52,64,64,52,10,66,60,52,28,57,64,55,47,64,52,63,52,41,52,52,52,52,52,52,52,10,50,37,64,18,36,64,52,36,31,18,52,47,35,38,15,52,46,52,39,52,47,64,36,20,36,64,14,35,66,34,52,10,10,20,35,46,64,12,52,52,52,64,3,64,36,46,36,52,52,52,64,64,47,7,40,20,52,10,56,52,10,52,15,31,66,43,48,52,52,64,7,42,64,70,52,62,20,10,52,26,35,52,52,18,52,32,22,41,52,53,64,46,41,10,69,52,35,30,70,61,52,32,10,11,10,52,52,27,49,10,52,68,52,46,47,14,69,24,64,69,46,46,52,31,46,52,52,12,13,70,11,64,64,52,41,47,28,64,64,52,50,69,17,18,70,32,47,70,64,10,46,4,4,18,21,52,52,18,46,18,46,52,45,64,52,70,49,64,47,66,47,64,14,52,52,64,36,52,4,52,47,52,64,52,52,47,64,47,52,52,52,23,64,52,41,52,52,64,47,14,52,52,36,34,66,19,14,20,14,47,29,41,59,41,47,52,10,18,52],\"Class\":{\"__ndarray__\":\"AAAAAAAAAAAEAAAAAAAAAAMAAAAAAAAAAAAAAAMAAAADAAAAAwAAAAIAAAADAAAAAAAAAAIAAAAAAAAAAAAAAAAAAAAAAAAAAAAAAAAAAAADAAAABAAAAAAAAAAAAAAAAAAAAAAAAAAAAAAAAwAAAAAAAAAAAAAAAAAAAAAAAAAAAAAAAAAAAAIAAAADAAAAAwAAAAAAAAAAAAAAAAAAAAAAAAAAAAAAAgAAAAIAAAAAAAAAAwAAAAAAAAAAAAAAAAAAAAAAAAACAAAAAAAAAAAAAAAAAAAAAAAAAAAAAAAAAAAAAAAAAAAAAAADAAAAAgAAAAAAAAAAAAAAAgAAAAAAAAAAAAAAAAAAAAAAAAAAAAAAAAAAAAAAAAAAAAAAAAAAAAAAAAAAAAAAAAAAAAIAAAAAAAAAAAAAAAIAAAAAAAAAAgAAAAAAAAAAAAAAAAAAAAAAAAAAAAAAAAAAAAAAAAAAAAAAAAAAAAMAAAAAAAAAAAAAAAIAAAAAAAAAAAAAAAAAAAAEAAAAAwAAAAIAAAADAAAAAAAAAAAAAAADAAAAAAAAAAIAAAAAAAAAAAAAAAAAAAACAAAAAAAAAAAAAAAAAAAAAAAAAAAAAAACAAAAAwAAAAAAAAAAAAAAAAAAAAAAAAADAAAAAAAAAAAAAAAAAAAAAAAAAAAAAAAAAAAAAwAAAAAAAAAAAAAAAAAAAAIAAAAAAAAAAAAAAAIAAAADAAAAAAAAAAMAAAAAAAAAAAAAAAAAAAAAAAAAAwAAAAAAAAADAAAAAAAAAAAAAAAAAAAAAAAAAAAAAAADAAAAAAAAAAIAAAAAAAAAAwAAAAAAAAAAAAAAAAAAAAIAAAAAAAAAAgAAAAIAAAAAAAAAAAAAAAAAAAAAAAAAAAAAAAMAAAAAAAAAAAAAAAIAAAAAAAAAAAAAAAAAAAACAAAAAAAAAAIAAAADAAAAAAAAAAAAAAADAAAAAAAAAAAAAAAAAAAAAAAAAAMAAAAAAAAAAAAAAAIAAAAAAAAAAAAAAAAAAAAAAAAAAgAAAAAAAAAAAAAAAwAAAAIAAAACAAAAAAAAAAIAAAAAAAAAAwAAAAMAAAACAAAAAAAAAAAAAAAAAAAAAAAAAAAAAAACAAAAAAAAAAAAAAAAAAAAAgAAAAAAAAAAAAAAAAAAAAAAAAAAAAAAAAAAAAAAAAADAAAAAAAAAAIAAAAAAAAAAAAAAAIAAAAAAAAAAAAAAAMAAAADAAAAAAAAAAAAAAAAAAAAAAAAAAAAAAAAAAAAAwAAAAIAAAAAAAAAAAAAAAIAAAAAAAAAAwAAAAAAAAAAAAAAAwAAAAIAAAADAAAAAAAAAAMAAAAAAAAAAAAAAAIAAAAAAAAAAwAAAAIAAAAAAAAAAAAAAAAAAAAAAAAAAgAAAAAAAAAAAAAAAgAAAAAAAAACAAAAAAAAAAAAAAACAAAAAAAAAAIAAAADAAAAAwAAAAMAAAADAAAAAwAAAAMAAAADAAAAAAAAAAMAAAAAAAAAAAAAAAAAAAAAAAAAAAAAAAAAAAAAAAAAAwAAAAAAAAAAAAAABAAAAAMAAAACAAAAAAAAAAAAAAAAAAAAAAAAAAIAAAAAAAAAAAAAAAIAAAAAAAAAAAAAAAAAAAAAAAAAAAAAAAAAAAAAAAAAAwAAAAIAAAACAAAAAAAAAAMAAAAAAAAAAAAAAAAAAAADAAAAAgAAAAMAAAAAAAAAAAAAAAMAAAAAAAAAAwAAAAAAAAAAAAAAAAAAAAIAAAAAAAAAAgAAAAAAAAADAAAAAwAAAAMAAAAAAAAAAgAAAAMAAAAAAAAAAwAAAAAAAAADAAAAAwAAAAMAAAACAAAAAgAAAAAAAAADAAAAAAAAAAAAAAAAAAAAAAAAAAMAAAAAAAAAAwAAAAIAAAADAAAAAAAAAAAAAAAAAAAAAgAAAAAAAAAAAAAAAwAAAAIAAAADAAAAAAAAAAQAAAAAAAAAAAAAAAMAAAAAAAAAAwAAAAMAAAACAAAAAgAAAAAAAAAAAAAAAAAAAAAAAAADAAAAAgAAAAAAAAAAAAAAAgAAAAIAAAADAAAAAwAAAAAAAAADAAAAAwAAAAAAAAAAAAAAAwAAAAIAAAADAAAAAgAAAAIAAAAAAAAAAgAAAAAAAAAAAAAAAgAAAAMAAAACAAAAAAAAAAMAAAADAAAAAgAAAAAAAAACAAAAAwAAAAMAAAADAAAAAwAAAAAAAAACAAAAAwAAAAAAAAADAAAAAAAAAAIAAAACAAAAAgAAAAIAAAADAAAAAAAAAAMAAAAAAAAAAAAAAAIAAAAAAAAAAgAAAAMAAAACAAAAAAAAAAAAAAADAAAAAwAAAAAAAAAEAAAAAgAAAAAAAAACAAAAAgAAAAAAAAADAAAAAgAAAAAAAAAAAAAAAAAAAAAAAAACAAAAAwAAAAIAAAADAAAAAAAAAAAAAAACAAAAAwAAAAAAAAADAAAAAwAAAAMAAAADAAAAAAAAAAAAAAADAAAAAAAAAAMAAAACAAAAAAAAAAAAAAACAAAAAAAAAAAAAAAAAAAAAAAAAAAAAAAAAAAAAAAAAAAAAAACAAAAAAAAAAAAAAAAAAAAAwAAAAAAAAADAAAAAAAAAAIAAAAAAAAAAAAAAAAAAAAAAAAAAAAAAAAAAAAAAAAAAAAAAAAAAAAAAAAAAwAAAAAAAAAAAAAAAgAAAAAAAAAAAAAAAAAAAAAAAAACAAAAAgAAAAAAAAAAAAAAAwAAAAAAAAADAAAAAgAAAAMAAAACAAAAAgAAAAIAAAACAAAAAQAAAAIAAAACAAAAAAAAAAMAAAADAAAAAgAAAA==\",\"dtype\":\"int32\",\"order\":\"little\",\"shape\":[532]},\"CoinName\":[\"42 Coin\",\"404Coin\",\"EliteCoin\",\"Bitcoin\",\"Ethereum\",\"Litecoin\",\"Dash\",\"Monero\",\"Ethereum Classic\",\"ZCash\",\"Bitshares\",\"DigiByte\",\"BitcoinDark\",\"PayCoin\",\"ProsperCoin\",\"KoboCoin\",\"Spreadcoin\",\"Argentum\",\"Aurora Coin\",\"BlueCoin\",\"MyriadCoin\",\"MoonCoin\",\"ZetaCoin\",\"SexCoin\",\"Quatloo\",\"EnergyCoin\",\"QuarkCoin\",\"Riecoin\",\"Digitalcoin \",\"BitBar\",\"Catcoin\",\"CryptoBullion\",\"CannaCoin\",\"CryptCoin\",\"CasinoCoin\",\"Diamond\",\"Verge\",\"DevCoin\",\"EarthCoin\",\"E-Gulden\",\"Einsteinium\",\"Emerald\",\"Exclusive Coin\",\"FlutterCoin\",\"Franko\",\"FeatherCoin\",\"GrandCoin\",\"GlobalCoin\",\"GoldCoin\",\"HoboNickels\",\"HyperStake\",\"Infinite Coin\",\"IOCoin\",\"IXcoin\",\"KrugerCoin\",\"LuckyCoin\",\"Litebar \",\"MaxCoin\",\"MegaCoin\",\"MediterraneanCoin\",\"MintCoin\",\"MinCoin\",\"MazaCoin\",\"Nautilus Coin\",\"NavCoin\",\"NobleCoin\",\"Namecoin\",\"NyanCoin\",\"OpalCoin\",\"Orbitcoin\",\"PotCoin\",\"PhoenixCoin\",\"Reddcoin\",\"RonPaulCoin\",\"StableCoin\",\"SmartCoin\",\"SuperCoin\",\"SyncCoin\",\"SysCoin\",\"TeslaCoin\",\"TigerCoin\",\"TittieCoin\",\"TorCoin\",\"TerraCoin\",\"UnbreakableCoin\",\"Unobtanium\",\"UroCoin\",\"UnitaryStatus Dollar\",\"UltraCoin\",\"ViaCoin\",\"VeriCoin\",\"Vertcoin\",\"WorldCoin\",\"X11 Coin\",\"Crypti\",\"JouleCoin\",\"StealthCoin\",\"ZCC Coin\",\"ByteCoin\",\"DigitalNote \",\"BurstCoin\",\"StorjCoin\",\"MonaCoin\",\"Neutron\",\"FairCoin\",\"Gulden\",\"RubyCoin\",\"PesetaCoin\",\"Kore\",\"Wild Beast Coin\",\"Dnotes\",\"Flo\",\"8BIT Coin\",\"Sativa Coin\",\"ArtByte\",\"Folding Coin\",\"Ucoin\",\"Unitus\",\"CypherPunkCoin\",\"OmniCron\",\"Vtorrent\",\"GreenCoin\",\"Cryptonite\",\"MasterCoin\",\"SoonCoin\",\"1Credit\",\"IslaCoin\",\"Nexus\",\"MarsCoin \",\"Crypto\",\"Anarchists Prime\",\"Droidz\",\"BowsCoin\",\"Squall Coin\",\"Song Coin\",\"BitZeny\",\"Diggits\",\"Expanse\",\"Paycon\",\"Siacoin\",\"Emercoin\",\"EverGreenCoin\",\"MindCoin\",\"I0coin\",\"Decred\",\"Revolution VR\",\"HOdlcoin\",\"EDRCoin\",\"Hitcoin\",\"Gamecredits\",\"DubaiCoin\",\"CarpeDiemCoin\",\"PWR Coin\",\"BillaryCoin\",\"GPU Coin\",\"Adzcoin\",\"SoilCoin\",\"YoCoin\",\"SibCoin\",\"EuropeCoin\",\"ZeitCoin\",\"SwingCoin\",\"SafeExchangeCoin\",\"Nebuchadnezzar\",\"Francs\",\"BolivarCoin\",\"Ratecoin\",\"Revenu\",\"Clockcoin\",\"VIP Tokens\",\"BitSend\",\"Omni\",\"Let it Ride\",\"PutinCoin\",\"iBankCoin\",\"Frankywillcoin\",\"MudraCoin\",\"PizzaCoin\",\"Lutetium Coin\",\"Komodo\",\"GoldBlocks\",\"CarterCoin\",\"Karbo\",\"BitTokens\",\"ZayedCoin\",\"MustangCoin\",\"ZoneCoin\",\"Circuits of Value\",\"RootCoin\",\"DopeCoin\",\"BitCurrency\",\"DollarCoin\",\"Swiscoin\",\"Shilling\",\"BuzzCoin\",\"Opair\",\"PesoBit\",\"Halloween Coin\",\"ZCoin\",\"CoffeeCoin\",\"RoyalCoin\",\"GanjaCoin V2\",\"TeamUP\",\"LanaCoin\",\"Elementrem\",\"ZClassic\",\"ARK\",\"InsaneCoin\",\"KiloCoin\",\"ArtexCoin\",\"EmberCoin\",\"XenixCoin\",\"FreeCoin\",\"PLNCoin\",\"AquariusCoin\",\"Kurrent\",\"Creatio\",\"Eternity\",\"Eurocoin\",\"BitcoinFast\",\"Stakenet\",\"BitConnect Coin\",\"MoneyCoin\",\"Enigma\",\"Cannabis Industry Coin\",\"Russiacoin\",\"PandaCoin\",\"GameUnits\",\"GAKHcoin\",\"Allsafe\",\"LiteCreed\",\"OsmiumCoin\",\"Bikercoins\",\"HexxCoin\",\"Klingon Empire Darsek\",\"Internet of People\",\"KushCoin\",\"Printerium\",\"PacCoin\",\"Impeach\",\"Citadel\",\"Zilbercoin\",\"FirstCoin\",\"BeaverCoin\",\"FindCoin\",\"VaultCoin\",\"Zero\",\"OpenChat\",\"Canada eCoin\",\"Zoin\",\"RenosCoin\",\"DubaiCoin\",\"VirtacoinPlus\",\"TajCoin\",\"Impact\",\"EB3coin\",\"Atmos\",\"HappyCoin\",\"Coinonat\",\"MacronCoin\",\"Condensate\",\"Independent Money System\",\"ArgusCoin\",\"LomoCoin\",\"ProCurrency\",\"GoldReserve\",\"BenjiRolls\",\"GrowthCoin\",\"ILCoin\",\"Phreak\",\"Degas Coin\",\"HTML5 Coin\",\"Ultimate Secure Cash\",\"EquiTrader\",\"QTUM\",\"Quantum Resistant Ledger\",\"Espers\",\"Dynamic\",\"Nano\",\"ChanCoin\",\"Dinastycoin\",\"Denarius\",\"DigitalPrice\",\"Virta Unique Coin\",\"Bitcoin Planet\",\"Unify\",\"BritCoin\",\"SocialCoin\",\"ArcticCoin\",\"DAS\",\"Linda\",\"LeviarCoin\",\"DeepOnion\",\"Bitcore\",\"gCn Coin\",\"SmartCash\",\"Signatum\",\"Onix\",\"Cream\",\"Bitcoin Cash\",\"Monoeci\",\"Draftcoin\",\"Vechain\",\"Sojourn Coin\",\"Stakecoin\",\"NewYorkCoin\",\"FrazCoin\",\"Kronecoin\",\"AdCoin\",\"Linx\",\"CoinonatX\",\"Ethereum Dark\",\"Sumokoin\",\"Obsidian\",\"Cardano\",\"Regalcoin\",\"BitcoinZ\",\"TrezarCoin\",\"Elements\",\"TerraNovaCoin\",\"VIVO Coin\",\"Rupee\",\"Bitcoin Gold\",\"WomenCoin\",\"Theresa May Coin\",\"NamoCoin\",\"LUXCoin\",\"Pirl\",\"Xios\",\"Bitcloud 2.0\",\"eBoost\",\"KekCoin\",\"BlackholeCoin\",\"Infinity Economics\",\"Pura\",\"Innova\",\"Ellaism\",\"GoByte\",\"Magnet\",\"Lamden Tau\",\"Electra\",\"Bitcoin Diamond\",\"SHIELD\",\"Cash & Back Coin\",\"UltraNote\",\"BitCoal\",\"DaxxCoin\",\"Bulwark\",\"Kalkulus\",\"AC3\",\"Lethean\",\"GermanCoin\",\"LiteCoin Ultra\",\"PopularCoin\",\"PhantomX\",\"Photon\",\"Sucre\",\"SparksPay\",\"Digiwage\",\"GunCoin\",\"IrishCoin\",\"Trollcoin\",\"Litecoin Plus\",\"Monkey Project\",\"Pioneer Coin\",\"UnitedBitcoin\",\"Interzone\",\"TokenPay\",\"1717 Masonic Commemorative Token\",\"My Big Coin\",\"TurtleCoin\",\"MUNcoin\",\"Unified Society USDEX\",\"Niobio Cash\",\"ShareChain\",\"Travelflex\",\"KREDS\",\"Tokyo Coin\",\"BiblePay\",\"LitecoinCash\",\"BitFlip\",\"LottoCoin\",\"Crypto Improvement Fund\",\"Stipend\",\"Poa Network\",\"Pushi\",\"Ellerium\",\"Velox\",\"Ontology\",\"Callisto Network\",\"BitTube\",\"Poseidon\",\"Aidos Kuneen\",\"Bitspace\",\"Briacoin\",\"Ignition\",\"Bitrolium\",\"MedicCoin\",\"Alpenschillling\",\"Bitcoin Green\",\"Deviant Coin\",\"Abjcoin\",\"Semux\",\"FuturoCoin\",\"Carebit\",\"Zealium\",\"Monero Classic\",\"Proton\",\"iDealCash\",\"Jumpcoin\",\"Infinex\",\"Bitcoin Incognito\",\"KEYCO\",\"HollyWoodCoin\",\"GINcoin\",\"PlatinCoin\",\"Loki\",\"Newton Coin\",\"Swisscoin\",\"Xt3ch\",\"MassGrid\",\"TheVig\",\"PluraCoin\",\"EmaratCoin\",\"Dekado\",\"Lynx\",\"Poseidon Quark\",\"BitcoinWSpectrum\",\"Muse\",\"Motion\",\"PlusOneCoin\",\"Axe\",\"Trivechain\",\"Dystem\",\"Giant\",\"Peony Coin\",\"Absolute Coin\",\"Vitae\",\"HexCoin\",\"TPCash\",\"Webchain\",\"Ryo\",\"Urals Coin\",\"Qwertycoin\",\"ARENON\",\"EUNO\",\"MMOCoin\",\"Ketan\",\"Project Pai\",\"XDNA\",\"PAXEX\",\"Azart\",\"ThunderStake\",\"Kcash\",\"Xchange\",\"Acute Angle Cloud\",\"CrypticCoin\",\"Bettex coin\",\"Actinium\",\"Bitcoin SV\",\"BitMoney\",\"Junson Ming Chan Coin\",\"FREDEnergy\",\"HerbCoin\",\"Universal Molecule\",\"Lithium\",\"PirateCash\",\"Exosis\",\"Block-Logic\",\"Oduwa\",\"Beam\",\"Galilel\",\"Bithereum\",\"Crypto Sports\",\"Credit\",\"SLICE\",\"Dash Platinum\",\"Nasdacoin\",\"Beetle Coin\",\"Titan Coin\",\"Award\",\"BLAST\",\"Bitcoin Rhodium\",\"GlobalToken\",\"Insane Coin\",\"ALAX\",\"LiteDoge\",\"SolarCoin\",\"TruckCoin\",\"UFO Coin\",\"OrangeCoin\",\"BlakeCoin\",\"BitstarCoin\",\"NeosCoin\",\"HyperCoin\",\"PinkCoin\",\"Crypto Escudo\",\"AudioCoin\",\"IncaKoin\",\"Piggy Coin\",\"Crown Coin\",\"Genstake\",\"SmileyCoin\",\"XiaoMiCoin\",\"Groestlcoin\",\"CapriCoin\",\" ClubCoin\",\"Radium\",\"Bata\",\"Pakcoin\",\"Creditbit \",\"OKCash\",\"Lisk\",\"HiCoin\",\"WhiteCoin\",\"FriendshipCoin\",\"JoinCoin\",\"Triangles Coin\",\"Vollar\",\"EOS\",\"Reality Clash\",\"Oxycoin\",\"TigerCash\",\"Waves\",\"Particl\",\"BitTorrent\",\"Nxt\",\"ZEPHYR\",\"Gapcoin\",\"Beldex\",\"Horizen\",\"BitcoinPlus\"],\"ProofType\":[15,15,15,12,12,12,15,12,12,12,7,12,15,7,12,15,12,12,15,15,12,12,12,12,12,15,12,12,12,15,12,15,12,12,6,15,12,12,12,12,12,12,7,10,12,12,12,12,12,15,7,12,15,12,12,12,12,15,12,12,7,12,15,7,15,12,12,12,15,15,15,15,15,12,12,12,7,15,12,7,12,7,15,12,12,12,12,15,15,12,11,12,12,15,7,12,15,15,12,12,6,7,12,15,15,12,7,12,15,12,7,12,15,15,12,12,7,12,12,12,15,12,12,12,12,12,15,18,12,12,12,15,12,9,12,12,7,12,15,12,15,15,12,12,15,12,12,15,15,12,15,12,15,15,7,12,12,12,12,15,7,15,6,7,12,12,15,15,15,15,15,12,7,15,15,15,7,12,7,24,15,15,12,15,12,15,15,12,15,12,7,12,17,12,15,7,15,15,12,7,7,15,7,15,12,12,1,15,12,12,15,15,7,15,15,12,7,15,15,15,22,15,15,15,12,15,7,15,15,7,15,12,12,12,15,15,15,15,12,15,12,7,16,12,7,12,12,15,12,12,7,12,15,15,15,12,7,15,12,7,15,15,15,15,7,15,12,7,12,7,15,15,7,12,7,12,15,12,12,12,12,15,12,15,15,12,15,12,12,12,15,12,15,12,12,12,7,12,15,12,15,7,20,12,7,12,12,12,12,12,15,15,12,7,7,15,12,15,12,15,12,7,12,15,15,15,15,12,15,15,12,7,15,7,12,12,12,12,15,1,15,15,12,15,12,12,12,7,7,12,12,15,15,12,15,12,12,12,7,12,12,15,15,7,12,12,12,7,7,14,12,12,15,12,12,12,12,7,4,13,12,12,12,15,5,15,15,7,7,12,12,12,12,15,15,15,12,7,12,7,7,15,1,12,15,7,12,7,15,12,12,9,12,7,12,12,12,12,15,7,12,15,12,15,7,2,7,7,7,12,12,12,15,7,15,7,15,7,12,15,12,12,12,12,7,15,7,7,12,15,7,12,15,23,12,0,12,7,12,12,19,7,12,15,12,12,7,12,12,15,12,15,12,7,15,12,7,15,15,15,15,12,12,12,15,1,15,12,15,12,15,12,15,7,15,15,12,15,15,15,12,15,12,15,12,15,15,7,12,12,21,15,1,7,15,15,12,15,12,1,12,1,7,3,7,1,8,1,15,12,12,7],\"TotalCoinSupply\":{\"__ndarray__\":\"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\",\"dtype\":\"float64\",\"order\":\"little\",\"shape\":[532]},\"TotalCoinsMined\":{\"__ndarray__\":\"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\",\"dtype\":\"float64\",\"order\":\"little\",\"shape\":[532]}},\"selected\":{\"id\":\"1105\"},\"selection_policy\":{\"id\":\"1139\"}},\"id\":\"1104\",\"type\":\"ColumnDataSource\"}],\"root_ids\":[\"1102\"]},\"title\":\"Bokeh Application\",\"version\":\"2.1.0\"}};\n",
       "  var render_items = [{\"docid\":\"7e5f3686-6f28-4d91-a7bb-f1e5df7b3678\",\"root_ids\":[\"1102\"],\"roots\":{\"1102\":\"95f12427-d4c3-49cc-8d19-fa664037b72a\"}}];\n",
       "  root.Bokeh.embed.embed_items_notebook(docs_json, render_items);\n",
       "  }\n",
       "if (root.Bokeh !== undefined) {\n",
       "    embed_document(root);\n",
       "  } else {\n",
       "    var attempts = 0;\n",
       "    var timer = setInterval(function(root) {\n",
       "      if (root.Bokeh !== undefined) {\n",
       "        clearInterval(timer);\n",
       "        embed_document(root);\n",
       "      } else if (document.readyState == \"complete\") {\n",
       "        attempts++;\n",
       "        if (attempts > 100) {\n",
       "          clearInterval(timer);\n",
       "          console.log(\"Bokeh: ERROR: Unable to run BokehJS code because BokehJS library is missing\");\n",
       "        }\n",
       "      }\n",
       "    }, 10, root)\n",
       "  }\n",
       "})(window);</script>"
      ],
      "text/plain": [
       ":Table   [CoinName,Algorithm,ProofType,TotalCoinSupply,TotalCoinsMined,Class]"
      ]
     },
     "execution_count": 41,
     "metadata": {
      "application/vnd.holoviews_exec.v0+json": {
       "id": "1102"
      }
     },
     "output_type": "execute_result"
    }
   ],
   "source": [
    "# Use hvplot.table to create a data table with all the current tradable crypto currencies.\n",
    "\n",
    "cols = ['CoinName', 'Algorithm', 'ProofType', 'TotalCoinSupply', 'TotalCoinsMined', 'Class']\n",
    "\n",
    "clustered_table = clustered_df.hvplot.table(cols, width=600)\n",
    "\n",
    "clustered_table"
   ]
  },
  {
   "cell_type": "code",
   "execution_count": 42,
   "metadata": {},
   "outputs": [
    {
     "data": {},
     "metadata": {},
     "output_type": "display_data"
    },
    {
     "data": {
      "application/vnd.holoviews_exec.v0+json": "",
      "text/html": [
       "<div id='1154'>\n",
       "\n",
       "\n",
       "\n",
       "\n",
       "\n",
       "  <div class=\"bk-root\" id=\"a0f291e5-559a-4e16-b3f4-ab869124ea78\" data-root-id=\"1154\"></div>\n",
       "</div>\n",
       "<script type=\"application/javascript\">(function(root) {\n",
       "  function embed_document(root) {\n",
       "  var docs_json = {\"f3e5d034-85bf-4436-909d-0b012be637a4\":{\"roots\":{\"references\":[{\"attributes\":{\"label\":{\"value\":\"2\"},\"renderers\":[{\"id\":\"1240\"}]},\"id\":\"1254\",\"type\":\"LegendItem\"},{\"attributes\":{},\"id\":\"1182\",\"type\":\"WheelZoomTool\"},{\"attributes\":{\"data\":{\"Class\":[1],\"CoinName\":[\"BitTorrent\"],\"TotalCoinSupply\":{\"__ndarray__\":\"AACAJRPQbEI=\",\"dtype\":\"float64\",\"order\":\"little\",\"shape\":[1]},\"TotalCoinsMined\":{\"__ndarray__\":\"xfR7nv3PbEI=\",\"dtype\":\"float64\",\"order\":\"little\",\"shape\":[1]}},\"selected\":{\"id\":\"1216\"},\"selection_policy\":{\"id\":\"1232\"}},\"id\":\"1215\",\"type\":\"ColumnDataSource\"},{\"attributes\":{},\"id\":\"1276\",\"type\":\"UnionRenderers\"},{\"attributes\":{\"click_policy\":\"mute\",\"items\":[{\"id\":\"1214\"},{\"id\":\"1233\"},{\"id\":\"1254\"},{\"id\":\"1277\"},{\"id\":\"1302\"}],\"location\":[0,0],\"title\":\"Class\"},\"id\":\"1213\",\"type\":\"Legend\"},{\"attributes\":{},\"id\":\"1193\",\"type\":\"BasicTickFormatter\"},{\"attributes\":{},\"id\":\"1195\",\"type\":\"BasicTickFormatter\"},{\"attributes\":{\"fill_alpha\":{\"value\":0.2},\"fill_color\":{\"value\":\"#2ba02b\"},\"line_alpha\":{\"value\":0.2},\"line_color\":{\"value\":\"#2ba02b\"},\"size\":{\"units\":\"screen\",\"value\":5.477225575051661},\"x\":{\"field\":\"TotalCoinsMined\"},\"y\":{\"field\":\"TotalCoinSupply\"}},\"id\":\"1239\",\"type\":\"Scatter\"},{\"attributes\":{},\"id\":\"1168\",\"type\":\"LinearScale\"},{\"attributes\":{\"data_source\":{\"id\":\"1255\"},\"glyph\":{\"id\":\"1258\"},\"hover_glyph\":null,\"muted_glyph\":{\"id\":\"1260\"},\"nonselection_glyph\":{\"id\":\"1259\"},\"selection_glyph\":null,\"view\":{\"id\":\"1262\"}},\"id\":\"1261\",\"type\":\"GlyphRenderer\"},{\"attributes\":{\"data_source\":{\"id\":\"1278\"},\"glyph\":{\"id\":\"1281\"},\"hover_glyph\":null,\"muted_glyph\":{\"id\":\"1283\"},\"nonselection_glyph\":{\"id\":\"1282\"},\"selection_glyph\":null,\"view\":{\"id\":\"1285\"}},\"id\":\"1284\",\"type\":\"GlyphRenderer\"},{\"attributes\":{\"fill_alpha\":{\"value\":0.1},\"fill_color\":{\"value\":\"#d62628\"},\"line_alpha\":{\"value\":0.1},\"line_color\":{\"value\":\"#d62628\"},\"size\":{\"units\":\"screen\",\"value\":5.477225575051661},\"x\":{\"field\":\"TotalCoinsMined\"},\"y\":{\"field\":\"TotalCoinSupply\"}},\"id\":\"1259\",\"type\":\"Scatter\"},{\"attributes\":{\"margin\":[5,5,5,5],\"name\":\"HSpacer01909\",\"sizing_mode\":\"stretch_width\"},\"id\":\"1447\",\"type\":\"Spacer\"},{\"attributes\":{\"axis\":{\"id\":\"1172\"},\"grid_line_color\":null,\"ticker\":null},\"id\":\"1175\",\"type\":\"Grid\"},{\"attributes\":{},\"id\":\"1184\",\"type\":\"ResetTool\"},{\"attributes\":{\"align\":null,\"below\":[{\"id\":\"1172\"}],\"center\":[{\"id\":\"1175\"},{\"id\":\"1179\"}],\"left\":[{\"id\":\"1176\"}],\"margin\":null,\"min_border_bottom\":10,\"min_border_left\":10,\"min_border_right\":10,\"min_border_top\":10,\"plot_height\":300,\"plot_width\":700,\"renderers\":[{\"id\":\"1203\"},{\"id\":\"1221\"},{\"id\":\"1240\"},{\"id\":\"1261\"},{\"id\":\"1284\"}],\"right\":[{\"id\":\"1213\"}],\"sizing_mode\":\"fixed\",\"title\":{\"id\":\"1164\"},\"toolbar\":{\"id\":\"1186\"},\"x_range\":{\"id\":\"1156\"},\"x_scale\":{\"id\":\"1168\"},\"y_range\":{\"id\":\"1157\"},\"y_scale\":{\"id\":\"1170\"}},\"id\":\"1163\",\"subtype\":\"Figure\",\"type\":\"Plot\"},{\"attributes\":{\"fill_alpha\":{\"value\":0.1},\"fill_color\":{\"value\":\"#1f77b3\"},\"line_alpha\":{\"value\":0.1},\"line_color\":{\"value\":\"#1f77b3\"},\"size\":{\"units\":\"screen\",\"value\":5.477225575051661},\"x\":{\"field\":\"TotalCoinsMined\"},\"y\":{\"field\":\"TotalCoinSupply\"}},\"id\":\"1201\",\"type\":\"Scatter\"},{\"attributes\":{},\"id\":\"1181\",\"type\":\"PanTool\"},{\"attributes\":{\"label\":{\"value\":\"3\"},\"renderers\":[{\"id\":\"1261\"}]},\"id\":\"1277\",\"type\":\"LegendItem\"},{\"attributes\":{\"fill_alpha\":{\"value\":0.2},\"fill_color\":{\"value\":\"#1f77b3\"},\"line_alpha\":{\"value\":0.2},\"line_color\":{\"value\":\"#1f77b3\"},\"size\":{\"units\":\"screen\",\"value\":5.477225575051661},\"x\":{\"field\":\"TotalCoinsMined\"},\"y\":{\"field\":\"TotalCoinSupply\"}},\"id\":\"1202\",\"type\":\"Scatter\"},{\"attributes\":{\"data_source\":{\"id\":\"1215\"},\"glyph\":{\"id\":\"1218\"},\"hover_glyph\":null,\"muted_glyph\":{\"id\":\"1220\"},\"nonselection_glyph\":{\"id\":\"1219\"},\"selection_glyph\":null,\"view\":{\"id\":\"1222\"}},\"id\":\"1221\",\"type\":\"GlyphRenderer\"},{\"attributes\":{\"label\":{\"value\":\"4\"},\"renderers\":[{\"id\":\"1284\"}]},\"id\":\"1302\",\"type\":\"LegendItem\"},{\"attributes\":{\"active_drag\":\"auto\",\"active_inspect\":\"auto\",\"active_multi\":null,\"active_scroll\":\"auto\",\"active_tap\":\"auto\",\"tools\":[{\"id\":\"1158\"},{\"id\":\"1180\"},{\"id\":\"1181\"},{\"id\":\"1182\"},{\"id\":\"1183\"},{\"id\":\"1184\"}]},\"id\":\"1186\",\"type\":\"Toolbar\"},{\"attributes\":{\"data_source\":{\"id\":\"1197\"},\"glyph\":{\"id\":\"1200\"},\"hover_glyph\":null,\"muted_glyph\":{\"id\":\"1202\"},\"nonselection_glyph\":{\"id\":\"1201\"},\"selection_glyph\":null,\"view\":{\"id\":\"1204\"}},\"id\":\"1203\",\"type\":\"GlyphRenderer\"},{\"attributes\":{\"fill_alpha\":{\"value\":0.2},\"fill_color\":{\"value\":\"#ff7e0e\"},\"line_alpha\":{\"value\":0.2},\"line_color\":{\"value\":\"#ff7e0e\"},\"size\":{\"units\":\"screen\",\"value\":5.477225575051661},\"x\":{\"field\":\"TotalCoinsMined\"},\"y\":{\"field\":\"TotalCoinSupply\"}},\"id\":\"1220\",\"type\":\"Scatter\"},{\"attributes\":{\"fill_alpha\":{\"value\":0.1},\"fill_color\":{\"value\":\"#9367bc\"},\"line_alpha\":{\"value\":0.1},\"line_color\":{\"value\":\"#9367bc\"},\"size\":{\"units\":\"screen\",\"value\":5.477225575051661},\"x\":{\"field\":\"TotalCoinsMined\"},\"y\":{\"field\":\"TotalCoinSupply\"}},\"id\":\"1282\",\"type\":\"Scatter\"},{\"attributes\":{\"fill_color\":{\"value\":\"#2ba02b\"},\"line_color\":{\"value\":\"#2ba02b\"},\"size\":{\"units\":\"screen\",\"value\":5.477225575051661},\"x\":{\"field\":\"TotalCoinsMined\"},\"y\":{\"field\":\"TotalCoinSupply\"}},\"id\":\"1237\",\"type\":\"Scatter\"},{\"attributes\":{},\"id\":\"1173\",\"type\":\"BasicTicker\"},{\"attributes\":{},\"id\":\"1212\",\"type\":\"UnionRenderers\"},{\"attributes\":{\"data_source\":{\"id\":\"1234\"},\"glyph\":{\"id\":\"1237\"},\"hover_glyph\":null,\"muted_glyph\":{\"id\":\"1239\"},\"nonselection_glyph\":{\"id\":\"1238\"},\"selection_glyph\":null,\"view\":{\"id\":\"1241\"}},\"id\":\"1240\",\"type\":\"GlyphRenderer\"},{\"attributes\":{\"end\":1100000000000.0,\"reset_end\":1100000000000.0,\"reset_start\":-100000000000.0,\"start\":-100000000000.0,\"tags\":[[[\"TotalCoinSupply\",\"TotalCoinSupply\",null]]]},\"id\":\"1157\",\"type\":\"Range1d\"},{\"attributes\":{\"data\":{\"Class\":[4,4,4,4,4,4],\"CoinName\":[\"EliteCoin\",\"MoonCoin\",\"ByteCoin\",\"gCn Coin\",\"TurtleCoin\",\"Qwertycoin\"],\"TotalCoinSupply\":{\"__ndarray__\":\"AMCTfVZJUkIAAADAC1pWQgCAL+KOeUVCAAAA6HZIR0IAAACilBptQgAAwGiieUVC\",\"dtype\":\"float64\",\"order\":\"little\",\"shape\":[6]},\"TotalCoinsMined\":{\"__ndarray__\":\"xAK6QcJEG0IAAAAAAABWQAAAB3WebUVCAABOq2v7QkI9ipsSw74oQl3NAOrTLTdC\",\"dtype\":\"float64\",\"order\":\"little\",\"shape\":[6]}},\"selected\":{\"id\":\"1279\"},\"selection_policy\":{\"id\":\"1301\"}},\"id\":\"1278\",\"type\":\"ColumnDataSource\"},{\"attributes\":{\"axis\":{\"id\":\"1176\"},\"dimension\":1,\"grid_line_color\":null,\"ticker\":null},\"id\":\"1179\",\"type\":\"Grid\"},{\"attributes\":{\"text\":\"Cryptocurrencies Mined vs. Supply\",\"text_color\":{\"value\":\"black\"},\"text_font_size\":{\"value\":\"12pt\"}},\"id\":\"1164\",\"type\":\"Title\"},{\"attributes\":{\"axis_label\":\"TotalCoinSupply\",\"bounds\":\"auto\",\"formatter\":{\"id\":\"1195\"},\"major_label_orientation\":\"horizontal\",\"ticker\":{\"id\":\"1177\"}},\"id\":\"1176\",\"type\":\"LinearAxis\"},{\"attributes\":{\"callback\":null,\"renderers\":[{\"id\":\"1203\"},{\"id\":\"1221\"},{\"id\":\"1240\"},{\"id\":\"1261\"},{\"id\":\"1284\"}],\"tags\":[\"hv_created\"],\"tooltips\":[[\"Class\",\"@{Class}\"],[\"TotalCoinsMined\",\"@{TotalCoinsMined}\"],[\"TotalCoinSupply\",\"@{TotalCoinSupply}\"],[\"CoinName\",\"@{CoinName}\"]]},\"id\":\"1158\",\"type\":\"HoverTool\"},{\"attributes\":{\"source\":{\"id\":\"1255\"}},\"id\":\"1262\",\"type\":\"CDSView\"},{\"attributes\":{},\"id\":\"1216\",\"type\":\"Selection\"},{\"attributes\":{},\"id\":\"1235\",\"type\":\"Selection\"},{\"attributes\":{},\"id\":\"1232\",\"type\":\"UnionRenderers\"},{\"attributes\":{},\"id\":\"1301\",\"type\":\"UnionRenderers\"},{\"attributes\":{\"axis_label\":\"TotalCoinsMined\",\"bounds\":\"auto\",\"formatter\":{\"id\":\"1193\"},\"major_label_orientation\":0.7853981633974483,\"ticker\":{\"id\":\"1173\"}},\"id\":\"1172\",\"type\":\"LinearAxis\"},{\"attributes\":{\"data\":{\"Class\":[2,2,2,2,2,2,2,2,2,2,2,2,2,2,2,2,2,2,2,2,2,2,2,2,2,2,2,2,2,2,2,2,2,2,2,2,2,2,2,2,2,2,2,2,2,2,2,2,2,2,2,2,2,2,2,2,2,2,2,2,2,2,2,2,2,2,2,2,2,2,2,2,2,2,2,2,2,2,2,2,2,2,2,2,2,2,2,2,2,2,2,2,2,2,2,2,2,2,2,2,2,2],\"CoinName\":[\"Bitshares\",\"PayCoin\",\"CasinoCoin\",\"Exclusive Coin\",\"FlutterCoin\",\"HyperStake\",\"MintCoin\",\"Nautilus Coin\",\"SuperCoin\",\"TeslaCoin\",\"TittieCoin\",\"Crypti\",\"BurstCoin\",\"RubyCoin\",\"Dnotes\",\"Ucoin\",\"Squall Coin\",\"Diggits\",\"GPU Coin\",\"ZeitCoin\",\"SafeExchangeCoin\",\"Nebuchadnezzar\",\"Let it Ride\",\"MudraCoin\",\"Lutetium Coin\",\"BitCurrency\",\"Opair\",\"CoffeeCoin\",\"RoyalCoin\",\"TeamUP\",\"ARK\",\"FreeCoin\",\"Creatio\",\"PandaCoin\",\"Allsafe\",\"Zilbercoin\",\"FindCoin\",\"RenosCoin\",\"Atmos\",\"MacronCoin\",\"ProCurrency\",\"GrowthCoin\",\"Phreak\",\"Ultimate Secure Cash\",\"QTUM\",\"Signatum\",\"Draftcoin\",\"Stakecoin\",\"Obsidian\",\"Cardano\",\"Rupee\",\"KekCoin\",\"Infinity Economics\",\"Lamden Tau\",\"Bulwark\",\"Kalkulus\",\"Digiwage\",\"Monkey Project\",\"TokenPay\",\"Tokyo Coin\",\"BiblePay\",\"Poa Network\",\"Velox\",\"Ontology\",\"MedicCoin\",\"Bitcoin Green\",\"Deviant Coin\",\"Semux\",\"Zealium\",\"Proton\",\"Bitcoin Incognito\",\"HollyWoodCoin\",\"Xt3ch\",\"Dekado\",\"Lynx\",\"Poseidon Quark\",\"BitcoinWSpectrum\",\"Dystem\",\"Peony Coin\",\"Vitae\",\"ARENON\",\"MMOCoin\",\"Ketan\",\"PAXEX\",\"Acute Angle Cloud\",\"Bettex coin\",\"Junson Ming Chan Coin\",\"Crypto Sports\",\"Dash Platinum\",\"ALAX\",\"NeosCoin\",\"Radium\",\"Lisk\",\"HiCoin\",\"EOS\",\"Oxycoin\",\"TigerCash\",\"Waves\",\"Particl\",\"Nxt\",\"ZEPHYR\",\"BitcoinPlus\"],\"TotalCoinSupply\":{\"__ndarray__\":\"AADAEIvT6kEAAAAAhNdnQQAAACBfoCJCAAAAAAAAAAAAAAAAAAAAAAAAAAAAAAAAAAAAAAAAAAAAAAAAZNxuQQAAAAAAAAAAAAAAAITXl0EAAADg5iLhQQAAAAAAAAAAAAAA0JsV4EEAAAAAAAAAAAAAAABlzb1BAAAAANASc0EAAAAAAAAAAAAAAACE15dBAAAAsP1ZqkEAAAAe3Aw3QgAAwP///99BAAAAANASc0EAAAAAtvJ/QQAAAACE16dBAAAAIIOUw0EAAAAAAAAAAAAAAACapJFBAAAA0MwSg0EAAAAADhNDQQAAAEDl8LFBAAAAAGXNnUEAAAAAhNeHQQAAAADQEnNBAACICClIHkIAAAAAOJxsQQAAAADeOYpBRUdybza0a0EAAAC4cWqAQQAAALiRS5pBAAAAAITXt0EAAAAuWXYxQgAAAABlzd1BAAAAADicfEEAAADQFdqnQQAAAACE15dBAAAAwCpkoEEXNCczfJlwQQAAAOiGX41BAAAASPDJlUEAAAAEa/QkQgAAAABg43ZBAAAAAPQGdEEAAADQiMMAQgAAAABlzb1BAAAAkKFuekEAAAAA0BJzQQAAAAA4nJxBAAAAAPQGdEEAAAAAhNd3QQAAAACE18dBAAAAQBtf80EAAAAAfhiuQQAAAABckJ1BAAAAAGXNzUEAAAAAZc29QQAAAAD0BnRBAAAAABj7lEEAAAAAhNeXQQAAAADQEpNBAAAAACp1hUEAAAAA9AZ0QQAAAACoy3hBAAAAABj7hEEAAAAAKnWVQQAAAJigazVCAAAAQBtfw0EAAAD0hOeXQQAAAAD0BnRBAAAA4AJxD0IAAAAAhNeXQQAAAADeOYpBAAAAAJL+rkEAAAAAsQipQQAAAACE15dBAAAAAGXNzUEAAAAAhNeHQQAAAAAAAAAAAAAAAFKAaUEAAAAAkslyQQAAAABlzc1BAAAAAPQGdEEAAAAAiCphQQAAAIBSEKNBAACYsZWkAkIAAAAAAAAAAAAAAAAAAAAAAAAAAGXNzUEAAAAAhNeXQQAAAIDjd2BBAAAAAGXNzUEAAAAAZc3dQQAAAACAhC5B\",\"dtype\":\"float64\",\"order\":\"little\",\"shape\":[102]},\"TotalCoinsMined\":{\"__ndarray__\":\"AAAAOiFt5EEpu0/cGOFmQa625wpfoCJCAAAAQJaqVUHBNFQR94a7QftcscYLA9lB0/wVEd7UE0IAAAAAZNxuQSes/m3mLYhBJrzuvrUik0Gxp502ryzYQQAAAACE15dBAAAA8CwE20GF80Sm1ux5QRqL3sPG0aRBAAAAAIqFREFIisgQwBcUQQAAAACE15dBAAAAkAtNg0FWnZ2VUDchQgAAwP///99BAAAAANASc0H8k1OFq2aCQQAAAADQElNBAAAAIIOUw0EAAAAwvTekQSsMLjuqppFBAAAAIHq6oUEAAAAADhNDQXh6paJD/nBBAAAAkCHMmUEAAAAAhNeHQQAAAADQEnNBtVU3hK59H0K3QKeXoQ9kQYyDbPs6TEZBRUdybza0a0EAAADorTCBQQRWjnMxf5pBAAAAWTTtt0EAAABE0/iXQQmkXOpol7FBYEctP6K5ZUEAAAAgWbpjQQAAAACE15dBAAAAeCK+mUHya5UVeMxxQQAAAACAhE5BAAAAAITXd0EAACjNfiUYQgAAAABg43ZB4PPDyeaEZ0EAALDPiMMAQmFvfsfpK7FBvu0uXFlEaUGq2m5OlytwQQAAAAD2CHpBAAAAAPXPUEFWAY1Yqn9zQQAAAFoqdKtB8dd4J/5n2kEAAAB+NGCoQVomKNKtYnhBAACAuJRlw0EAAKAYR92vQX0GlGv1smJBTQWmrfbcdEEAAAAAK8kyQUza+cLWH2VBAAAAAJbMUEGNfvRisMxkQbN2u8vzdIJBSFD8ACwbXUHP8+dFmuF8QVnmi1WJITJC6NT8eTS5REEY0gHIAZGLQU0j1g9mBFtBluWQ57jML0EhQAGtN3+PQXE9Cl94YHJB/7Krb2KxmUEHVhtzQ8phQQAAAMAPL1FBAAAAAGXNzUFyYIdLU+RZQXBOQWIqBxBC9P7crG2FPUHVjX/iFtclQQAAAABlzc1BXkvGj1DBUEEGieneXidNQQAAALD1nJxBApot/nygAkLZPYkFI2rOQRSu13KMudBBAAAAAGXNzUEAAAAAhNeXQdmqyTHItGFBAAAAAGXNzUHzjtP+ZM3dQUfYAfFvVP9A\",\"dtype\":\"float64\",\"order\":\"little\",\"shape\":[102]}},\"selected\":{\"id\":\"1235\"},\"selection_policy\":{\"id\":\"1253\"}},\"id\":\"1234\",\"type\":\"ColumnDataSource\"},{\"attributes\":{\"data\":{\"Class\":[3,3,3,3,3,3,3,3,3,3,3,3,3,3,3,3,3,3,3,3,3,3,3,3,3,3,3,3,3,3,3,3,3,3,3,3,3,3,3,3,3,3,3,3,3,3,3,3,3,3,3,3,3,3,3,3,3,3,3,3,3,3,3,3,3,3,3,3,3,3,3,3,3,3,3,3,3,3,3,3,3,3,3,3,3,3,3,3,3,3,3,3,3,3,3,3,3,3,3,3,3,3,3,3,3,3,3,3,3,3,3,3],\"CoinName\":[\"Ethereum\",\"Monero\",\"Ethereum Classic\",\"ZCash\",\"DigiByte\",\"MyriadCoin\",\"Riecoin\",\"Diamond\",\"Verge\",\"FeatherCoin\",\"MediterraneanCoin\",\"Vertcoin\",\"DigitalNote \",\"StorjCoin\",\"FairCoin\",\"Unitus\",\"Cryptonite\",\"Crypto\",\"Expanse\",\"Siacoin\",\"Decred\",\"HOdlcoin\",\"PWR Coin\",\"SoilCoin\",\"VIP Tokens\",\"Komodo\",\"Karbo\",\"Circuits of Value\",\"ZCoin\",\"Elementrem\",\"ZClassic\",\"Cannabis Industry Coin\",\"Bikercoins\",\"HexxCoin\",\"Citadel\",\"Zero\",\"Zoin\",\"DubaiCoin\",\"TajCoin\",\"Coinonat\",\"Quantum Resistant Ledger\",\"Espers\",\"Dynamic\",\"Nano\",\"ChanCoin\",\"Dinastycoin\",\"Denarius\",\"Virta Unique Coin\",\"LeviarCoin\",\"SmartCash\",\"Sumokoin\",\"BitcoinZ\",\"VIVO Coin\",\"Bitcoin Gold\",\"NamoCoin\",\"Pirl\",\"Innova\",\"Ellaism\",\"GoByte\",\"Electra\",\"SHIELD\",\"UltraNote\",\"BitCoal\",\"DaxxCoin\",\"Lethean\",\"Photon\",\"SparksPay\",\"GunCoin\",\"Interzone\",\"1717 Masonic Commemorative Token\",\"Niobio Cash\",\"Travelflex\",\"KREDS\",\"Stipend\",\"Callisto Network\",\"BitTube\",\"Aidos Kuneen\",\"Bitspace\",\"Bitrolium\",\"Alpenschillling\",\"Monero Classic\",\"Jumpcoin\",\"Infinex\",\"GINcoin\",\"PlatinCoin\",\"Loki\",\"Newton Coin\",\"MassGrid\",\"PluraCoin\",\"Muse\",\"PlusOneCoin\",\"Absolute Coin\",\"Webchain\",\"Ryo\",\"XDNA\",\"CrypticCoin\",\"Actinium\",\"FREDEnergy\",\"Universal Molecule\",\"Lithium\",\"PirateCash\",\"Exosis\",\"Beam\",\"Bithereum\",\"UFO Coin\",\"BlakeCoin\",\"Groestlcoin\",\"JoinCoin\",\"Vollar\",\"Reality Clash\",\"Beldex\",\"Horizen\"],\"TotalCoinSupply\":{\"__ndarray__\":\"AAAAAAAAAAAAAAAAAAAAAAAAAACxCKlBAAAAAPQGdEEAAABIyo4TQgAAAABlzd1BAAAAAPQGlEEAAAAAWLVQQQAAAAYK1g5CAAAAAPQGtEEAAAAAhNenQQAAAAD0BpRBAAAAIF+gAkIAAAAAZc29QQAAAAAAAAAAAAAAAAAAAAAAAAAAC2vbQQAAAGDlXo9BAAAA0IkfcEEAAAAAAAAAAAAAAAD0BnRBAAAA0JGKk0EAAAAAAAAAAAAAAAA4nHxBAAAAACp1lUEAAAAAhNenQQAAAADQEmNBAAAAAKPh0UEAAAAAnGh0QQAAADDW/XhBAAAAAPQGdEEAAAAA9AZ0QQAAAACE13dBAAAA4M8SY0EAAACAwA2mQQAAAABkNnBBAAAAAPQGdEEAAACAIglBQQAAAABlmIFBAAAAACMCh0EAAAAAsQiZQQAAAOh2SCdCAAAAAAAAAAAAAAD/S0i0QQAAAAA4nHxBAAAAAGXN3UEAAAAA0BJjQQAAAAA4nJxBAAAAAMy/iUEAAAAgX6DyQQAAAOBYMZVBAAAASMqOE0IAAAAAzL95QQAAAAD0BnRBAAAAAKPh0UEfhWtZGqKiQQAAAAAqdYVBAAAAAHawsEEAAAAArFN+QQAAALCO8BtCAAAAgGarw0EAAAASZcozQgAAAACE12dBAAAAIF+gAkIAAABWcMnNQQAAAARr9DRCAAAAAPQGdEEAAAAAZc29QQAAAAA873VBAAAAAHGwOEEAAAAA9Aa0QQAAAACE15dBAAAAwCpk0EEAAAAg03FyQQAAABDiNvhBAAAAAGXNzUEAAAAAhNd3QQAAAACE14dBAAAAAHawkEEAAAAAo+GxQQAAAAAwjHFBAAAAAPQGdEEAAAAABBB5QQAAAAD0BmRBAAAAA6ThwUEAAAAAo+GhQQAAAJiga0VCAAAAAPQGpEEAAAAAZc3NQQAAAOCAPnFBAAAAAPQGdEEAAAAAsQiJQQAAAGC4E9pBAAAAYJ8GlUEAAACAt9C1QQAAAMDsT/xBAAAAAPQGlEEAAABAsBn+QVyPwgUEEJlBAAAAAGAPeEEAAAAAsQiZQQAAAAD0BnRBAAAAAAVUr0EAAAAAh3R9QQAAAABlze1BAAAAYLgT+kEAAAAAsQiZQQAAAADAXEVBAAAAQN1K30EAAACAgFp3QQAAgORs3dRBAAAAAPQGdEE=\",\"dtype\":\"float64\",\"order\":\"little\",\"shape\":[112]},\"TotalCoinsMined\":{\"__ndarray__\":\"2/m++oWsmUFmkFFyf2dwQQAAAFztBptBAAAAEAQqXEEAACi86D4FQgAAgMotKNlBjF0hSWmgh0GgX6nfEzZJQf32aMnKqw1CMPUDShPgqEEzMzOHh0eDQcd3iN7KZohBcSCmnaK6+UEAAADAuGaIQQAAADhjXYlBAAAAsGYMj0EAAADMeR3FQQAAAEBSNmpBAAAAwKUEZEEAAEizP9MeQmSJs90OxWNBAAAAoE7WZUHPZj/KfMECQgAAAABowFVBAAAAjGjlk0EAAABM3KGbQSqHXC4Y111BAAAAAGXNzUFRzfhP5t5cQQAAADDW/XhBAAAAgPtpVUEAAAAAwtktQQAAAADk2GFB6IGPcbKgPEEHCrzQHOxkQRx4lnltZ1pBAAAA2MWvcUEAAACAIglBQSGPoH1QPWdBAAAAAPhOY0FlCFbDn3WQQQAA3HtkPBVCqJ1rCiLeckEAAACk1MSfQZHbarH1jXFBAADAwZH22kEAAAAAO9NPQQAAANhbA45BAAAAYPECa0FLH6e/YrLgQQAAAKB7EGFBAz6g3h9q80FRe5nJp8hPQfmEbJHLZ3BBAAAACsK0wEEAAAAgzTSAQSlcj8LWUVhBAAAA4LFUaEEAAAC4nD9WQQAAAJLichpC6fCQBqC2vEE4+JX7JPURQgAAAACIKlFBAAAAhC0Mv0ESg2C58Uy6QVkXqs3vBRxCqQRZVX7vXUEAAADBjd6xQUTdB4OlumZBAAAAAHGwOEHFrxjPlu6fQSVzHEidlplB1SHF48Uvw0FESwPG0XVlQQAAAEqIhK1BdXWf684Vk0EAAAAAhNd3QRnCFtRZTGpBAAAAVDEDkUGDdGxa7RJ6QQAAAAC8jG5Bk0EJJOIXdEFEUX1tNnJTQQRTE+2nplpBAAAAAMCU9EAAAAAALkRyQQAAor2wOiNCg20UIDEyoEElyzPgHbHAQQAAAIAfWnFBOFBexWN9YEGotR8+EW5pQddG4emEt21BAAAAQESoUkF7Zgl2ANNRQQAAAIrVje9BAAAAQKQBakGQLFLGP9LbQZO4O1ApFThBx93xJ6g5bkEAAAAACrRpQTMzM7MvyRhBAAAAAGMEgUEAAAA4VPx3QQAAgPoBf+xBSAVkYldGdkG6qYxvxHmRQQAAAECdbUlBAAAAAITXl0H4eoiBgFp3QQAAgEGBNs1BAAAAYIbVW0E=\",\"dtype\":\"float64\",\"order\":\"little\",\"shape\":[112]}},\"selected\":{\"id\":\"1256\"},\"selection_policy\":{\"id\":\"1276\"}},\"id\":\"1255\",\"type\":\"ColumnDataSource\"},{\"attributes\":{\"fill_color\":{\"value\":\"#ff7e0e\"},\"line_color\":{\"value\":\"#ff7e0e\"},\"size\":{\"units\":\"screen\",\"value\":5.477225575051661},\"x\":{\"field\":\"TotalCoinsMined\"},\"y\":{\"field\":\"TotalCoinSupply\"}},\"id\":\"1218\",\"type\":\"Scatter\"},{\"attributes\":{\"bottom_units\":\"screen\",\"fill_alpha\":0.5,\"fill_color\":\"lightgrey\",\"left_units\":\"screen\",\"level\":\"overlay\",\"line_alpha\":1.0,\"line_color\":\"black\",\"line_dash\":[4,4],\"line_width\":2,\"right_units\":\"screen\",\"top_units\":\"screen\"},\"id\":\"1185\",\"type\":\"BoxAnnotation\"},{\"attributes\":{\"fill_alpha\":{\"value\":0.1},\"fill_color\":{\"value\":\"#2ba02b\"},\"line_alpha\":{\"value\":0.1},\"line_color\":{\"value\":\"#2ba02b\"},\"size\":{\"units\":\"screen\",\"value\":5.477225575051661},\"x\":{\"field\":\"TotalCoinsMined\"},\"y\":{\"field\":\"TotalCoinSupply\"}},\"id\":\"1238\",\"type\":\"Scatter\"},{\"attributes\":{\"fill_alpha\":{\"value\":0.2},\"fill_color\":{\"value\":\"#9367bc\"},\"line_alpha\":{\"value\":0.2},\"line_color\":{\"value\":\"#9367bc\"},\"size\":{\"units\":\"screen\",\"value\":5.477225575051661},\"x\":{\"field\":\"TotalCoinsMined\"},\"y\":{\"field\":\"TotalCoinSupply\"}},\"id\":\"1283\",\"type\":\"Scatter\"},{\"attributes\":{\"margin\":[5,5,5,5],\"name\":\"HSpacer01908\",\"sizing_mode\":\"stretch_width\"},\"id\":\"1155\",\"type\":\"Spacer\"},{\"attributes\":{\"fill_color\":{\"value\":\"#d62628\"},\"line_color\":{\"value\":\"#d62628\"},\"size\":{\"units\":\"screen\",\"value\":5.477225575051661},\"x\":{\"field\":\"TotalCoinsMined\"},\"y\":{\"field\":\"TotalCoinSupply\"}},\"id\":\"1258\",\"type\":\"Scatter\"},{\"attributes\":{\"source\":{\"id\":\"1215\"}},\"id\":\"1222\",\"type\":\"CDSView\"},{\"attributes\":{\"label\":{\"value\":\"1\"},\"renderers\":[{\"id\":\"1221\"}]},\"id\":\"1233\",\"type\":\"LegendItem\"},{\"attributes\":{\"source\":{\"id\":\"1197\"}},\"id\":\"1204\",\"type\":\"CDSView\"},{\"attributes\":{\"source\":{\"id\":\"1234\"}},\"id\":\"1241\",\"type\":\"CDSView\"},{\"attributes\":{},\"id\":\"1198\",\"type\":\"Selection\"},{\"attributes\":{},\"id\":\"1253\",\"type\":\"UnionRenderers\"},{\"attributes\":{\"fill_color\":{\"value\":\"#1f77b3\"},\"line_color\":{\"value\":\"#1f77b3\"},\"size\":{\"units\":\"screen\",\"value\":5.477225575051661},\"x\":{\"field\":\"TotalCoinsMined\"},\"y\":{\"field\":\"TotalCoinSupply\"}},\"id\":\"1200\",\"type\":\"Scatter\"},{\"attributes\":{\"overlay\":{\"id\":\"1185\"}},\"id\":\"1183\",\"type\":\"BoxZoomTool\"},{\"attributes\":{\"fill_color\":{\"value\":\"#9367bc\"},\"line_color\":{\"value\":\"#9367bc\"},\"size\":{\"units\":\"screen\",\"value\":5.477225575051661},\"x\":{\"field\":\"TotalCoinsMined\"},\"y\":{\"field\":\"TotalCoinSupply\"}},\"id\":\"1281\",\"type\":\"Scatter\"},{\"attributes\":{},\"id\":\"1279\",\"type\":\"Selection\"},{\"attributes\":{},\"id\":\"1170\",\"type\":\"LinearScale\"},{\"attributes\":{},\"id\":\"1256\",\"type\":\"Selection\"},{\"attributes\":{\"label\":{\"value\":\"0\"},\"renderers\":[{\"id\":\"1203\"}]},\"id\":\"1214\",\"type\":\"LegendItem\"},{\"attributes\":{},\"id\":\"1180\",\"type\":\"SaveTool\"},{\"attributes\":{\"data\":{\"Class\":[0,0,0,0,0,0,0,0,0,0,0,0,0,0,0,0,0,0,0,0,0,0,0,0,0,0,0,0,0,0,0,0,0,0,0,0,0,0,0,0,0,0,0,0,0,0,0,0,0,0,0,0,0,0,0,0,0,0,0,0,0,0,0,0,0,0,0,0,0,0,0,0,0,0,0,0,0,0,0,0,0,0,0,0,0,0,0,0,0,0,0,0,0,0,0,0,0,0,0,0,0,0,0,0,0,0,0,0,0,0,0,0,0,0,0,0,0,0,0,0,0,0,0,0,0,0,0,0,0,0,0,0,0,0,0,0,0,0,0,0,0,0,0,0,0,0,0,0,0,0,0,0,0,0,0,0,0,0,0,0,0,0,0,0,0,0,0,0,0,0,0,0,0,0,0,0,0,0,0,0,0,0,0,0,0,0,0,0,0,0,0,0,0,0,0,0,0,0,0,0,0,0,0,0,0,0,0,0,0,0,0,0,0,0,0,0,0,0,0,0,0,0,0,0,0,0,0,0,0,0,0,0,0,0,0,0,0,0,0,0,0,0,0,0,0,0,0,0,0,0,0,0,0,0,0,0,0,0,0,0,0,0,0,0,0,0,0,0,0,0,0,0,0,0,0,0,0,0,0,0,0,0,0,0,0,0,0,0,0,0,0,0,0,0,0,0,0,0,0,0,0,0,0,0,0,0,0,0,0,0,0],\"CoinName\":[\"42 Coin\",\"404Coin\",\"Bitcoin\",\"Litecoin\",\"Dash\",\"BitcoinDark\",\"ProsperCoin\",\"KoboCoin\",\"Spreadcoin\",\"Argentum\",\"Aurora Coin\",\"BlueCoin\",\"ZetaCoin\",\"SexCoin\",\"Quatloo\",\"EnergyCoin\",\"QuarkCoin\",\"Digitalcoin \",\"BitBar\",\"Catcoin\",\"CryptoBullion\",\"CannaCoin\",\"CryptCoin\",\"DevCoin\",\"EarthCoin\",\"E-Gulden\",\"Einsteinium\",\"Emerald\",\"Franko\",\"GrandCoin\",\"GlobalCoin\",\"GoldCoin\",\"HoboNickels\",\"Infinite Coin\",\"IOCoin\",\"IXcoin\",\"KrugerCoin\",\"LuckyCoin\",\"Litebar \",\"MaxCoin\",\"MegaCoin\",\"MinCoin\",\"MazaCoin\",\"NavCoin\",\"NobleCoin\",\"Namecoin\",\"NyanCoin\",\"OpalCoin\",\"Orbitcoin\",\"PotCoin\",\"PhoenixCoin\",\"Reddcoin\",\"RonPaulCoin\",\"StableCoin\",\"SmartCoin\",\"SyncCoin\",\"SysCoin\",\"TigerCoin\",\"TorCoin\",\"TerraCoin\",\"UnbreakableCoin\",\"Unobtanium\",\"UroCoin\",\"UnitaryStatus Dollar\",\"UltraCoin\",\"ViaCoin\",\"VeriCoin\",\"WorldCoin\",\"X11 Coin\",\"JouleCoin\",\"StealthCoin\",\"ZCC Coin\",\"MonaCoin\",\"Neutron\",\"Gulden\",\"PesetaCoin\",\"Kore\",\"Wild Beast Coin\",\"Flo\",\"8BIT Coin\",\"Sativa Coin\",\"ArtByte\",\"Folding Coin\",\"CypherPunkCoin\",\"OmniCron\",\"Vtorrent\",\"GreenCoin\",\"MasterCoin\",\"SoonCoin\",\"1Credit\",\"IslaCoin\",\"Nexus\",\"MarsCoin \",\"Anarchists Prime\",\"Droidz\",\"BowsCoin\",\"Song Coin\",\"BitZeny\",\"Paycon\",\"Emercoin\",\"EverGreenCoin\",\"MindCoin\",\"I0coin\",\"Revolution VR\",\"EDRCoin\",\"Hitcoin\",\"Gamecredits\",\"DubaiCoin\",\"CarpeDiemCoin\",\"BillaryCoin\",\"Adzcoin\",\"YoCoin\",\"SibCoin\",\"EuropeCoin\",\"SwingCoin\",\"Francs\",\"BolivarCoin\",\"Ratecoin\",\"Revenu\",\"Clockcoin\",\"BitSend\",\"Omni\",\"PutinCoin\",\"iBankCoin\",\"Frankywillcoin\",\"PizzaCoin\",\"GoldBlocks\",\"CarterCoin\",\"BitTokens\",\"ZayedCoin\",\"MustangCoin\",\"ZoneCoin\",\"RootCoin\",\"DopeCoin\",\"DollarCoin\",\"Swiscoin\",\"Shilling\",\"BuzzCoin\",\"PesoBit\",\"Halloween Coin\",\"GanjaCoin V2\",\"LanaCoin\",\"InsaneCoin\",\"KiloCoin\",\"ArtexCoin\",\"EmberCoin\",\"XenixCoin\",\"PLNCoin\",\"AquariusCoin\",\"Kurrent\",\"Eternity\",\"Eurocoin\",\"BitcoinFast\",\"Stakenet\",\"BitConnect Coin\",\"MoneyCoin\",\"Enigma\",\"Russiacoin\",\"GameUnits\",\"GAKHcoin\",\"LiteCreed\",\"OsmiumCoin\",\"Klingon Empire Darsek\",\"Internet of People\",\"KushCoin\",\"Printerium\",\"PacCoin\",\"Impeach\",\"FirstCoin\",\"BeaverCoin\",\"VaultCoin\",\"OpenChat\",\"Canada eCoin\",\"VirtacoinPlus\",\"Impact\",\"EB3coin\",\"HappyCoin\",\"Condensate\",\"Independent Money System\",\"ArgusCoin\",\"LomoCoin\",\"GoldReserve\",\"BenjiRolls\",\"ILCoin\",\"Degas Coin\",\"HTML5 Coin\",\"EquiTrader\",\"DigitalPrice\",\"Bitcoin Planet\",\"Unify\",\"BritCoin\",\"SocialCoin\",\"ArcticCoin\",\"DAS\",\"Linda\",\"DeepOnion\",\"Bitcore\",\"Onix\",\"Cream\",\"Bitcoin Cash\",\"Monoeci\",\"Vechain\",\"Sojourn Coin\",\"NewYorkCoin\",\"FrazCoin\",\"Kronecoin\",\"AdCoin\",\"Linx\",\"CoinonatX\",\"Ethereum Dark\",\"Regalcoin\",\"TrezarCoin\",\"Elements\",\"TerraNovaCoin\",\"WomenCoin\",\"Theresa May Coin\",\"LUXCoin\",\"Xios\",\"Bitcloud 2.0\",\"eBoost\",\"BlackholeCoin\",\"Pura\",\"Magnet\",\"Bitcoin Diamond\",\"Cash & Back Coin\",\"AC3\",\"GermanCoin\",\"LiteCoin Ultra\",\"PopularCoin\",\"PhantomX\",\"Sucre\",\"IrishCoin\",\"Trollcoin\",\"Litecoin Plus\",\"Pioneer Coin\",\"UnitedBitcoin\",\"My Big Coin\",\"MUNcoin\",\"Unified Society USDEX\",\"ShareChain\",\"LitecoinCash\",\"BitFlip\",\"LottoCoin\",\"Crypto Improvement Fund\",\"Pushi\",\"Ellerium\",\"Poseidon\",\"Briacoin\",\"Ignition\",\"Abjcoin\",\"FuturoCoin\",\"Carebit\",\"iDealCash\",\"KEYCO\",\"Swisscoin\",\"TheVig\",\"EmaratCoin\",\"Motion\",\"Axe\",\"Trivechain\",\"Giant\",\"HexCoin\",\"TPCash\",\"Urals Coin\",\"EUNO\",\"Project Pai\",\"Azart\",\"ThunderStake\",\"Kcash\",\"Xchange\",\"Bitcoin SV\",\"BitMoney\",\"HerbCoin\",\"Block-Logic\",\"Oduwa\",\"Galilel\",\"Credit\",\"SLICE\",\"Nasdacoin\",\"Beetle Coin\",\"Titan Coin\",\"Award\",\"BLAST\",\"Bitcoin Rhodium\",\"GlobalToken\",\"Insane Coin\",\"LiteDoge\",\"SolarCoin\",\"TruckCoin\",\"OrangeCoin\",\"BitstarCoin\",\"HyperCoin\",\"PinkCoin\",\"Crypto Escudo\",\"AudioCoin\",\"IncaKoin\",\"Piggy Coin\",\"Crown Coin\",\"Genstake\",\"SmileyCoin\",\"XiaoMiCoin\",\"CapriCoin\",\" ClubCoin\",\"Bata\",\"Pakcoin\",\"Creditbit \",\"OKCash\",\"WhiteCoin\",\"FriendshipCoin\",\"Triangles Coin\",\"Gapcoin\"],\"TotalCoinSupply\":{\"__ndarray__\":\"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\",\"dtype\":\"float64\",\"order\":\"little\",\"shape\":[311]},\"TotalCoinsMined\":{\"__ndarray__\":\"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\",\"dtype\":\"float64\",\"order\":\"little\",\"shape\":[311]}},\"selected\":{\"id\":\"1198\"},\"selection_policy\":{\"id\":\"1212\"}},\"id\":\"1197\",\"type\":\"ColumnDataSource\"},{\"attributes\":{\"fill_alpha\":{\"value\":0.1},\"fill_color\":{\"value\":\"#ff7e0e\"},\"line_alpha\":{\"value\":0.1},\"line_color\":{\"value\":\"#ff7e0e\"},\"size\":{\"units\":\"screen\",\"value\":5.477225575051661},\"x\":{\"field\":\"TotalCoinsMined\"},\"y\":{\"field\":\"TotalCoinSupply\"}},\"id\":\"1219\",\"type\":\"Scatter\"},{\"attributes\":{\"end\":1032416801156.6912,\"reset_end\":1032416801156.6912,\"reset_start\":-42428087675.042145,\"start\":-42428087675.042145,\"tags\":[[[\"TotalCoinsMined\",\"TotalCoinsMined\",null]]]},\"id\":\"1156\",\"type\":\"Range1d\"},{\"attributes\":{\"children\":[{\"id\":\"1155\"},{\"id\":\"1163\"},{\"id\":\"1447\"}],\"margin\":[0,0,0,0],\"name\":\"Row01904\",\"tags\":[\"embedded\"]},\"id\":\"1154\",\"type\":\"Row\"},{\"attributes\":{\"fill_alpha\":{\"value\":0.2},\"fill_color\":{\"value\":\"#d62628\"},\"line_alpha\":{\"value\":0.2},\"line_color\":{\"value\":\"#d62628\"},\"size\":{\"units\":\"screen\",\"value\":5.477225575051661},\"x\":{\"field\":\"TotalCoinsMined\"},\"y\":{\"field\":\"TotalCoinSupply\"}},\"id\":\"1260\",\"type\":\"Scatter\"},{\"attributes\":{\"source\":{\"id\":\"1278\"}},\"id\":\"1285\",\"type\":\"CDSView\"},{\"attributes\":{},\"id\":\"1177\",\"type\":\"BasicTicker\"}],\"root_ids\":[\"1154\"]},\"title\":\"Bokeh Application\",\"version\":\"2.1.0\"}};\n",
       "  var render_items = [{\"docid\":\"f3e5d034-85bf-4436-909d-0b012be637a4\",\"root_ids\":[\"1154\"],\"roots\":{\"1154\":\"a0f291e5-559a-4e16-b3f4-ab869124ea78\"}}];\n",
       "  root.Bokeh.embed.embed_items_notebook(docs_json, render_items);\n",
       "  }\n",
       "if (root.Bokeh !== undefined) {\n",
       "    embed_document(root);\n",
       "  } else {\n",
       "    var attempts = 0;\n",
       "    var timer = setInterval(function(root) {\n",
       "      if (root.Bokeh !== undefined) {\n",
       "        clearInterval(timer);\n",
       "        embed_document(root);\n",
       "      } else if (document.readyState == \"complete\") {\n",
       "        attempts++;\n",
       "        if (attempts > 100) {\n",
       "          clearInterval(timer);\n",
       "          console.log(\"Bokeh: ERROR: Unable to run BokehJS code because BokehJS library is missing\");\n",
       "        }\n",
       "      }\n",
       "    }, 10, root)\n",
       "  }\n",
       "})(window);</script>"
      ],
      "text/plain": [
       ":NdOverlay   [Class]\n",
       "   :Scatter   [TotalCoinsMined]   (TotalCoinSupply,CoinName)"
      ]
     },
     "execution_count": 42,
     "metadata": {
      "application/vnd.holoviews_exec.v0+json": {
       "id": "1154"
      }
     },
     "output_type": "execute_result"
    }
   ],
   "source": [
    "# Create a scatter plot using hvplot.scatter to present the clustered data about cryptocurrencies\n",
    "cluster_plot = clustered_df.hvplot.scatter(x=\"TotalCoinsMined\", y=\"TotalCoinSupply\", by=\"Class\", hover_cols=[\"CoinName\"], rot=45, title=\"Cryptocurrencies Mined vs. Supply\")\n",
    "\n",
    "cluster_plot"
   ]
  },
  {
   "cell_type": "code",
   "execution_count": null,
   "metadata": {},
   "outputs": [],
   "source": []
  }
 ],
 "metadata": {
  "kernelspec": {
   "display_name": "mlenv",
   "language": "python",
   "name": "mlenv"
  },
  "language_info": {
   "codemirror_mode": {
    "name": "ipython",
    "version": 3
   },
   "file_extension": ".py",
   "mimetype": "text/x-python",
   "name": "python",
   "nbconvert_exporter": "python",
   "pygments_lexer": "ipython3",
   "version": "3.7.7"
  }
 },
 "nbformat": 4,
 "nbformat_minor": 4
}
